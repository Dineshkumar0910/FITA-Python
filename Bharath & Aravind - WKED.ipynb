{
 "cells":[
  {
   "cell_type":"code",
   "source":[
    "#OOPS\n",
    "class Professor:\n",
    "    def __init__(self, name, gender, subject): #instance variables\n",
    "        self.name = name\n",
    "        self.gender = gender\n",
    "        self.subject = subject\n",
    "\n",
    "    def display(self):\n",
    "        print(\"Name:\",self.name,\"Gender:\",self.gender,\"Subject:\",self.subject)\n",
    "\n",
    "    def sub(self):\n",
    "        print(self.name,\"belongs to\",self.subject)\n",
    "\n",
    "prof = Professor(\"Dineshkumar\",\"Male\",\"Computer Science\")\n",
    "prof.display()\n",
    "prof.sub()"
   ],
   "execution_count":1,
   "outputs":[
    {
     "name":"stdout",
     "text":[
      "Name: Dineshkumar Gender: Male Subject: Computer Science\n",
      "Dineshkumar belongs to Computer Science\n"
     ],
     "output_type":"stream"
    }
   ],
   "metadata":{
    "datalore":{
     "node_id":"roCXkgrKmEBI5qzEG9VAvj",
     "type":"CODE",
     "hide_input_from_viewers":false,
     "hide_output_from_viewers":false
    }
   }
  },
  {
   "cell_type":"code",
   "source":[
    "class Student:\n",
    "    col_name = \"Anna University\" #class variables\n",
    "    def __init__(self,name,age):\n",
    "        self.name = name\n",
    "        self.age = age\n",
    "stu1 = Student(\"Lokesh\",21)\n",
    "print(\"Student:\",stu1.name,stu1.age) #inst var\n",
    "print(\"CollegeName:\",stu1.col_name) #class var\n",
    "\n",
    "stu1.name = \"Prakash\"\n",
    "stu1.age = 20\n",
    "stu1.col_name = \"SRM\"\n",
    "print(stu1.name,stu1.age,stu1.col_name)"
   ],
   "execution_count":2,
   "outputs":[
    {
     "name":"stdout",
     "text":[
      "Student: Lokesh 21\n",
      "CollegeName: Anna University\n",
      "Prakash 20 SRM\n"
     ],
     "output_type":"stream"
    }
   ],
   "metadata":{
    "datalore":{
     "node_id":"dOt3GF12LIeAHp082AEiwH",
     "type":"CODE",
     "hide_input_from_viewers":false,
     "hide_output_from_viewers":false
    }
   }
  },
  {
   "cell_type":"code",
   "source":[
    "class Student:\n",
    "    school_name = \"SBOA\"\n",
    "    def __init__(self,name,age):\n",
    "        self.name = name\n",
    "        self.age = age\n",
    "    def show(self): #instance method\n",
    "        print(\"Student\",self.name,self.age,self.school_name)\n",
    "    def change_age(self,new_age):\n",
    "        self.age = new_age\n",
    "    @classmethod\n",
    "    def change_school_name(cls,new_name):\n",
    "        cls.school_name = new_name\n",
    "\n",
    "stu = Student(\"Priya\",15)\n",
    "stu.show()\n",
    "stu.change_age(17) #object property change\n",
    "Student.change_school_name(\"Vellamal\")\n",
    "stu.show()\n",
    "#del stu.age --- deleting object property\n",
    "#print(stu.age)\n",
    "#del stu -- object deletion"
   ],
   "execution_count":3,
   "outputs":[
    {
     "name":"stdout",
     "text":[
      "Student Priya 15 SBOA\n",
      "Student Priya 17 Vellamal\n"
     ],
     "output_type":"stream"
    }
   ],
   "metadata":{
    "datalore":{
     "node_id":"RzGxlyTtp8JBfRG8BPL68D",
     "type":"CODE",
     "hide_input_from_viewers":false,
     "hide_output_from_viewers":false
    }
   }
  },
  {
   "cell_type":"code",
   "source":[
    "#Constructors\n",
    "class Fita:\n",
    "    def __init__(self,name): #parameterized contructor\n",
    "        print(\"This is constructor\")\n",
    "        self.name = name\n",
    "    def show(self):\n",
    "        print(\"My namme is:\",self.name)\n",
    "\n",
    "s1 = Fita(\"Dinesh\")\n",
    "s1.show()"
   ],
   "execution_count":4,
   "outputs":[
    {
     "name":"stdout",
     "text":[
      "This is constructor\n",
      "My namme is: Dinesh\n"
     ],
     "output_type":"stream"
    }
   ],
   "metadata":{
    "datalore":{
     "node_id":"DkiJDj2hiTZn8IK0E6nPBl",
     "type":"CODE",
     "hide_input_from_viewers":false,
     "hide_output_from_viewers":false
    }
   }
  },
  {
   "cell_type":"code",
   "source":[
    "class Fita:\n",
    "    def fun(self): #default constructor\n",
    "        print(\"Inside constructor\")\n",
    "\n",
    "F1 = Fita()\n",
    "F1.fun()"
   ],
   "execution_count":5,
   "outputs":[
    {
     "name":"stdout",
     "text":[
      "Inside constructor\n"
     ],
     "output_type":"stream"
    }
   ],
   "metadata":{
    "datalore":{
     "node_id":"8c2zJ9ImzFy7WXQ12g7tGB",
     "type":"CODE",
     "hide_input_from_viewers":false,
     "hide_output_from_viewers":false
    }
   }
  },
  {
   "cell_type":"code",
   "source":[
    "class Fita:\n",
    "    def __init__(self): #Non-parameterizxed constructor\n",
    "        self.name = \"Python\"\n",
    "        self.day = \"Saturday\"\n",
    "    def show(self):\n",
    "        print(\"Course Name\",self.name,\"Batch:\",self.day)\n",
    "    \n",
    "F2 = Fita()\n",
    "F2.show()"
   ],
   "execution_count":7,
   "outputs":[
    {
     "name":"stdout",
     "text":[
      "Course Name Python Batch: Saturday\n"
     ],
     "output_type":"stream"
    }
   ],
   "metadata":{
    "datalore":{
     "node_id":"VNFTmirD5mf5CiDTzqedmG",
     "type":"CODE",
     "hide_input_from_viewers":false,
     "hide_output_from_viewers":false
    }
   }
  },
  {
   "cell_type":"code",
   "source":[
    "class Fita:\n",
    "    def __init__(self,cour_name= \"Python\", day=\"Saturday\"): #Contructor witj default values\n",
    "        self.cour_name = cour_name\n",
    "        self.day = day\n",
    "    def show(self):\n",
    "        print(\"Course Name\",self.cour_name,\"Batch:\",self.day)\n",
    "    def __del__(self): #destructor\n",
    "        print(\"object deleted\")\n",
    "F2 = Fita()\n",
    "F2.show()\n",
    "del F2\n",
    "F2.show()"
   ],
   "execution_count":10,
   "outputs":[
    {
     "name":"stdout",
     "text":[
      "Course Name Python Batch: Saturday\n",
      "object deleted\n"
     ],
     "output_type":"stream"
    },
    {
     "ename":"NameError",
     "evalue":"NameError: name 'F2' is not defined",
     "traceback":[
      "\u001b[0;31m---------------------------------------------------------------------------",
      "Traceback (most recent call last)",
      "    at line 12 in <module>",
      "NameError: name 'F2' is not defined"
     ],
     "output_type":"error"
    }
   ],
   "metadata":{
    "datalore":{
     "node_id":"HfvXugPJEPmaBwkTm7jtLL",
     "type":"CODE",
     "hide_input_from_viewers":false,
     "hide_output_from_viewers":false
    }
   }
  }
 ],
 "metadata":{
  "kernelspec":{
   "display_name":"Python",
   "language":"python",
   "name":"python"
  },
  "datalore":{
   "version":1,
   "computation_mode":"REACTIVE",
   "package_manager":"pip",
   "base_environment":"default",
   "packages":[
    
   ]
  }
 },
 "nbformat":4,
 "nbformat_minor":4
}