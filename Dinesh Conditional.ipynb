{
 "cells": [
  {
   "cell_type": "code",
   "execution_count": 2,
   "id": "841e702a-e28d-44f1-b137-b11673ba9eda",
   "metadata": {},
   "outputs": [],
   "source": [
    "a = 10\n",
    "\n",
    "if(a>15):\n",
    "    print(\"a is lesser\")"
   ]
  },
  {
   "cell_type": "code",
   "execution_count": 4,
   "id": "dc8104a5-af4c-4347-a730-a5884ebf41f8",
   "metadata": {},
   "outputs": [
    {
     "name": "stdout",
     "output_type": "stream",
     "text": [
      "a is lesser\n"
     ]
    }
   ],
   "source": [
    "a = 10\n",
    "\n",
    "if(a>15):\n",
    "    print(\"a is greater\")\n",
    "else:\n",
    "    print(\"a is lesser\")"
   ]
  },
  {
   "cell_type": "code",
   "execution_count": 7,
   "id": "2ac9e99d-82b0-4fc0-8625-35b14fd8da62",
   "metadata": {},
   "outputs": [
    {
     "name": "stdout",
     "output_type": "stream",
     "text": [
      "this is not correct\n"
     ]
    }
   ],
   "source": [
    "#Nested if\n",
    "x = 40\n",
    "if(x == 60):\n",
    "    if(x < 50):\n",
    "        print(\"x is lesser\")\n",
    "    else:\n",
    "        print(\"x is greater\")\n",
    "else:\n",
    "    print(\"this is not correct\")"
   ]
  },
  {
   "cell_type": "code",
   "execution_count": 8,
   "id": "23c64210-dd5e-4f6a-b18a-761bcbbf105f",
   "metadata": {},
   "outputs": [
    {
     "name": "stdout",
     "output_type": "stream",
     "text": [
      "It is 20\n"
     ]
    }
   ],
   "source": [
    "x = 20\n",
    "if(x == 10):\n",
    "    print(\"It is 10\")\n",
    "elif(x == 20):\n",
    "    print(\"It is 20\")\n",
    "elif(x == 30):\n",
    "    print(\"It is 30\")"
   ]
  },
  {
   "cell_type": "code",
   "execution_count": 9,
   "id": "fa3e0d7f-c728-4156-87ef-76fb19a07ad2",
   "metadata": {},
   "outputs": [
    {
     "name": "stdout",
     "output_type": "stream",
     "text": [
      "True\n"
     ]
    }
   ],
   "source": [
    "x= 10\n",
    "print(True) if x <15 else print(False)"
   ]
  },
  {
   "cell_type": "code",
   "execution_count": 12,
   "id": "f67c9619-f7d1-4c86-bad8-39d8ed31a9c1",
   "metadata": {},
   "outputs": [
    {
     "name": "stdout",
     "output_type": "stream",
     "text": [
      "python\n",
      "saturday\n",
      "evening\n"
     ]
    }
   ],
   "source": [
    "#For - for var in iterate\n",
    "li = [\"python\",\"saturday\",\"evening\"]\n",
    "for x in li:\n",
    "    print(x)"
   ]
  },
  {
   "cell_type": "code",
   "execution_count": 13,
   "id": "b678128a-cd88-46a3-af12-33d2d61ca2ff",
   "metadata": {},
   "outputs": [
    {
     "name": "stdout",
     "output_type": "stream",
     "text": [
      "F\n",
      "I\n",
      "T\n",
      "A\n",
      " \n",
      "A\n",
      "C\n",
      "A\n",
      "D\n",
      "E\n",
      "M\n",
      "Y\n"
     ]
    }
   ],
   "source": [
    "S = \"FITA ACADEMY\"\n",
    "for x in S:\n",
    "    print(x)"
   ]
  },
  {
   "cell_type": "code",
   "execution_count": 14,
   "id": "85079a8b-d35d-4e63-aeb1-e8ad90bef9b3",
   "metadata": {},
   "outputs": [
    {
     "name": "stdout",
     "output_type": "stream",
     "text": [
      "Letter is F\n",
      "Letter is I\n",
      "Letter is T\n",
      "Letter is  \n",
      "Letter is C\n",
      "Letter is D\n",
      "Letter is M\n",
      "Letter is Y\n"
     ]
    }
   ],
   "source": [
    "for l in \"FITA ACADEMY\":\n",
    "    if l == 'A' or l == 'E':\n",
    "        continue\n",
    "    print(\"Letter is\", l)"
   ]
  },
  {
   "cell_type": "code",
   "execution_count": 15,
   "id": "c186f9e1-f22d-48c7-886c-85a2f06a6921",
   "metadata": {},
   "outputs": [
    {
     "name": "stdout",
     "output_type": "stream",
     "text": [
      "Letter is F\n",
      "Letter is I\n",
      "Letter is T\n"
     ]
    }
   ],
   "source": [
    "for l in \"FITA ACADEMY\":\n",
    "    if l == 'A' or l == 'E':\n",
    "        break\n",
    "    print(\"Letter is\", l)"
   ]
  },
  {
   "cell_type": "code",
   "execution_count": 18,
   "id": "eb1d7c0c-13a5-4c4f-a4ef-fbf35097df0d",
   "metadata": {},
   "outputs": [],
   "source": [
    "for l in \"FITA ACADEMY\":\n",
    "    pass"
   ]
  },
  {
   "cell_type": "code",
   "execution_count": 19,
   "id": "ca2a1e61-19b8-4ab8-9573-f6020e870682",
   "metadata": {},
   "outputs": [
    {
     "name": "stdout",
     "output_type": "stream",
     "text": [
      "0 1 2 3 4 5 6 7 8 9 10 11 "
     ]
    }
   ],
   "source": [
    "for i in range(12):\n",
    "    print(i, end = \" \")"
   ]
  },
  {
   "cell_type": "code",
   "execution_count": 20,
   "id": "fb8e48dc-5446-4a51-ac60-5e52d5f8372a",
   "metadata": {},
   "outputs": [
    {
     "name": "stdout",
     "output_type": "stream",
     "text": [
      "5 6 7 8 9 10 11 "
     ]
    }
   ],
   "source": [
    "for i in range(5,12):\n",
    "    print(i, end = \" \")"
   ]
  },
  {
   "cell_type": "code",
   "execution_count": 21,
   "id": "3a5c8665-d5a3-4a7e-b047-065b5f759f84",
   "metadata": {},
   "outputs": [
    {
     "name": "stdout",
     "output_type": "stream",
     "text": [
      "0\n",
      "1\n",
      "2\n",
      "3\n",
      "4\n",
      "this is for else\n"
     ]
    }
   ],
   "source": [
    "for i in range(5):\n",
    "    print(i)\n",
    "else:\n",
    "    print(\"this is for else\")"
   ]
  },
  {
   "cell_type": "code",
   "execution_count": 24,
   "id": "79681e9a-dfa8-4701-a478-57fb2096a699",
   "metadata": {},
   "outputs": [
    {
     "name": "stdout",
     "output_type": "stream",
     "text": [
      "FITA\n",
      "FITA\n",
      "FITA\n",
      "FITA\n",
      "FITA\n"
     ]
    }
   ],
   "source": [
    "#while\n",
    "a = 0\n",
    "while(a <5):\n",
    "    print(\"FITA\")\n",
    "    a = a+1"
   ]
  },
  {
   "cell_type": "code",
   "execution_count": 29,
   "id": "93a8ba4a-61bb-4e9f-9042-33d6514901c2",
   "metadata": {},
   "outputs": [
    {
     "name": "stdout",
     "output_type": "stream",
     "text": [
      "current letter is p\n",
      "current letter is y\n",
      "current letter is t\n",
      "current letter is h\n",
      "current letter is o\n",
      "current letter is n\n",
      "current letter is  \n",
      "current letter is l\n",
      "current letter is a\n"
     ]
    }
   ],
   "source": [
    "a = 0\n",
    "s = \"python class\"\n",
    "while a<len(s):\n",
    "    if s[a] == 'c' or s[a] == 's':\n",
    "        a+= 1\n",
    "        continue\n",
    "    print(\"current letter is\",s[a])\n",
    "    a+=1"
   ]
  },
  {
   "cell_type": "code",
   "execution_count": 30,
   "id": "f558145d-3c00-48d2-9140-27903078671e",
   "metadata": {},
   "outputs": [
    {
     "name": "stdout",
     "output_type": "stream",
     "text": [
      "current letter is p\n",
      "current letter is y\n",
      "current letter is t\n",
      "current letter is h\n",
      "current letter is o\n",
      "current letter is n\n",
      "current letter is  \n"
     ]
    }
   ],
   "source": [
    "a = 0\n",
    "s = \"python class\"\n",
    "while a<len(s):\n",
    "    if s[a] == 'c' or s[a] == 's':\n",
    "        a+= 1\n",
    "        break\n",
    "    print(\"current letter is\",s[a])\n",
    "    a+=1"
   ]
  },
  {
   "cell_type": "code",
   "execution_count": 31,
   "id": "9f73ef1b-6eac-4a11-8914-16bd55c77d10",
   "metadata": {},
   "outputs": [
    {
     "name": "stdin",
     "output_type": "stream",
     "text": [
      "enter the lower: 0\n",
      "enter the upper: 10\n"
     ]
    },
    {
     "name": "stdout",
     "output_type": "stream",
     "text": [
      "0\n",
      "2\n",
      "4\n",
      "6\n",
      "8\n",
      "10\n"
     ]
    }
   ],
   "source": [
    "#Even numbers using for\n",
    "n1 = int(input(\"enter the lower:\"))\n",
    "n2 = int(input(\"enter the upper:\"))\n",
    "\n",
    "for i in range(n1,n2+1):\n",
    "    if(i % 2 == 0):\n",
    "        print(i)"
   ]
  },
  {
   "cell_type": "code",
   "execution_count": 32,
   "id": "3ab52c93-93d4-4a9d-ac55-2e528e38a45c",
   "metadata": {},
   "outputs": [
    {
     "name": "stdin",
     "output_type": "stream",
     "text": [
      "enter the lower: 0\n",
      "enter the upper: 10\n"
     ]
    },
    {
     "name": "stdout",
     "output_type": "stream",
     "text": [
      "1\n",
      "3\n",
      "5\n",
      "7\n",
      "9\n"
     ]
    }
   ],
   "source": [
    "n1 = int(input(\"enter the lower:\"))\n",
    "n2 = int(input(\"enter the upper:\"))\n",
    "\n",
    "for i in range(n1,n2+1):\n",
    "    if(i % 2 != 0):\n",
    "        print(i)"
   ]
  },
  {
   "cell_type": "code",
   "execution_count": 36,
   "id": "56eceea9-d99e-4370-b287-d3605c4eb4ee",
   "metadata": {},
   "outputs": [
    {
     "name": "stdin",
     "output_type": "stream",
     "text": [
      "enter the n: 11311\n"
     ]
    },
    {
     "name": "stdout",
     "output_type": "stream",
     "text": [
      "It is palindrome\n"
     ]
    }
   ],
   "source": [
    "#palindrome -- AMMA\n",
    "n = int(input(\"enter the n:\"))\n",
    "t = n\n",
    "a = 0\n",
    "while(n>0):\n",
    "    d = n%10\n",
    "    a = a*10+d\n",
    "    n = n//10\n",
    "if(t==a):\n",
    "    print(\"It is palindrome\")\n",
    "else:\n",
    "    print(\"It is not palindrome\")"
   ]
  },
  {
   "cell_type": "code",
   "execution_count": 38,
   "id": "deaee757-49da-43ac-9111-140246075b5f",
   "metadata": {},
   "outputs": [
    {
     "name": "stdin",
     "output_type": "stream",
     "text": [
      "enter the n: 123456\n"
     ]
    },
    {
     "name": "stdout",
     "output_type": "stream",
     "text": [
      "reverse n is: 654321\n"
     ]
    }
   ],
   "source": [
    "#reverse\n",
    "n = int(input(\"enter the n:\"))\n",
    "a = 0\n",
    "while(n>0):\n",
    "    d = n%10\n",
    "    a = a*10+d\n",
    "    n = n//10\n",
    "print(\"reverse n is:\",a)"
   ]
  },
  {
   "cell_type": "code",
   "execution_count": 39,
   "id": "40d92efa-6f85-4b38-bc16-1acd634002f2",
   "metadata": {},
   "outputs": [
    {
     "name": "stdin",
     "output_type": "stream",
     "text": [
      "enter the n: 4\n"
     ]
    },
    {
     "name": "stdout",
     "output_type": "stream",
     "text": [
      "4 x 1 = 4\n",
      "4 x 2 = 8\n",
      "4 x 3 = 12\n",
      "4 x 4 = 16\n",
      "4 x 5 = 20\n",
      "4 x 6 = 24\n",
      "4 x 7 = 28\n",
      "4 x 8 = 32\n",
      "4 x 9 = 36\n",
      "4 x 10 = 40\n"
     ]
    }
   ],
   "source": [
    "n = int(input(\"enter the n:\"))\n",
    "for i in range(1,11):\n",
    "    print(n,\"x\",i,\"=\",n*i)"
   ]
  },
  {
   "cell_type": "code",
   "execution_count": 43,
   "id": "74662da0-9d99-4a16-bca2-b12b4038c8ed",
   "metadata": {},
   "outputs": [
    {
     "name": "stdin",
     "output_type": "stream",
     "text": [
      "enter the n: 5\n"
     ]
    },
    {
     "name": "stdout",
     "output_type": "stream",
     "text": [
      "*****\n",
      " ****\n",
      "  ***\n",
      "   **\n",
      "    *\n"
     ]
    }
   ],
   "source": [
    "n = int(input(\"enter the n:\"))\n",
    "for i in range(n,0,-1):\n",
    "    print((n-i) * ' '+i *'*')"
   ]
  },
  {
   "cell_type": "code",
   "execution_count": 44,
   "id": "daed9718-babf-4637-8b9e-5fe0e2b78cbe",
   "metadata": {},
   "outputs": [
    {
     "name": "stdin",
     "output_type": "stream",
     "text": [
      "enter the n: 7\n"
     ]
    },
    {
     "name": "stdout",
     "output_type": "stream",
     "text": [
      "* \n",
      "* * \n",
      "* * * \n",
      "* * * * \n",
      "* * * * * \n",
      "* * * * * * \n",
      "* * * * * * * \n"
     ]
    }
   ],
   "source": [
    "n = int(input(\"enter the n:\"))\n",
    "for i in range(0,n):\n",
    "    for j in range(0, i+1):\n",
    "        print('*', end = ' ')\n",
    "    print(\"\\r\")"
   ]
  }
 ],
 "metadata": {
  "kernelspec": {
   "display_name": "Python 3 (ipykernel)",
   "language": "python",
   "name": "python3"
  },
  "language_info": {
   "codemirror_mode": {
    "name": "ipython",
    "version": 3
   },
   "file_extension": ".py",
   "mimetype": "text/x-python",
   "name": "python",
   "nbconvert_exporter": "python",
   "pygments_lexer": "ipython3",
   "version": "3.9.7"
  }
 },
 "nbformat": 4,
 "nbformat_minor": 5
}
