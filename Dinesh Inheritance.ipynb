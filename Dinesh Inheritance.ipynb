{
 "cells": [
  {
   "cell_type": "code",
   "execution_count": null,
   "id": "09936e0d-2e7e-4ac3-8294-cf47c027ba22",
   "metadata": {},
   "outputs": [],
   "source": [
    "'''Inheritance\n",
    "Single Inheritance\n",
    "Mulitple\n",
    "Multilevel\n",
    "Hierarchical"
   ]
  },
  {
   "cell_type": "code",
   "execution_count": 1,
   "id": "db8056f3-5c60-4cd8-a12e-32f0ccdccc4d",
   "metadata": {},
   "outputs": [
    {
     "name": "stdout",
     "output_type": "stream",
     "text": [
      "This is parent Teachers class\n",
      "This is student child class\n"
     ]
    }
   ],
   "source": [
    "class Teachers:\n",
    "    def funt(self):\n",
    "        print(\"This is parent Teachers class\")\n",
    "        \n",
    "class Student(Teachers): #child class derive\n",
    "    def funs(self):\n",
    "        print(\"This is student child class\")\n",
    "\n",
    "Stu = Student()\n",
    "Stu.funt()\n",
    "Stu.funs()"
   ]
  },
  {
   "cell_type": "code",
   "execution_count": 5,
   "id": "597e9c81-a890-4cd4-8cad-1059e2bf462e",
   "metadata": {},
   "outputs": [
    {
     "name": "stdout",
     "output_type": "stream",
     "text": [
      "Parent name is Selvan\n",
      "Teacher name is Nantha\n"
     ]
    }
   ],
   "source": [
    "class Parents:\n",
    "    Pname = \"\"\n",
    "    def par(self):\n",
    "        print(self.Pname)\n",
    "class Teachers:\n",
    "    Tname = \"\"\n",
    "    def tea(self):\n",
    "        print(self.Tname)\n",
    "    \n",
    "class Student(Parents,Teachers):\n",
    "    def stu(self):\n",
    "        print(\"Parent name is\", self.Pname)\n",
    "        print(\"Teacher name is\", self.Tname)\n",
    "        \n",
    "St = Student()\n",
    "St.Pname = \"Selvan\"\n",
    "St.Tname = \"Nantha\"\n",
    "St.stu()"
   ]
  },
  {
   "cell_type": "code",
   "execution_count": 8,
   "id": "f60ef1f3-50b0-482a-bbbc-0671a7f3218b",
   "metadata": {},
   "outputs": [
    {
     "name": "stdout",
     "output_type": "stream",
     "text": [
      "Dinesh 29 Chennai\n"
     ]
    }
   ],
   "source": [
    "#Multilevel\n",
    "class Teachers:\n",
    "    def __init__(self,name):\n",
    "        self.name = name\n",
    "    def getName(self):\n",
    "        return self.name\n",
    "class Parents(Teachers): #deriving from Teachers\n",
    "    def __init__(self,name,age):\n",
    "        Teachers. __init__(self,name)\n",
    "        self.age = age\n",
    "    def getAge(self):\n",
    "        return self.age\n",
    "\n",
    "class Student(Parents): #derving from Parents\n",
    "    def __init__(self,name,age,loc):\n",
    "        Parents. __init__(self,name,age)\n",
    "        self.loc = loc\n",
    "    def getLoc(self):\n",
    "        return self.loc\n",
    "    \n",
    "S = Student(\"Dinesh\", 29, \"Chennai\")\n",
    "print(S.getName(), S.getAge(), S.getLoc())"
   ]
  },
  {
   "cell_type": "code",
   "execution_count": 9,
   "id": "66d91abf-a7f8-43e8-bf0b-042292ca78cd",
   "metadata": {},
   "outputs": [
    {
     "name": "stdout",
     "output_type": "stream",
     "text": [
      "This is Cricket\n",
      "This is  Sachin Tendulkar\n",
      "This is Cricket\n",
      "This is  Virat Kohli\n"
     ]
    }
   ],
   "source": [
    "class Cricket:\n",
    "    def info(self):\n",
    "        print(\"This is Cricket\")\n",
    "        \n",
    "class Sachin(Cricket):\n",
    "    def sac(self, name):\n",
    "        print(\"This is \", name)\n",
    "\n",
    "class Kohli(Cricket):\n",
    "    def koh(self, name):\n",
    "        print(\"This is \", name)\n",
    "        \n",
    "sa = Sachin()\n",
    "sa.info()\n",
    "sa.sac(\"Sachin Tendulkar\")\n",
    "\n",
    "ko = Kohli()\n",
    "ko.info()\n",
    "ko.koh(\"Virat Kohli\")"
   ]
  },
  {
   "cell_type": "code",
   "execution_count": 13,
   "id": "7894b51e-d7fb-4cf2-a50c-02a114f54d02",
   "metadata": {},
   "outputs": [
    {
     "name": "stdout",
     "output_type": "stream",
     "text": [
      "This is Cricket\n",
      "This is  Sachin\n",
      "This is  Kohli\n",
      "Both are best\n"
     ]
    }
   ],
   "source": [
    "class Cricket:\n",
    "    def info(self):\n",
    "        print(\"This is Cricket\")\n",
    "        \n",
    "class Sachin(Cricket):\n",
    "    def sac(self, name):\n",
    "        print(\"This is \", name)\n",
    "\n",
    "class Kohli(Cricket):\n",
    "    def koh(self, name):\n",
    "        print(\"This is \", name)\n",
    "        \n",
    "class Best(Sachin, Kohli):\n",
    "    def be(self):\n",
    "        print(\"Both are best\")\n",
    "        \n",
    "bes = Best()\n",
    "bes.info()\n",
    "bes.sac(\"Sachin\")\n",
    "bes.koh(\"Kohli\")\n",
    "bes.be()"
   ]
  },
  {
   "cell_type": "code",
   "execution_count": null,
   "id": "bab8976d-b2b8-4728-8a1b-ef78c0044994",
   "metadata": {},
   "outputs": [],
   "source": []
  }
 ],
 "metadata": {
  "kernelspec": {
   "display_name": "Python 3 (ipykernel)",
   "language": "python",
   "name": "python3"
  },
  "language_info": {
   "codemirror_mode": {
    "name": "ipython",
    "version": 3
   },
   "file_extension": ".py",
   "mimetype": "text/x-python",
   "name": "python",
   "nbconvert_exporter": "python",
   "pygments_lexer": "ipython3",
   "version": "3.9.7"
  }
 },
 "nbformat": 4,
 "nbformat_minor": 5
}
