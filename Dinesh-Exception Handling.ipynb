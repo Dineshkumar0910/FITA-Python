{
 "cells": [
  {
   "cell_type": "code",
   "execution_count": null,
   "id": "3a6957c9-42f5-4dcb-b24c-733ef2e34247",
   "metadata": {},
   "outputs": [],
   "source": [
    "#try\n",
    "#except\n",
    "#finally"
   ]
  },
  {
   "cell_type": "code",
   "execution_count": 4,
   "id": "d6df3b59-90cc-49a0-9bfb-9518f96535a9",
   "metadata": {},
   "outputs": [
    {
     "name": "stdin",
     "output_type": "stream",
     "text": [
      "enter n1 3\n",
      "enter n2 1\n"
     ]
    },
    {
     "name": "stdout",
     "output_type": "stream",
     "text": [
      "3.0\n"
     ]
    }
   ],
   "source": [
    "try:\n",
    "    n1 = int(input(\"enter n1\"))\n",
    "    n2 = int(input(\"enter n2\"))\n",
    "    \n",
    "    res = n1/n2\n",
    "    print(res)\n",
    "except ValueError as e:\n",
    "    print(\"invalid\")\n",
    "except ZeroDivisionError as e:\n",
    "    print(e)"
   ]
  },
  {
   "cell_type": "code",
   "execution_count": 8,
   "id": "23bd1aeb-5514-4fe2-9b11-74912b9b7701",
   "metadata": {},
   "outputs": [
    {
     "name": "stdin",
     "output_type": "stream",
     "text": [
      "enter the n 323.vswrvw\n"
     ]
    },
    {
     "name": "stdout",
     "output_type": "stream",
     "text": [
      "invalid input\n"
     ]
    },
    {
     "name": "stdin",
     "output_type": "stream",
     "text": [
      "enter the n 2\n"
     ]
    },
    {
     "name": "stdout",
     "output_type": "stream",
     "text": [
      "2\n"
     ]
    }
   ],
   "source": [
    "while True:\n",
    "    try:\n",
    "        n = int(input(\"enter the n\"))\n",
    "        print(n)\n",
    "        break\n",
    "    except ValueError as e:\n",
    "        print(\"invalid input\")"
   ]
  },
  {
   "cell_type": "code",
   "execution_count": 16,
   "id": "776ee629-6131-4581-aa81-ffe66dffd7be",
   "metadata": {},
   "outputs": [
    {
     "name": "stdin",
     "output_type": "stream",
     "text": [
      "enter id(1-5): 2\n"
     ]
    },
    {
     "name": "stdout",
     "output_type": "stream",
     "text": [
      "your name is loki and ur id is 2\n",
      "There is no exception\n",
      "This will be executed at any\n"
     ]
    }
   ],
   "source": [
    "try:\n",
    "    emp = [\"dinesh\",\"loki\",\"babu\",\"sankar\"]\n",
    "    id = int(input(\"enter id(1-5):\"))\n",
    "    print(\"your name is\", emp[id - 1], \"and ur id is\",id) \n",
    "    \n",
    "except ValueError as e:\n",
    "    print(e)\n",
    "except IndexError as e:\n",
    "    print(e)\n",
    "else:\n",
    "    print(\"There is no exception\")\n",
    "finally:\n",
    "    print(\"This will be executed at any\")"
   ]
  },
  {
   "cell_type": "code",
   "execution_count": 21,
   "id": "38771d16-440d-41b6-a308-6053b1b9403e",
   "metadata": {},
   "outputs": [],
   "source": [
    "def fun(m):\n",
    "    while(True):\n",
    "        try:\n",
    "            k=int(input(m))\n",
    "            return k\n",
    "            if (k<0):\n",
    "                raise(Exception(\"this is exception\"))\n",
    "                print(k)\n",
    "        except ValueError as e:\n",
    "            print(\"give only numbers:\")          "
   ]
  },
  {
   "cell_type": "code",
   "execution_count": null,
   "id": "f12f72b6-bdbc-4ded-a915-b9ece1e96e18",
   "metadata": {},
   "outputs": [],
   "source": []
  }
 ],
 "metadata": {
  "kernelspec": {
   "display_name": "Python 3 (ipykernel)",
   "language": "python",
   "name": "python3"
  },
  "language_info": {
   "codemirror_mode": {
    "name": "ipython",
    "version": 3
   },
   "file_extension": ".py",
   "mimetype": "text/x-python",
   "name": "python",
   "nbconvert_exporter": "python",
   "pygments_lexer": "ipython3",
   "version": "3.9.7"
  }
 },
 "nbformat": 4,
 "nbformat_minor": 5
}
