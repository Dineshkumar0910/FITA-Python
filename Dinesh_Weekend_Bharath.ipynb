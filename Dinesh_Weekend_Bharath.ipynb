{
 "cells": [
  {
   "cell_type": "code",
   "execution_count": 1,
   "id": "64c00a75-985d-4d13-b679-2269a42e2af5",
   "metadata": {},
   "outputs": [
    {
     "name": "stdout",
     "output_type": "stream",
     "text": [
      "5 3 4\n"
     ]
    }
   ],
   "source": [
    "a,b,c = 5,3,4 #variable assignment\n",
    "print(a,b,c) #printing the variables"
   ]
  },
  {
   "cell_type": "code",
   "execution_count": 2,
   "id": "bc8252e3-7d7f-49a5-8f33-4dfe0abeb69d",
   "metadata": {},
   "outputs": [
    {
     "name": "stdin",
     "output_type": "stream",
     "text": [
      " 50\n"
     ]
    },
    {
     "name": "stdout",
     "output_type": "stream",
     "text": [
      "50\n"
     ]
    }
   ],
   "source": [
    "a = input() #getting the input from user\n",
    "print(a)"
   ]
  },
  {
   "cell_type": "code",
   "execution_count": 3,
   "id": "58143f87-4fa9-4e23-bd8f-1e2d57e8dd2f",
   "metadata": {},
   "outputs": [
    {
     "name": "stdout",
     "output_type": "stream",
     "text": [
      "12 2 12 1.25 1\n"
     ]
    }
   ],
   "source": [
    "#Arithmetic operators\n",
    "a,b,c = 5,3,4\n",
    "d = a + b + c\n",
    "e = a - b\n",
    "f = b * c\n",
    "g = a / c\n",
    "h = a % c\n",
    "print(d, e, f, g, h)"
   ]
  },
  {
   "cell_type": "code",
   "execution_count": 7,
   "id": "d1be58b6-b5b4-4a73-bef5-a0aebeea4fbe",
   "metadata": {},
   "outputs": [
    {
     "name": "stdout",
     "output_type": "stream",
     "text": [
      "False\n",
      "True\n",
      "False\n",
      "True\n",
      "False\n",
      "True\n"
     ]
    }
   ],
   "source": [
    "#comparison operators\n",
    "print(a == d)\n",
    "print(b < c)\n",
    "print(c > f)\n",
    "print(g <= a)\n",
    "print(h >= b)\n",
    "print(b != d)"
   ]
  },
  {
   "cell_type": "code",
   "execution_count": 4,
   "id": "a475265b-275c-41b6-a757-26354e264a0f",
   "metadata": {},
   "outputs": [
    {
     "name": "stdout",
     "output_type": "stream",
     "text": [
      "False\n",
      "True\n"
     ]
    }
   ],
   "source": [
    "a,b,c = \"python\", \"fita\", \"academy\"\n",
    "print(a == b)\n",
    "print(a >= b)"
   ]
  },
  {
   "cell_type": "code",
   "execution_count": 7,
   "id": "b1a5a4e3-ac28-4065-8044-361a1eaf3caf",
   "metadata": {},
   "outputs": [
    {
     "name": "stdout",
     "output_type": "stream",
     "text": [
      "<class 'bool'>\n",
      "<class 'int'>\n",
      "<class 'str'>\n",
      "<class 'float'>\n"
     ]
    }
   ],
   "source": [
    "#Conditional execution\n",
    "print(type(True))\n",
    "print(type(3))\n",
    "print(type(\"python\"))\n",
    "print(type(45.1))"
   ]
  },
  {
   "cell_type": "code",
   "execution_count": 10,
   "id": "21b8ec96-35eb-4fda-8212-5c4da297d66c",
   "metadata": {},
   "outputs": [
    {
     "data": {
      "text/plain": [
       "1"
      ]
     },
     "execution_count": 10,
     "metadata": {},
     "output_type": "execute_result"
    }
   ],
   "source": [
    "1 and 1"
   ]
  },
  {
   "cell_type": "code",
   "execution_count": 11,
   "id": "60febce2-8e9a-4316-a430-b75db5aec96a",
   "metadata": {},
   "outputs": [
    {
     "data": {
      "text/plain": [
       "1"
      ]
     },
     "execution_count": 11,
     "metadata": {},
     "output_type": "execute_result"
    }
   ],
   "source": [
    "0 or 1"
   ]
  }
 ],
 "metadata": {
  "kernelspec": {
   "display_name": "Python 3 (ipykernel)",
   "language": "python",
   "name": "python3"
  },
  "language_info": {
   "codemirror_mode": {
    "name": "ipython",
    "version": 3
   },
   "file_extension": ".py",
   "mimetype": "text/x-python",
   "name": "python",
   "nbconvert_exporter": "python",
   "pygments_lexer": "ipython3",
   "version": "3.9.7"
  }
 },
 "nbformat": 4,
 "nbformat_minor": 5
}
