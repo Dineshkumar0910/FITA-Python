{
 "cells": [
  {
   "cell_type": "code",
   "execution_count": 1,
   "id": "d8c53d6e-4046-4a95-aa2c-85162b80282c",
   "metadata": {},
   "outputs": [
    {
     "name": "stdout",
     "output_type": "stream",
     "text": [
      "12\n"
     ]
    }
   ],
   "source": [
    "print(len(\"FITA ACADEMY\"))"
   ]
  },
  {
   "cell_type": "code",
   "execution_count": 2,
   "id": "bf4ea9a8-6b85-4243-b3c8-b1885946b15d",
   "metadata": {},
   "outputs": [
    {
     "name": "stdout",
     "output_type": "stream",
     "text": [
      "5\n"
     ]
    }
   ],
   "source": [
    "print(len([2,5,7,2,1]))"
   ]
  },
  {
   "cell_type": "code",
   "execution_count": 26,
   "id": "a21329ef-0d9d-4ca1-9716-38d913e30770",
   "metadata": {},
   "outputs": [
    {
     "name": "stdout",
     "output_type": "stream",
     "text": [
      "22\n"
     ]
    }
   ],
   "source": [
    "print(\"2\"+\"2\")"
   ]
  },
  {
   "cell_type": "code",
   "execution_count": 4,
   "id": "0e0aea17-7f79-49c6-b158-7f89ab974e19",
   "metadata": {},
   "outputs": [
    {
     "name": "stdout",
     "output_type": "stream",
     "text": [
      "DineshteachingJava\n",
      "Jeevastudyingpython\n"
     ]
    }
   ],
   "source": [
    "def cour(a,b,c = \"Java\"):\n",
    "    return a+b+c\n",
    "\n",
    "print(cour(\"Dinesh\",\"teaching\"))\n",
    "print(cour(\"Jeeva\",\"studying\",\"python\"))"
   ]
  },
  {
   "cell_type": "code",
   "execution_count": null,
   "id": "955875d1-89c0-47b2-85e8-d27042feb0a0",
   "metadata": {},
   "outputs": [],
   "source": []
  },
  {
   "cell_type": "code",
   "execution_count": null,
   "id": "a1fa52dc-9daf-4eb8-9cb6-d6f8cde0fdbe",
   "metadata": {},
   "outputs": [],
   "source": []
  },
  {
   "cell_type": "code",
   "execution_count": 7,
   "id": "db0594fc-e785-4233-bc5c-046123ba6369",
   "metadata": {},
   "outputs": [
    {
     "name": "stdout",
     "output_type": "stream",
     "text": [
      "This is FITA courses\n",
      "This is the student enrolling courses\n",
      "This is FITA courses\n",
      "I am enrolling python\n",
      "This is the student enrolling courses\n",
      "This is student funtion\n"
     ]
    }
   ],
   "source": [
    "class FITA():\n",
    "    def cou(self):\n",
    "        print(\"This is FITA courses\")\n",
    "    def stu(self):\n",
    "        print(\"I am enrolling python\")\n",
    "\n",
    "class Student():\n",
    "    def cou(self):\n",
    "        print(\"This is the student enrolling courses\")\n",
    "    def stu(self):\n",
    "        print(\"This is student funtion\")\n",
    "\n",
    "FI = FITA()\n",
    "ST = Student()\n",
    "FI.cou()\n",
    "ST.cou()\n",
    "for x in (FI, ST):\n",
    "    x.cou()\n",
    "    x.stu()"
   ]
  },
  {
   "cell_type": "code",
   "execution_count": 14,
   "id": "72542d81-d2bf-4538-a08c-61a918f6d1ed",
   "metadata": {},
   "outputs": [
    {
     "name": "stdout",
     "output_type": "stream",
     "text": [
      "8\n",
      "14\n"
     ]
    }
   ],
   "source": [
    "import re\n",
    "\n",
    "my_str = (\"This is python class and the timing is Morning 8 to 9 AM and phone no is 123454567890\")\n",
    "\n",
    "x = re.search(\"python\",my_str)\n",
    "print(x.start())\n",
    "print(x.end())"
   ]
  },
  {
   "cell_type": "code",
   "execution_count": 12,
   "id": "acf1bd13-e5df-492b-87a2-b04f0b9ad47a",
   "metadata": {},
   "outputs": [
    {
     "name": "stdout",
     "output_type": "stream",
     "text": [
      "['A']\n"
     ]
    }
   ],
   "source": [
    "y = re.findall(\"A\",my_str)\n",
    "print(y)"
   ]
  },
  {
   "cell_type": "code",
   "execution_count": 19,
   "id": "337b43cc-d05f-4124-8a30-ff4898158cc4",
   "metadata": {},
   "outputs": [
    {
     "name": "stdout",
     "output_type": "stream",
     "text": [
      "['8', '9', '123454567890']\n"
     ]
    }
   ],
   "source": [
    "z = '\\d+'\n",
    "match = re.findall(z,my_str)\n",
    "print(match)"
   ]
  },
  {
   "cell_type": "code",
   "execution_count": 17,
   "id": "f3f869c8-b434-4efc-8bd8-dc45194e633f",
   "metadata": {},
   "outputs": [
    {
     "name": "stdout",
     "output_type": "stream",
     "text": [
      "['a', 'c', 'a', 'f', 'e', 'g', 'a', 'e', 'e']\n"
     ]
    }
   ],
   "source": [
    "a = re.compile('[a-g]')\n",
    "print(a.findall(\"most important class for regular expression\"))"
   ]
  },
  {
   "cell_type": "code",
   "execution_count": 21,
   "id": "dc32c6e6-482e-42e0-986a-8f2667a27e17",
   "metadata": {},
   "outputs": [
    {
     "name": "stdout",
     "output_type": "stream",
     "text": [
      "['This', 'is', 'python', 'class', 'and', 'the', 'timing', 'is', 'Morning', '8', 'to', '9', 'AM', 'and', 'phone', 'no', 'is', '123454567890']\n"
     ]
    }
   ],
   "source": [
    "z = '\\w+'\n",
    "match = re.findall(z,my_str)\n",
    "print(match)"
   ]
  },
  {
   "cell_type": "code",
   "execution_count": 24,
   "id": "ef34b90d-12a9-43d3-8763-0e816eeceab7",
   "metadata": {},
   "outputs": [
    {
     "name": "stdout",
     "output_type": "stream",
     "text": [
      "[' ', ' ', ' ', ' ', ' ', ' ', ' ', ' ', ' ', ' ', ' ', ' ', ' ', ' ', ' ', ' ', ' ']\n"
     ]
    }
   ],
   "source": [
    "z = '\\W'\n",
    "match = re.findall(z,my_str)\n",
    "print(match)"
   ]
  },
  {
   "cell_type": "code",
   "execution_count": 25,
   "id": "ef2e1df2-4087-4604-b148-fcec825e985b",
   "metadata": {},
   "outputs": [
    {
     "name": "stdout",
     "output_type": "stream",
     "text": [
      "[' ', ' ', ' ', ' ', ' ', ' ', ' ', ' ', ' ', ' ', ' ', ' ', ' ', ' ', ' ', ' ', ' ']\n"
     ]
    }
   ],
   "source": [
    "z = '\\s'\n",
    "match = re.findall(z,my_str)\n",
    "print(match)"
   ]
  },
  {
   "cell_type": "code",
   "execution_count": 3,
   "id": "cd648d09-fdd6-45d1-a585-2ca833f66843",
   "metadata": {},
   "outputs": [
    {
     "name": "stdout",
     "output_type": "stream",
     "text": [
      "['sh', 'sh', 'sh', 'sh']\n"
     ]
    }
   ],
   "source": [
    "import re\n",
    "x = re.compile('sh*')\n",
    "print(x.findall(\"Dinesh, Suresh, Ramesh, Harish\"))"
   ]
  },
  {
   "cell_type": "code",
   "execution_count": 6,
   "id": "384d0982-f7ff-433c-92a6-11a653e202df",
   "metadata": {},
   "outputs": [
    {
     "name": "stdout",
     "output_type": "stream",
     "text": [
      "['Today', 'is', 'Dec', '6', 'and', 'it', 'is', 'Reg', 'Exp', 'class', 'at', '8', 'AM']\n"
     ]
    }
   ],
   "source": [
    "from re import split\n",
    "print(split('\\W+', \"Today is Dec 6, and it is Reg Exp class at 8 AM\"))"
   ]
  },
  {
   "cell_type": "code",
   "execution_count": 8,
   "id": "411be8ea-c273-4b17-85a6-39c54c51be59",
   "metadata": {},
   "outputs": [
    {
     "name": "stdout",
     "output_type": "stream",
     "text": [
      "['Today is Dec ', ', and it is Reg Exp class at ', ' AM']\n"
     ]
    }
   ],
   "source": [
    "print(split('\\d', \"Today is Dec 6, and it is Reg Exp class at 8 AM\"))"
   ]
  },
  {
   "cell_type": "code",
   "execution_count": 11,
   "id": "4686dd52-934f-4352-b929-557ebfbbdaa2",
   "metadata": {},
   "outputs": [
    {
     "name": "stdout",
     "output_type": "stream",
     "text": [
      "Python class has xyz\n"
     ]
    }
   ],
   "source": [
    "print(re.sub('abc', 'xyz',\"Python class has abc\"))"
   ]
  },
  {
   "cell_type": "code",
   "execution_count": 12,
   "id": "0ea3e046-8e53-46ca-94b9-156202b03e42",
   "metadata": {},
   "outputs": [
    {
     "name": "stdout",
     "output_type": "stream",
     "text": [
      "<class 'tuple'>\n",
      "('there is no qw channel', 1)\n"
     ]
    }
   ],
   "source": [
    "a = re.subn('av','qw',\"there is no av channel\")\n",
    "print(type(a))\n",
    "print(a)"
   ]
  },
  {
   "cell_type": "code",
   "execution_count": 14,
   "id": "38c0a292-a33d-4f29-8cf1-34cd2d8b0f71",
   "metadata": {},
   "outputs": [
    {
     "name": "stdout",
     "output_type": "stream",
     "text": [
      "Today\\ is\\ Dec\\ 6,\\ and\\ it\\ is\\ Reg\\ Exp\\ class\\ at\\ 8\\ AM\n"
     ]
    }
   ],
   "source": [
    "print(re.escape(\"Today is Dec 6, and it is Reg Exp class at 8 AM\"))"
   ]
  },
  {
   "cell_type": "code",
   "execution_count": 17,
   "id": "91572114-c3f1-43a7-a51e-9e566f3529c6",
   "metadata": {},
   "outputs": [
    {
     "name": "stdout",
     "output_type": "stream",
     "text": [
      "<re.Match object; span=(0, 1), match='T'>\n"
     ]
    }
   ],
   "source": [
    "q = r\"([A-Z])\"\n",
    "match = re.search(q,\"Today is Dec 6, and it is Reg Exp class at 8 AM\")\n",
    "print(match)"
   ]
  },
  {
   "cell_type": "code",
   "execution_count": null,
   "id": "0a89d56e-c6f0-4157-a60f-c2edd5608d65",
   "metadata": {},
   "outputs": [],
   "source": [
    "#File Handling"
   ]
  },
  {
   "cell_type": "code",
   "execution_count": null,
   "id": "c5433e97-9998-4868-8f01-af2eedd31dd0",
   "metadata": {},
   "outputs": [],
   "source": []
  },
  {
   "cell_type": "code",
   "execution_count": 18,
   "id": "7e49c4da-d188-4b9b-a43d-20680551bd97",
   "metadata": {},
   "outputs": [
    {
     "name": "stdout",
     "output_type": "stream",
     "text": [
      "this is write functionthis is python class\n",
      "\n",
      "this is fita\n",
      "\n",
      "this is academy\n",
      "\n",
      "this is r+\n"
     ]
    }
   ],
   "source": [
    "f = open('hari.txt','r')\n",
    "for x in f:\n",
    "    print(x)"
   ]
  },
  {
   "cell_type": "code",
   "execution_count": 21,
   "id": "b319530b-041d-4357-86bc-2eac3d8b5554",
   "metadata": {},
   "outputs": [
    {
     "name": "stdout",
     "output_type": "stream",
     "text": [
      "this is wr\n"
     ]
    }
   ],
   "source": [
    "f = open('hari.txt','r')\n",
    "print(f.read(10))"
   ]
  },
  {
   "cell_type": "code",
   "execution_count": 23,
   "id": "c5809fad-e64f-405c-83eb-9db9d9aa7d97",
   "metadata": {},
   "outputs": [],
   "source": [
    "f = open('hari.txt','w')\n",
    "f.write(\"This is new class for file handling\")\n",
    "f.close()"
   ]
  },
  {
   "cell_type": "code",
   "execution_count": 25,
   "id": "d1aa3d9c-6ae3-4e45-9090-3e5a686844dc",
   "metadata": {},
   "outputs": [],
   "source": [
    "f = open('hari.txt','a')\n",
    "f.write(\"\\nTHis is append function and it will not delete the older\")\n",
    "f.close()"
   ]
  },
  {
   "cell_type": "code",
   "execution_count": 27,
   "id": "a8d75025-2f0b-4094-afdb-ca5b17c397c5",
   "metadata": {},
   "outputs": [],
   "source": [
    "with open(\"hari.txt\",\"w\") as f:\n",
    "    f.write(\"this is with funtion\")\n",
    "f.close()"
   ]
  },
  {
   "cell_type": "code",
   "execution_count": 42,
   "id": "4249c6ed-a9d9-4a77-a623-9b76b4461f35",
   "metadata": {},
   "outputs": [],
   "source": [
    "with open(\"hari.txt\",\"a+\") as f:\n",
    "    d = f.readlines()\n",
    "    f.write(\"this is for appending the test from program\")\n",
    "    for x in d:\n",
    "        w = x.split()\n",
    "        print(w)"
   ]
  },
  {
   "cell_type": "code",
   "execution_count": 47,
   "id": "ca32e684-a8e1-4a6a-935d-a397874925ac",
   "metadata": {},
   "outputs": [
    {
     "name": "stdout",
     "output_type": "stream",
     "text": [
      "1991-10-09\n",
      "2022-12-07\n",
      "2022\n",
      "12\n",
      "7\n"
     ]
    }
   ],
   "source": [
    "from datetime import date\n",
    "a = date(1991, 10, 9)\n",
    "print(a)\n",
    "p = date.today()\n",
    "print(p)\n",
    "print(p.year)\n",
    "print(p.month)\n",
    "print(p.day)"
   ]
  }
 ],
 "metadata": {
  "kernelspec": {
   "display_name": "Python 3 (ipykernel)",
   "language": "python",
   "name": "python3"
  },
  "language_info": {
   "codemirror_mode": {
    "name": "ipython",
    "version": 3
   },
   "file_extension": ".py",
   "mimetype": "text/x-python",
   "name": "python",
   "nbconvert_exporter": "python",
   "pygments_lexer": "ipython3",
   "version": "3.9.7"
  }
 },
 "nbformat": 4,
 "nbformat_minor": 5
}
