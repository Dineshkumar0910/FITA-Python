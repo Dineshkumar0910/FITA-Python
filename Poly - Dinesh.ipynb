{
 "cells": [
  {
   "cell_type": "code",
   "execution_count": 1,
   "id": "d8c53d6e-4046-4a95-aa2c-85162b80282c",
   "metadata": {},
   "outputs": [
    {
     "name": "stdout",
     "output_type": "stream",
     "text": [
      "12\n"
     ]
    }
   ],
   "source": [
    "print(len(\"FITA ACADEMY\"))"
   ]
  },
  {
   "cell_type": "code",
   "execution_count": 2,
   "id": "bf4ea9a8-6b85-4243-b3c8-b1885946b15d",
   "metadata": {},
   "outputs": [
    {
     "name": "stdout",
     "output_type": "stream",
     "text": [
      "5\n"
     ]
    }
   ],
   "source": [
    "print(len([2,5,7,2,1]))"
   ]
  },
  {
   "cell_type": "code",
   "execution_count": 4,
   "id": "0e0aea17-7f79-49c6-b158-7f89ab974e19",
   "metadata": {},
   "outputs": [
    {
     "name": "stdout",
     "output_type": "stream",
     "text": [
      "DineshteachingJava\n",
      "Jeevastudyingpython\n"
     ]
    }
   ],
   "source": [
    "def cour(a,b,c = \"Java\"):\n",
    "    return a+b+c\n",
    "\n",
    "print(cour(\"Dinesh\",\"teaching\"))\n",
    "print(cour(\"Jeeva\",\"studying\",\"python\"))"
   ]
  },
  {
   "cell_type": "code",
   "execution_count": 7,
   "id": "db0594fc-e785-4233-bc5c-046123ba6369",
   "metadata": {},
   "outputs": [
    {
     "name": "stdout",
     "output_type": "stream",
     "text": [
      "This is FITA courses\n",
      "This is the student enrolling courses\n",
      "This is FITA courses\n",
      "I am enrolling python\n",
      "This is the student enrolling courses\n",
      "This is student funtion\n"
     ]
    }
   ],
   "source": [
    "class FITA():\n",
    "    def cou(self):\n",
    "        print(\"This is FITA courses\")\n",
    "    def stu(self):\n",
    "        print(\"I am enrolling python\")\n",
    "\n",
    "class Student():\n",
    "    def cou(self):\n",
    "        print(\"This is the student enrolling courses\")\n",
    "    def stu(self):\n",
    "        print(\"This is student funtion\")\n",
    "\n",
    "FI = FITA()\n",
    "ST = Student()\n",
    "FI.cou()\n",
    "ST.cou()\n",
    "for x in (FI, ST):\n",
    "    x.cou()\n",
    "    x.stu()"
   ]
  },
  {
   "cell_type": "code",
   "execution_count": 14,
   "id": "72542d81-d2bf-4538-a08c-61a918f6d1ed",
   "metadata": {},
   "outputs": [
    {
     "name": "stdout",
     "output_type": "stream",
     "text": [
      "8\n",
      "14\n"
     ]
    }
   ],
   "source": [
    "import re\n",
    "\n",
    "my_str = (\"This is python class and the timing is Morning 8 to 9 AM and phone no is 123454567890\")\n",
    "\n",
    "x = re.search(\"python\",my_str)\n",
    "print(x.start())\n",
    "print(x.end())"
   ]
  },
  {
   "cell_type": "code",
   "execution_count": 12,
   "id": "acf1bd13-e5df-492b-87a2-b04f0b9ad47a",
   "metadata": {},
   "outputs": [
    {
     "name": "stdout",
     "output_type": "stream",
     "text": [
      "['A']\n"
     ]
    }
   ],
   "source": [
    "y = re.findall(\"A\",my_str)\n",
    "print(y)"
   ]
  },
  {
   "cell_type": "code",
   "execution_count": 19,
   "id": "337b43cc-d05f-4124-8a30-ff4898158cc4",
   "metadata": {},
   "outputs": [
    {
     "name": "stdout",
     "output_type": "stream",
     "text": [
      "['8', '9', '123454567890']\n"
     ]
    }
   ],
   "source": [
    "z = '\\d+'\n",
    "match = re.findall(z,my_str)\n",
    "print(match)"
   ]
  },
  {
   "cell_type": "code",
   "execution_count": 17,
   "id": "f3f869c8-b434-4efc-8bd8-dc45194e633f",
   "metadata": {},
   "outputs": [
    {
     "name": "stdout",
     "output_type": "stream",
     "text": [
      "['a', 'c', 'a', 'f', 'e', 'g', 'a', 'e', 'e']\n"
     ]
    }
   ],
   "source": [
    "a = re.compile('[a-g]')\n",
    "print(a.findall(\"most important class for regular expression\"))"
   ]
  },
  {
   "cell_type": "code",
   "execution_count": 21,
   "id": "dc32c6e6-482e-42e0-986a-8f2667a27e17",
   "metadata": {},
   "outputs": [
    {
     "name": "stdout",
     "output_type": "stream",
     "text": [
      "['This', 'is', 'python', 'class', 'and', 'the', 'timing', 'is', 'Morning', '8', 'to', '9', 'AM', 'and', 'phone', 'no', 'is', '123454567890']\n"
     ]
    }
   ],
   "source": [
    "z = '\\w+'\n",
    "match = re.findall(z,my_str)\n",
    "print(match)"
   ]
  },
  {
   "cell_type": "code",
   "execution_count": 24,
   "id": "ef34b90d-12a9-43d3-8763-0e816eeceab7",
   "metadata": {},
   "outputs": [
    {
     "name": "stdout",
     "output_type": "stream",
     "text": [
      "[' ', ' ', ' ', ' ', ' ', ' ', ' ', ' ', ' ', ' ', ' ', ' ', ' ', ' ', ' ', ' ', ' ']\n"
     ]
    }
   ],
   "source": [
    "z = '\\W'\n",
    "match = re.findall(z,my_str)\n",
    "print(match)"
   ]
  },
  {
   "cell_type": "code",
   "execution_count": 25,
   "id": "ef2e1df2-4087-4604-b148-fcec825e985b",
   "metadata": {},
   "outputs": [
    {
     "name": "stdout",
     "output_type": "stream",
     "text": [
      "[' ', ' ', ' ', ' ', ' ', ' ', ' ', ' ', ' ', ' ', ' ', ' ', ' ', ' ', ' ', ' ', ' ']\n"
     ]
    }
   ],
   "source": [
    "z = '\\s'\n",
    "match = re.findall(z,my_str)\n",
    "print(match)"
   ]
  }
 ],
 "metadata": {
  "kernelspec": {
   "display_name": "Python 3 (ipykernel)",
   "language": "python",
   "name": "python3"
  },
  "language_info": {
   "codemirror_mode": {
    "name": "ipython",
    "version": 3
   },
   "file_extension": ".py",
   "mimetype": "text/x-python",
   "name": "python",
   "nbconvert_exporter": "python",
   "pygments_lexer": "ipython3",
   "version": "3.9.7"
  }
 },
 "nbformat": 4,
 "nbformat_minor": 5
}
