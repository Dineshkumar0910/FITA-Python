{
  "nbformat": 4,
  "nbformat_minor": 0,
  "metadata": {
    "colab": {
      "provenance": []
    },
    "kernelspec": {
      "name": "python3",
      "display_name": "Python 3"
    },
    "language_info": {
      "name": "python"
    }
  },
  "cells": [
    {
      "cell_type": "code",
      "execution_count": null,
      "metadata": {
        "id": "TYyxbIVDybYl"
      },
      "outputs": [],
      "source": []
    },
    {
      "cell_type": "code",
      "execution_count": 1,
      "metadata": {
        "id": "GYJ0_v6nytkA",
        "colab": {
          "base_uri": "https://localhost:8080/"
        },
        "outputId": "5407e992-1bbc-4695-db26-7c9274e81d52"
      },
      "outputs": [
        {
          "output_type": "stream",
          "name": "stdout",
          "text": [
            "0 5\n",
            "1 15\n",
            "2 35\n",
            "3 8\n",
            "4 98\n"
          ]
        }
      ],
      "source": [
        "''' 2. Write a Python program to access the index of all the elements in a list.\n",
        "        Data:\n",
        "            x = [5, 15, 35, 8, 98]\n",
        "        Expected Output:\n",
        "            0 5\n",
        "            1 15\n",
        "            2 35\n",
        "            3 8\n",
        "            4 98 '''\n",
        "\n",
        "x = [5, 15, 35, 8, 98]\n",
        "for i in range(len(x)):\n",
        "  print(i,x[i])"
      ]
    },
    {
      "cell_type": "code",
      "source": [
        "''' 5. Write a Python program to print the sum of all the items in a list.\n",
        "    Data:\n",
        "        lt = [1, 2, -8]\n",
        "    Expected Output:\n",
        "        sum is -5 '''\n",
        "lt = [1, 2, -8]\n",
        "s=0\n",
        "for i in range(len(lt)):\n",
        "  s = s+lt[i]\n",
        "print(\"Sum is\",s)"
      ],
      "metadata": {
        "colab": {
          "base_uri": "https://localhost:8080/"
        },
        "id": "Kbqcd-qmzi-G",
        "outputId": "d21f51c6-ef0a-41af-9545-c61423d0d185"
      },
      "execution_count": 2,
      "outputs": [
        {
          "output_type": "stream",
          "name": "stdout",
          "text": [
            "Sum is -5\n"
          ]
        }
      ]
    },
    {
      "cell_type": "code",
      "source": [
        "''' 2. Write a Python function to find the list of words which are longer than the specified length from the given data.\n",
        "        Data:\n",
        "            (3, \"The quick brown fox jumps over the lazy dog\")\n",
        "        Expected Output:\n",
        "            ['quick', 'brown', 'jumps', 'over', 'lazy'] '''\n",
        "  \n",
        "def fun(n, str):\n",
        "  x = []\n",
        "  txt = str.split(\" \")\n",
        "  for i in txt:\n",
        "    if len(i) > n:\n",
        "      x.append(i)\n",
        "  return x\n",
        "print(fun(3,\"The quick brown fox jumps over the lazy dog\"))"
      ],
      "metadata": {
        "colab": {
          "base_uri": "https://localhost:8080/"
        },
        "id": "Mu0hLRYR0apq",
        "outputId": "7b565f61-8347-4bcf-c31e-c94586b58af6"
      },
      "execution_count": 8,
      "outputs": [
        {
          "output_type": "stream",
          "name": "stdout",
          "text": [
            "['quick', 'brown', 'jumps', 'over', 'lazy']\n"
          ]
        }
      ]
    },
    {
      "cell_type": "code",
      "source": [
        "''' 8. Write a Python program to get the frequency of the elements in a list and \n",
        "            print the occurances as a list of dictionary as shown in the expected output.\n",
        "        Data:\n",
        "            Original List :  [10, 10, 10, 10, 20, 20, 20, 30, 40, 40, 50, 50, 30]\n",
        "        Expected Output:\n",
        "            Frequency of the elements in the List :  Counter({10: 4, 20: 3, 30: 2, 40: 2, 50: 2})'''\n",
        "\n",
        "import collections\n",
        "x = [10, 10, 10, 10, 20, 20, 20, 30, 40, 40, 50, 50, 30]\n",
        "print(\"Original list:\",x)\n",
        "y = collections.Counter(x)\n",
        "print(\"Counted values are\",y)"
      ],
      "metadata": {
        "colab": {
          "base_uri": "https://localhost:8080/"
        },
        "id": "LTX5S6V-2eSY",
        "outputId": "e57cf9a1-9114-47f8-b40c-d73ac3f440ca"
      },
      "execution_count": 9,
      "outputs": [
        {
          "output_type": "stream",
          "name": "stdout",
          "text": [
            "Original list: [10, 10, 10, 10, 20, 20, 20, 30, 40, 40, 50, 50, 30]\n",
            "Counted values are Counter({10: 4, 20: 3, 30: 2, 40: 2, 50: 2})\n"
          ]
        }
      ]
    },
    {
      "cell_type": "code",
      "source": [
        "''' 3. Write a Python program to access multiple elements of specified index from a given list. \n",
        "    Data:\n",
        "        [2,3,8,4,7,9,7,2,6,5,1,5,1,2,3,4,6,9,3,2]\n",
        "    Expected Output:\n",
        "        Index list:\n",
        "        [0, 3, 5, 7, 10]\n",
        "\n",
        "        Items with specified index of the said list:\n",
        "        [2, 4, 9, 2, 1] '''\n",
        "def fun(x, li):\n",
        "  res = [x[i] for i in li]\n",
        "  return res\n",
        "\n",
        "x = [2,3,8,4,7,9,7,2,6,5,1,5,1,2,3,4,6,9,3,2]\n",
        "print(\"Original list\",x)\n",
        "li = [0, 3, 5, 7, 10]\n",
        "print(\"Index list\",li)\n",
        "print(\"Specified items in li\")\n",
        "print(fun(x,li))\n"
      ],
      "metadata": {
        "colab": {
          "base_uri": "https://localhost:8080/"
        },
        "id": "WGqi495t3laM",
        "outputId": "df853fad-f26e-49e1-f6b8-5ccee84d62f0"
      },
      "execution_count": 10,
      "outputs": [
        {
          "output_type": "stream",
          "name": "stdout",
          "text": [
            "Original list [2, 3, 8, 4, 7, 9, 7, 2, 6, 5, 1, 5, 1, 2, 3, 4, 6, 9, 3, 2]\n",
            "Index list [0, 3, 5, 7, 10]\n",
            "Specified items in li\n",
            "[2, 4, 9, 2, 1]\n"
          ]
        }
      ]
    }
  ]
}