{
 "cells": [
  {
   "cell_type": "code",
   "execution_count": 2,
   "id": "a169a4a2-1052-495c-a6f3-74ec33ccfe63",
   "metadata": {},
   "outputs": [
    {
     "name": "stdout",
     "output_type": "stream",
     "text": [
      "Python Weekdays\n"
     ]
    }
   ],
   "source": [
    "class Fita:\n",
    "    def __init__(self,x,y):\n",
    "        self.x = x\n",
    "        self.y = y\n",
    "    def dell(self):\n",
    "        print(self.x,self.y)\n",
    "\n",
    "F = Fita(\"Python\",\"Weekdays\")\n",
    "F.dell()\n"
   ]
  },
  {
   "cell_type": "code",
   "execution_count": 18,
   "id": "749ca530-d740-4228-a75f-a3a8fcb26c9a",
   "metadata": {},
   "outputs": [
    {
     "name": "stdout",
     "output_type": "stream",
     "text": [
      "Student name is: babu and age is: 25\n",
      "Stu name is babu age is 25\n"
     ]
    }
   ],
   "source": [
    "#sinle - A --> B\n",
    "class Student:\n",
    "    def __init__(self):\n",
    "        name = \"Jeeva\"\n",
    "        age = 25\n",
    "    def par(self):\n",
    "        print(\"Stu name is\",self.name,\"age is\",self.age)\n",
    "\n",
    "class School(Student):\n",
    "    def show(self, name, age):\n",
    "        self.name = name\n",
    "        self.age = age\n",
    "        print(\"Student name is:\",name,\"and age is:\",age)\n",
    "\n",
    "Sc = School()\n",
    "Sc.show(\"babu\",25)\n",
    "Sc.par()"
   ]
  },
  {
   "cell_type": "code",
   "execution_count": 24,
   "id": "d41f4191-7b10-404c-8cea-0497f0b0c0a7",
   "metadata": {},
   "outputs": [
    {
     "name": "stdout",
     "output_type": "stream",
     "text": [
      "Kohli 34\n",
      "Ronaldo 37\n"
     ]
    }
   ],
   "source": [
    "#multiple - A and B -->C\n",
    "class Cricket:\n",
    "    name = \"Kohli\"\n",
    "    age = 34\n",
    "    def show(self):\n",
    "        print(name,age)\n",
    "class Football:\n",
    "    F_name = \"Ronaldo\"\n",
    "    F_age = 37\n",
    "    def F_show(self):\n",
    "        print(name,age)\n",
    "class Player(Cricket,Football):\n",
    "    def play(self):\n",
    "        print(self.name,self.age)\n",
    "        print(self.F_name,self.F_age)\n",
    "\n",
    "P = Player()\n",
    "P.play()"
   ]
  },
  {
   "cell_type": "code",
   "execution_count": null,
   "id": "aced1b33-7a75-4710-99ef-e576cba10fb6",
   "metadata": {},
   "outputs": [],
   "source": []
  }
 ],
 "metadata": {
  "kernelspec": {
   "display_name": "Python 3 (ipykernel)",
   "language": "python",
   "name": "python3"
  },
  "language_info": {
   "codemirror_mode": {
    "name": "ipython",
    "version": 3
   },
   "file_extension": ".py",
   "mimetype": "text/x-python",
   "name": "python",
   "nbconvert_exporter": "python",
   "pygments_lexer": "ipython3",
   "version": "3.9.13"
  }
 },
 "nbformat": 4,
 "nbformat_minor": 5
}
