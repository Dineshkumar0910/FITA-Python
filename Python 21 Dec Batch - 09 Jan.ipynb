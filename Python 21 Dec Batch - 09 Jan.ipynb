{
 "cells": [
  {
   "cell_type": "code",
   "execution_count": 2,
   "id": "acf7718c-f787-4a62-ba89-ea798aa412f4",
   "metadata": {},
   "outputs": [
    {
     "name": "stdout",
     "output_type": "stream",
     "text": [
      "30\n"
     ]
    }
   ],
   "source": [
    "#Python Statements\n",
    "x = 5; y = 6  #multiple statements in a singel line\n",
    "print(x*y)"
   ]
  },
  {
   "cell_type": "code",
   "execution_count": null,
   "id": "3f398ade-4936-4419-a35d-9cac646bd2d0",
   "metadata": {},
   "outputs": [],
   "source": []
  },
  {
   "cell_type": "code",
   "execution_count": 9,
   "id": "309b5e58-1b87-49de-8c7b-3733a3abf278",
   "metadata": {},
   "outputs": [
    {
     "name": "stdout",
     "output_type": "stream",
     "text": [
      "22\n"
     ]
    }
   ],
   "source": [
    "add = 2 + 3 +\\\n",
    "      5 + 6 +\\\n",
    "      4 + 2\n",
    "print(add) #multi-lines"
   ]
  },
  {
   "cell_type": "code",
   "execution_count": null,
   "id": "13979b58-9eb3-428e-b63d-5d9968f01241",
   "metadata": {},
   "outputs": [],
   "source": []
  },
  {
   "cell_type": "code",
   "execution_count": 11,
   "id": "42679020-d217-4f16-add2-ac2e7c1979ff",
   "metadata": {},
   "outputs": [
    {
     "name": "stdout",
     "output_type": "stream",
     "text": [
      "22\n"
     ]
    }
   ],
   "source": [
    "add = (2 + 3 +\\\n",
    "      5 + 6 +\\\n",
    "      4 + 2)\n",
    "print(add) #implicit continuation"
   ]
  },
  {
   "cell_type": "code",
   "execution_count": 12,
   "id": "99490440-3083-4245-9bc6-5b9b1bae98d5",
   "metadata": {},
   "outputs": [
    {
     "name": "stdout",
     "output_type": "stream",
     "text": [
      "9\n"
     ]
    }
   ],
   "source": [
    "a = 4\n",
    "b = 5\n",
    "c = a+b #expression statement\n",
    "print(c)"
   ]
  },
  {
   "cell_type": "code",
   "execution_count": 13,
   "id": "ba8cb494-e779-4889-a9e0-57ea671ce51b",
   "metadata": {},
   "outputs": [],
   "source": [
    "def fun():\n",
    "    pass #pass statement"
   ]
  },
  {
   "cell_type": "code",
   "execution_count": 17,
   "id": "c837ce3d-8c5a-487d-9a21-7ab179d50095",
   "metadata": {},
   "outputs": [
    {
     "name": "stdout",
     "output_type": "stream",
     "text": [
      "4 10\n"
     ]
    },
    {
     "ename": "NameError",
     "evalue": "name 'x' is not defined",
     "output_type": "error",
     "traceback": [
      "\u001b[1;31m---------------------------------------------------------------------------\u001b[0m",
      "\u001b[1;31mNameError\u001b[0m                                 Traceback (most recent call last)",
      "\u001b[1;32m~\\AppData\\Local\\Temp\\ipykernel_4540\\4164609422.py\u001b[0m in \u001b[0;36m<module>\u001b[1;34m\u001b[0m\n\u001b[0;32m      3\u001b[0m \u001b[0mprint\u001b[0m\u001b[1;33m(\u001b[0m\u001b[0mx\u001b[0m\u001b[1;33m,\u001b[0m\u001b[0my\u001b[0m\u001b[1;33m)\u001b[0m\u001b[1;33m\u001b[0m\u001b[1;33m\u001b[0m\u001b[0m\n\u001b[0;32m      4\u001b[0m \u001b[1;32mdel\u001b[0m \u001b[0mx\u001b[0m\u001b[1;33m,\u001b[0m\u001b[0my\u001b[0m\u001b[1;33m\u001b[0m\u001b[1;33m\u001b[0m\u001b[0m\n\u001b[1;32m----> 5\u001b[1;33m \u001b[0mprint\u001b[0m\u001b[1;33m(\u001b[0m\u001b[0mx\u001b[0m\u001b[1;33m,\u001b[0m\u001b[0my\u001b[0m\u001b[1;33m)\u001b[0m\u001b[1;33m\u001b[0m\u001b[1;33m\u001b[0m\u001b[0m\n\u001b[0m",
      "\u001b[1;31mNameError\u001b[0m: name 'x' is not defined"
     ]
    }
   ],
   "source": [
    "x = 4\n",
    "y = 10\n",
    "print(x,y)\n",
    "del x,y #delete statement\n",
    "print(x,y)"
   ]
  },
  {
   "cell_type": "code",
   "execution_count": 18,
   "id": "d8df78ab-ae49-4994-bc61-46e9c77a9d00",
   "metadata": {},
   "outputs": [
    {
     "name": "stdout",
     "output_type": "stream",
     "text": [
      "11\n"
     ]
    }
   ],
   "source": [
    "def add(n1,n2):\n",
    "    return n1+n2 #return statement\n",
    "res = add(5,6)\n",
    "print(res)"
   ]
  },
  {
   "cell_type": "code",
   "execution_count": 19,
   "id": "25c36a3b-f03e-4701-a849-1f5b8196acf1",
   "metadata": {},
   "outputs": [
    {
     "name": "stdout",
     "output_type": "stream",
     "text": [
      "2022-12-21 07:31:56.549281\n"
     ]
    }
   ],
   "source": [
    "import datetime\n",
    "\n",
    "today = datetime.datetime.now()\n",
    "print(today)"
   ]
  },
  {
   "cell_type": "code",
   "execution_count": 22,
   "id": "f8695482-a24b-47bc-a7a1-8689b8039850",
   "metadata": {},
   "outputs": [
    {
     "data": {
      "text/plain": [
       "' python class\\nin the weekdays.\\nTime is 7AM'"
      ]
     },
     "execution_count": 22,
     "metadata": {},
     "output_type": "execute_result"
    }
   ],
   "source": [
    "#this is python\n",
    "#\n",
    "#\n",
    "''' python class\n",
    "in the weekdays.\n",
    "Time is 7AM'''"
   ]
  },
  {
   "cell_type": "code",
   "execution_count": 24,
   "id": "edf55b48-4a2b-4bf4-8062-7dd6fb00b129",
   "metadata": {},
   "outputs": [
    {
     "name": "stdout",
     "output_type": "stream",
     "text": [
      "if there is a class I am doing programs\n"
     ]
    }
   ],
   "source": [
    "print(\"if there is a class I am doing programs\")"
   ]
  },
  {
   "cell_type": "code",
   "execution_count": 28,
   "id": "4a727e01-49af-46c3-a39b-5766fdfa8edd",
   "metadata": {},
   "outputs": [
    {
     "name": "stdout",
     "output_type": "stream",
     "text": [
      "5 8.9 First Program\n",
      "<class 'int'>\n",
      "<class 'float'>\n",
      "<class 'str'>\n",
      "Changed into String 4 5.6\n",
      "(3+6j)\n",
      "<class 'complex'>\n"
     ]
    }
   ],
   "source": [
    "#Variables\n",
    "# mutable and immutable\n",
    "x = 5\n",
    "y = 8.9\n",
    "z = \"First Program\"\n",
    "print(x,y,z)\n",
    "print(type(x))\n",
    "print(type(y))\n",
    "print(type(z))\n",
    "\n",
    "x = \"Changed into String\"\n",
    "y = 4\n",
    "z = 5.6\n",
    "print(x,y,z)\n",
    "\n",
    "a = 3 + 6j\n",
    "print(a)\n",
    "print(type(a))"
   ]
  },
  {
   "cell_type": "code",
   "execution_count": null,
   "id": "bdf1ef0d-fb29-41b9-a88e-1a5002b9d709",
   "metadata": {},
   "outputs": [],
   "source": [
    "#Operators\n",
    "# Aritmetic\n",
    "# Relational\n",
    "# Assignment\n",
    "# Logical\n",
    "# Membership\n",
    "# Identity\n",
    "# Bitwise"
   ]
  },
  {
   "cell_type": "code",
   "execution_count": 6,
   "id": "4d896d34-3688-4df9-b68d-dd6f1fa0a926",
   "metadata": {},
   "outputs": [
    {
     "name": "stdout",
     "output_type": "stream",
     "text": [
      "20 0 100 1.0 0\n",
      "1\n"
     ]
    }
   ],
   "source": [
    "a = 10\n",
    "b = 10\n",
    "c = a+b\n",
    "d = a-b\n",
    "e = a*b\n",
    "f = a/b\n",
    "g = a%b\n",
    "print(c,d,e,f,g)\n",
    "h = a//b\n",
    "print(h)"
   ]
  },
  {
   "cell_type": "code",
   "execution_count": 7,
   "id": "755ca45c-795b-4f0f-a935-13bd345f4c13",
   "metadata": {},
   "outputs": [
    {
     "name": "stdout",
     "output_type": "stream",
     "text": [
      "False\n",
      "False\n",
      "True\n",
      "True\n",
      "False\n",
      "True\n"
     ]
    }
   ],
   "source": [
    "#Relational - Comparison \n",
    "print(a>b)\n",
    "print(a<b)\n",
    "print(a>=b)\n",
    "print(a<=b)\n",
    "print(a!=b)\n",
    "print(a==b)"
   ]
  },
  {
   "cell_type": "code",
   "execution_count": 11,
   "id": "ce94e198-c3ce-4543-b056-a045f9de8b94",
   "metadata": {},
   "outputs": [
    {
     "name": "stdout",
     "output_type": "stream",
     "text": [
      "30\n",
      "20\n",
      "200\n",
      "20.0\n",
      "0.0\n"
     ]
    }
   ],
   "source": [
    "#Assignment\n",
    "a+=b\n",
    "print(a)\n",
    "a-=b\n",
    "print(a)\n",
    "a*=b\n",
    "print(a)\n",
    "a/=b\n",
    "print(a)\n",
    "a%=b\n",
    "print(a)\n"
   ]
  },
  {
   "cell_type": "code",
   "execution_count": 15,
   "id": "e4039984-bb4d-4fe4-a749-dd127da560ef",
   "metadata": {},
   "outputs": [
    {
     "name": "stdout",
     "output_type": "stream",
     "text": [
      "False\n",
      "True\n",
      "True\n",
      "False\n"
     ]
    }
   ],
   "source": [
    "#Logical\n",
    "print(True and False)\n",
    "print(True and True)\n",
    "print(True or False)\n",
    "print(not True)"
   ]
  },
  {
   "cell_type": "code",
   "execution_count": 18,
   "id": "7c5105ff-d500-491f-9350-b04ac6448a2d",
   "metadata": {},
   "outputs": [
    {
     "name": "stdout",
     "output_type": "stream",
     "text": [
      "6\n",
      "Y doesn't exist\n"
     ]
    }
   ],
   "source": [
    "#membership\n",
    "list1 = [1,4,6,8,9]\n",
    "x = 6\n",
    "if x in list1:\n",
    "    print(x)\n",
    "y = 10\n",
    "if y not in list1:\n",
    "    print(\"Y doesn't exist\")"
   ]
  },
  {
   "cell_type": "code",
   "execution_count": 21,
   "id": "f015ee21-706d-4004-9a96-6171d9acc6ed",
   "metadata": {},
   "outputs": [
    {
     "name": "stdout",
     "output_type": "stream",
     "text": [
      "False\n",
      "True\n"
     ]
    }
   ],
   "source": [
    "#Identity\n",
    "print(x is y)\n",
    "print(x is not y)"
   ]
  },
  {
   "cell_type": "code",
   "execution_count": 23,
   "id": "90305108-4071-495f-aa36-6d617fa4ebec",
   "metadata": {},
   "outputs": [
    {
     "name": "stdout",
     "output_type": "stream",
     "text": [
      "Python class Weekdays at 7AM\n",
      "<class 'str'>\n"
     ]
    }
   ],
   "source": [
    "#Data Types\n",
    "#string\n",
    "str1 = \"Python class\"\n",
    "str2 = 'Weekdays at 7AM'\n",
    "print(str1, str2)\n",
    "print(type(str1))"
   ]
  },
  {
   "cell_type": "code",
   "execution_count": 29,
   "id": "89472d9a-ea8f-4fcd-ab70-c83fd38d5340",
   "metadata": {},
   "outputs": [
    {
     "name": "stdout",
     "output_type": "stream",
     "text": [
      "o\n",
      "t\n",
      "a\n"
     ]
    }
   ],
   "source": [
    "#access the string\n",
    "print(str1[4])\n",
    "print(str2[10])\n",
    "print(str1[-3]) #negative indexing"
   ]
  },
  {
   "cell_type": "code",
   "execution_count": 28,
   "id": "dbb1dda4-db4f-4b66-87d9-d75d898aeea9",
   "metadata": {},
   "outputs": [
    {
     "data": {
      "text/plain": [
       "15"
      ]
     },
     "execution_count": 28,
     "metadata": {},
     "output_type": "execute_result"
    }
   ],
   "source": [
    "#length\n",
    "len(str1)\n",
    "len(str2)"
   ]
  },
  {
   "cell_type": "code",
   "execution_count": 35,
   "id": "4e11dd70-0876-47bf-aa2e-9fdd2cab2299",
   "metadata": {},
   "outputs": [
    {
     "name": "stdout",
     "output_type": "stream",
     "text": [
      "Python\n",
      "kdays at 7A\n",
      "hon class\n",
      "Mtye\n"
     ]
    }
   ],
   "source": [
    "#slicing\n",
    "print(str1[0:6])\n",
    "print(str2[3:-1])\n",
    "print(str1[3:])\n",
    "print(str2[::-4])"
   ]
  },
  {
   "cell_type": "code",
   "execution_count": 2,
   "id": "1bb5a07e-2d88-436c-90af-50a8cf5f13fc",
   "metadata": {},
   "outputs": [],
   "source": [
    "#23 Dec"
   ]
  },
  {
   "cell_type": "code",
   "execution_count": 3,
   "id": "8bae6140-7e08-48d9-9bf7-3eb7527a2b05",
   "metadata": {},
   "outputs": [
    {
     "name": "stdout",
     "output_type": "stream",
     "text": [
      "this is python class\n",
      "tris is pytron class\n"
     ]
    }
   ],
   "source": [
    "s1 = \"this is python class\"\n",
    "s2 = s1.replace(\"h\",\"r\")\n",
    "print(s1)\n",
    "print(s2)"
   ]
  },
  {
   "cell_type": "code",
   "execution_count": 4,
   "id": "78d02967-ea7a-414d-9741-36ed22bf990a",
   "metadata": {},
   "outputs": [
    {
     "name": "stdout",
     "output_type": "stream",
     "text": [
      "THIS IS PYTHON CLASS\n"
     ]
    }
   ],
   "source": [
    "print(s1.upper())"
   ]
  },
  {
   "cell_type": "code",
   "execution_count": 5,
   "id": "abbf8aa3-1200-42b3-b908-778b3505276a",
   "metadata": {},
   "outputs": [
    {
     "name": "stdout",
     "output_type": "stream",
     "text": [
      "weekdays\n"
     ]
    }
   ],
   "source": [
    "s3 = \"WEEKDAYS\"\n",
    "print(s3.lower())"
   ]
  },
  {
   "cell_type": "code",
   "execution_count": 6,
   "id": "e7ad877f-4722-46f4-9f54-4107a3132117",
   "metadata": {},
   "outputs": [
    {
     "name": "stdout",
     "output_type": "stream",
     "text": [
      "This is python class\n"
     ]
    }
   ],
   "source": [
    "print(s1.capitalize())"
   ]
  },
  {
   "cell_type": "code",
   "execution_count": 7,
   "id": "f54a1990-28ab-483f-9a37-0289a941c254",
   "metadata": {},
   "outputs": [
    {
     "name": "stdout",
     "output_type": "stream",
     "text": [
      "weekDAYS\n"
     ]
    }
   ],
   "source": [
    "s4 = \"WEEKdays\"\n",
    "print(s4.swapcase())"
   ]
  },
  {
   "cell_type": "code",
   "execution_count": 11,
   "id": "9d645674-4bce-4742-b324-fe6321ec156f",
   "metadata": {},
   "outputs": [
    {
     "name": "stdout",
     "output_type": "stream",
     "text": [
      "yes\n"
     ]
    }
   ],
   "source": [
    "s5 = \"7AMon23Dec\"\n",
    "\n",
    "if s5.isalnum():\n",
    "    print('yes')\n",
    "else:\n",
    "    print('no')"
   ]
  },
  {
   "cell_type": "code",
   "execution_count": 15,
   "id": "5ed9ba4a-373d-47f3-850a-847b759fa57f",
   "metadata": {},
   "outputs": [
    {
     "name": "stdout",
     "output_type": "stream",
     "text": [
      "16\n",
      "python is\n",
      "Python is\n"
     ]
    }
   ],
   "source": [
    "s6 = \"python is       \"\n",
    "print(len(s6))\n",
    "print(s6.rstrip())\n",
    "s7 = \"       Python is\"\n",
    "print(s7.lstrip())"
   ]
  },
  {
   "cell_type": "code",
   "execution_count": 16,
   "id": "212122fb-7da0-49f1-9192-1f89c343a3bd",
   "metadata": {},
   "outputs": [
    {
     "name": "stdout",
     "output_type": "stream",
     "text": [
      "['this is python cl', 'ss']\n"
     ]
    }
   ],
   "source": [
    "s8 = s1.split(\"a\")\n",
    "print(s8)"
   ]
  },
  {
   "cell_type": "code",
   "execution_count": 18,
   "id": "1bcdfe66-648f-4525-a0b6-39ecf606114b",
   "metadata": {},
   "outputs": [
    {
     "name": "stdout",
     "output_type": "stream",
     "text": [
      "['this', 'is', 'python', 'class']\n"
     ]
    }
   ],
   "source": [
    "print(s1.split(\" \"))"
   ]
  },
  {
   "cell_type": "code",
   "execution_count": 21,
   "id": "cf6ed341-412d-4eae-8b79-8be338632cb4",
   "metadata": {},
   "outputs": [
    {
     "name": "stdout",
     "output_type": "stream",
     "text": [
      "ssalc nohtyp si siht\n"
     ]
    }
   ],
   "source": [
    "print(s1[::-1])"
   ]
  },
  {
   "cell_type": "code",
   "execution_count": 22,
   "id": "83554d21-6b93-4b82-89a1-5e59e437998d",
   "metadata": {},
   "outputs": [
    {
     "name": "stdout",
     "output_type": "stream",
     "text": [
      "this is python classtris is pytron class\n"
     ]
    }
   ],
   "source": [
    "print(s1+s2)"
   ]
  },
  {
   "cell_type": "code",
   "execution_count": 26,
   "id": "03b42e3a-8de8-49a1-9d90-2276a6d6ff9e",
   "metadata": {},
   "outputs": [
    {
     "name": "stdout",
     "output_type": "stream",
     "text": [
      "[2, 5, 7, 9, 3, 'python', 5] [3, 9, 6, 1] [] []\n"
     ]
    }
   ],
   "source": [
    "#List\n",
    "#creating the list\n",
    "my_list1 = [2,5,7,9,3,\"python\",5]\n",
    "my_list2 = list((3,9,6,1))\n",
    "my_list3 = []\n",
    "my_list4 = list()\n",
    "print(my_list1,my_list2,my_list3,my_list4)"
   ]
  },
  {
   "cell_type": "code",
   "execution_count": 27,
   "id": "95407a51-7d18-4b07-87bc-fad0325c9a98",
   "metadata": {},
   "outputs": [
    {
     "name": "stdout",
     "output_type": "stream",
     "text": [
      "7\n",
      "4\n",
      "0\n",
      "0\n"
     ]
    }
   ],
   "source": [
    "print(len(my_list1))\n",
    "print(len(my_list2))\n",
    "print(len(my_list3))\n",
    "print(len(my_list4))"
   ]
  },
  {
   "cell_type": "code",
   "execution_count": 28,
   "id": "19074421-ed91-4419-ad86-163a27266c3d",
   "metadata": {},
   "outputs": [
    {
     "name": "stdout",
     "output_type": "stream",
     "text": [
      "3\n",
      "6\n"
     ]
    }
   ],
   "source": [
    "print(my_list1[4])\n",
    "print(my_list2[-2])"
   ]
  },
  {
   "cell_type": "code",
   "execution_count": 34,
   "id": "f2cb7cec-2755-4142-8f76-3ccadcb8a366",
   "metadata": {},
   "outputs": [
    {
     "name": "stdout",
     "output_type": "stream",
     "text": [
      "[2, 5, 7, 9]\n",
      "[9]\n"
     ]
    }
   ],
   "source": [
    "print(my_list1[0:4])\n",
    "print(my_list2[1:2])"
   ]
  },
  {
   "cell_type": "code",
   "execution_count": 38,
   "id": "4e672eaf-cc7b-4f22-827f-011cfcb5e0e5",
   "metadata": {},
   "outputs": [
    {
     "name": "stdout",
     "output_type": "stream",
     "text": [
      "[5]\n",
      "[2, 7, 3, 5]\n"
     ]
    }
   ],
   "source": [
    "print(my_list1[-1::])\n",
    "print(my_list1[::2])"
   ]
  },
  {
   "cell_type": "code",
   "execution_count": 39,
   "id": "62f10936-180a-47e7-8c2b-205731d3b8bd",
   "metadata": {},
   "outputs": [
    {
     "name": "stdout",
     "output_type": "stream",
     "text": [
      "2\n",
      "5\n",
      "7\n",
      "9\n",
      "3\n",
      "python\n",
      "5\n"
     ]
    }
   ],
   "source": [
    "for x in my_list1:\n",
    "    print(x)"
   ]
  },
  {
   "cell_type": "code",
   "execution_count": 40,
   "id": "efa7a706-4bad-4486-955c-18c75bd7e8ae",
   "metadata": {},
   "outputs": [
    {
     "name": "stdout",
     "output_type": "stream",
     "text": [
      "[2, 5, 7, 9, 3, 'python', 5, 'Friday']\n",
      "[3, 9, 6, 1, [45]]\n"
     ]
    }
   ],
   "source": [
    "#adding the items in the list\n",
    "#append(), insert(), extend()\n",
    "my_list1.append(\"Friday\")\n",
    "my_list2.append([45])\n",
    "print(my_list1)\n",
    "print(my_list2)"
   ]
  },
  {
   "cell_type": "code",
   "execution_count": 46,
   "id": "2c26d741-13aa-4796-8db3-d109fe62a0c3",
   "metadata": {},
   "outputs": [
    {
     "name": "stdout",
     "output_type": "stream",
     "text": [
      "[2, 5, 'Jupyter', 'Jupyter', 'Jupyter', 'Jupyter', 'Jupyter', 'Jupyter', 7, 9, 3, 'python', 5, 'Friday']\n",
      "[3, 9, 6, 1, 'fita', ['academy'], [45]]\n"
     ]
    }
   ],
   "source": [
    "my_list1.insert(2,\"Jupyter\")\n",
    "my_list2.insert(5,[\"academy\"])\n",
    "print(my_list1)\n",
    "print(my_list2)"
   ]
  },
  {
   "cell_type": "code",
   "execution_count": 48,
   "id": "58af26fd-8f1e-4d9a-8048-81c8f4f9117c",
   "metadata": {},
   "outputs": [
    {
     "name": "stdout",
     "output_type": "stream",
     "text": [
      "[3, 9, 6, 1, 'fita', ['academy', 'tnagar', '12B'], [45, 67, 12, 43]]\n"
     ]
    }
   ],
   "source": [
    "my_list2 = [3, 9, 6, 1, 'fita', ['academy','tnagar','12B'], [45,67,12,43]]\n",
    "print(my_list2)"
   ]
  },
  {
   "cell_type": "code",
   "execution_count": 49,
   "id": "c741007e-c8cc-4e19-9366-e99b4caff9bd",
   "metadata": {},
   "outputs": [
    {
     "name": "stdout",
     "output_type": "stream",
     "text": [
      "tnagar\n"
     ]
    }
   ],
   "source": [
    "print(my_list2[5][1])"
   ]
  },
  {
   "cell_type": "markdown",
   "id": "c9682095-c8d4-4ef4-bb24-5b9626930deb",
   "metadata": {},
   "source": [
    "26 Dec"
   ]
  },
  {
   "cell_type": "code",
   "execution_count": 1,
   "id": "b199d235-64b4-477a-b478-61359fa910c6",
   "metadata": {},
   "outputs": [
    {
     "name": "stdout",
     "output_type": "stream",
     "text": [
      "<class 'int'>\n",
      "<class 'float'>\n"
     ]
    }
   ],
   "source": [
    "a = 10\n",
    "b = 6.9\n",
    "print(type(a))\n",
    "print(type(b))"
   ]
  },
  {
   "cell_type": "code",
   "execution_count": 2,
   "id": "3791ac52-ada2-4151-99cd-db48b18026ed",
   "metadata": {},
   "outputs": [
    {
     "name": "stdout",
     "output_type": "stream",
     "text": [
      "2.356194490192345\n"
     ]
    }
   ],
   "source": [
    "import cmath\n",
    "\n",
    "p = cmath.phase(complex(-1.0,1))\n",
    "print(p)"
   ]
  },
  {
   "cell_type": "code",
   "execution_count": 3,
   "id": "11d551c8-72d7-49d5-86ca-9f42f6050f7e",
   "metadata": {},
   "outputs": [
    {
     "name": "stdout",
     "output_type": "stream",
     "text": [
      "0o12\n",
      "0xa\n"
     ]
    }
   ],
   "source": [
    "print(oct(a))\n",
    "print(hex(a))"
   ]
  },
  {
   "cell_type": "code",
   "execution_count": 4,
   "id": "c3224fc6-4b67-4a48-8c93-bd3ef911a1cb",
   "metadata": {},
   "outputs": [
    {
     "name": "stdout",
     "output_type": "stream",
     "text": [
      "16.9\n",
      "<class 'float'>\n"
     ]
    }
   ],
   "source": [
    "c = a+b\n",
    "print(c)\n",
    "print(type(c))"
   ]
  },
  {
   "cell_type": "code",
   "execution_count": 6,
   "id": "7aac6c6d-6d97-46d4-a1c0-4edf0b418850",
   "metadata": {},
   "outputs": [
    {
     "name": "stdout",
     "output_type": "stream",
     "text": [
      "Fita90\n",
      "<class 'int'>\n"
     ]
    }
   ],
   "source": [
    "s = \"Fita\"\n",
    "x = 90\n",
    "print(s+str(x))\n",
    "print(type(x))"
   ]
  },
  {
   "cell_type": "code",
   "execution_count": 12,
   "id": "5c4dae39-2b82-480c-9033-82e79d1c2da4",
   "metadata": {},
   "outputs": [
    {
     "ename": "NameError",
     "evalue": "name 'ceil' is not defined",
     "output_type": "error",
     "traceback": [
      "\u001b[1;31m---------------------------------------------------------------------------\u001b[0m",
      "\u001b[1;31mNameError\u001b[0m                                 Traceback (most recent call last)",
      "\u001b[1;32m~\\AppData\\Local\\Temp\\ipykernel_5124\\2336068050.py\u001b[0m in \u001b[0;36m<module>\u001b[1;34m\u001b[0m\n\u001b[0;32m      2\u001b[0m \u001b[1;33m\u001b[0m\u001b[0m\n\u001b[0;32m      3\u001b[0m \u001b[0mi\u001b[0m \u001b[1;33m=\u001b[0m \u001b[1;36m3.5\u001b[0m\u001b[1;33m\u001b[0m\u001b[1;33m\u001b[0m\u001b[0m\n\u001b[1;32m----> 4\u001b[1;33m \u001b[0mprint\u001b[0m\u001b[1;33m(\u001b[0m\u001b[0mceil\u001b[0m\u001b[1;33m(\u001b[0m\u001b[0mi\u001b[0m\u001b[1;33m)\u001b[0m\u001b[1;33m)\u001b[0m\u001b[1;33m\u001b[0m\u001b[1;33m\u001b[0m\u001b[0m\n\u001b[0m\u001b[0;32m      5\u001b[0m \u001b[0mprint\u001b[0m\u001b[1;33m(\u001b[0m\u001b[0mfloor\u001b[0m\u001b[1;33m(\u001b[0m\u001b[0mi\u001b[0m\u001b[1;33m)\u001b[0m\u001b[1;33m)\u001b[0m\u001b[1;33m\u001b[0m\u001b[1;33m\u001b[0m\u001b[0m\n",
      "\u001b[1;31mNameError\u001b[0m: name 'ceil' is not defined"
     ]
    }
   ],
   "source": [
    "import math\n",
    "\n",
    "i = 3.5\n",
    "print(ceil(i))\n",
    "print(floor(i))"
   ]
  },
  {
   "cell_type": "code",
   "execution_count": 18,
   "id": "fce2b119-f9a9-4274-ba00-13081a31ceb7",
   "metadata": {},
   "outputs": [
    {
     "name": "stdout",
     "output_type": "stream",
     "text": [
      "120\n",
      "75.66\n",
      "-75\n",
      "25.0\n",
      "2.0794415416798357\n"
     ]
    }
   ],
   "source": [
    "import math\n",
    "\n",
    "print(math.factorial(5))\n",
    "print(math.fabs(-75.66))\n",
    "print(math.trunc(-75.66))\n",
    "print(math.pow(5,2))\n",
    "print(math.log(8))"
   ]
  },
  {
   "cell_type": "code",
   "execution_count": 19,
   "id": "4f015993-44bd-4e15-a4ee-ce325e74a88c",
   "metadata": {},
   "outputs": [
    {
     "name": "stdout",
     "output_type": "stream",
     "text": [
      "(3, 7, 9, 'Fita', 18.4, 'Fita')\n",
      "<class 'tuple'>\n"
     ]
    }
   ],
   "source": [
    "#tuple\n",
    "my_tup1 = (3,7,9,\"Fita\",18.4,\"Fita\")\n",
    "print(my_tup1)\n",
    "print(type(my_tup1))"
   ]
  },
  {
   "cell_type": "code",
   "execution_count": 20,
   "id": "f7da8d16-7cd4-4c8d-8964-8503e1618cf1",
   "metadata": {},
   "outputs": [
    {
     "name": "stdout",
     "output_type": "stream",
     "text": [
      "('Batch', 21, 'Dec', 2022)\n"
     ]
    }
   ],
   "source": [
    "my_tup2 = tuple(('Batch',21,'Dec',2022))\n",
    "print(my_tup2)"
   ]
  },
  {
   "cell_type": "code",
   "execution_count": 22,
   "id": "f5b91bf9-7f07-45f2-a587-8d6e9f5dfc9f",
   "metadata": {},
   "outputs": [
    {
     "name": "stdout",
     "output_type": "stream",
     "text": [
      "<class 'tuple'>\n"
     ]
    }
   ],
   "source": [
    "my_tup3 = ('January',)\n",
    "print(type(my_tup3))"
   ]
  },
  {
   "cell_type": "code",
   "execution_count": 23,
   "id": "85f3b589-c99c-40f1-8168-bcc8b40dce91",
   "metadata": {},
   "outputs": [
    {
     "name": "stdout",
     "output_type": "stream",
     "text": [
      "6\n",
      "4\n",
      "1\n"
     ]
    }
   ],
   "source": [
    "print(len(my_tup1))\n",
    "print(len(my_tup2))\n",
    "print(len(my_tup3))"
   ]
  },
  {
   "cell_type": "code",
   "execution_count": 25,
   "id": "b0678843-63cc-46b4-9f4c-a7b76c6b8b9d",
   "metadata": {},
   "outputs": [
    {
     "name": "stdout",
     "output_type": "stream",
     "text": [
      "3\n",
      "7\n",
      "9\n",
      "Fita\n",
      "18.4\n",
      "Fita\n"
     ]
    }
   ],
   "source": [
    "for i in my_tup1:\n",
    "    print(i)"
   ]
  },
  {
   "cell_type": "code",
   "execution_count": 28,
   "id": "0524fc8a-93e3-41d3-b0e3-4e69453725ef",
   "metadata": {},
   "outputs": [
    {
     "name": "stdout",
     "output_type": "stream",
     "text": [
      "7\n",
      "18.4\n"
     ]
    }
   ],
   "source": [
    "print(my_tup1[1])\n",
    "print(my_tup1[-2])"
   ]
  },
  {
   "cell_type": "code",
   "execution_count": 29,
   "id": "6080e06d-20d4-449e-8e11-4b1685cbbd97",
   "metadata": {},
   "outputs": [
    {
     "name": "stdout",
     "output_type": "stream",
     "text": [
      "(7, 9, 'Fita')\n"
     ]
    }
   ],
   "source": [
    "print(my_tup1[1:4])"
   ]
  },
  {
   "cell_type": "code",
   "execution_count": 31,
   "id": "f1e75490-87e2-4e6c-b9e6-1254d2b3de96",
   "metadata": {},
   "outputs": [
    {
     "name": "stdout",
     "output_type": "stream",
     "text": [
      "False\n"
     ]
    }
   ],
   "source": [
    "print(17.4 in my_tup1)"
   ]
  },
  {
   "cell_type": "code",
   "execution_count": 34,
   "id": "a7a9d2b7-7b9f-45eb-803a-21c04364f611",
   "metadata": {},
   "outputs": [
    {
     "name": "stdout",
     "output_type": "stream",
     "text": [
      "[3, 7, 9, 'Fita', 18.4, 'Fita']\n",
      "(3, 7, 9, 'Fita', 18.4, 'Fita', 'Dinesh')\n"
     ]
    }
   ],
   "source": [
    "sam = list(my_tup1)\n",
    "print(sam)\n",
    "sam.append(\"Dinesh\")\n",
    "my_tup1 = tuple(sam)\n",
    "print(my_tup1)"
   ]
  },
  {
   "cell_type": "code",
   "execution_count": 37,
   "id": "551ae667-2556-4d26-a4b5-faaa5dd1343c",
   "metadata": {},
   "outputs": [
    {
     "ename": "NameError",
     "evalue": "name 'my_tup3' is not defined",
     "output_type": "error",
     "traceback": [
      "\u001b[1;31m---------------------------------------------------------------------------\u001b[0m",
      "\u001b[1;31mNameError\u001b[0m                                 Traceback (most recent call last)",
      "\u001b[1;32m~\\AppData\\Local\\Temp\\ipykernel_5124\\399447542.py\u001b[0m in \u001b[0;36m<module>\u001b[1;34m\u001b[0m\n\u001b[1;32m----> 1\u001b[1;33m \u001b[1;32mdel\u001b[0m \u001b[0mmy_tup3\u001b[0m\u001b[1;33m\u001b[0m\u001b[1;33m\u001b[0m\u001b[0m\n\u001b[0m\u001b[0;32m      2\u001b[0m \u001b[0mmy_tup1\u001b[0m\u001b[1;33m.\u001b[0m\u001b[0mpop\u001b[0m\u001b[1;33m(\u001b[0m\u001b[1;36m2\u001b[0m\u001b[1;33m)\u001b[0m\u001b[1;33m\u001b[0m\u001b[1;33m\u001b[0m\u001b[0m\n",
      "\u001b[1;31mNameError\u001b[0m: name 'my_tup3' is not defined"
     ]
    }
   ],
   "source": [
    "del my_tup3\n",
    "my_tup1.pop(2)"
   ]
  },
  {
   "cell_type": "markdown",
   "id": "50dccfdb-719c-4f51-9695-647c9976d653",
   "metadata": {},
   "source": [
    "28 DEC"
   ]
  },
  {
   "cell_type": "code",
   "execution_count": 4,
   "id": "5a806140-db5a-4015-a3d1-e19f2798d4e2",
   "metadata": {},
   "outputs": [
    {
     "name": "stdout",
     "output_type": "stream",
     "text": [
      "{3, 'Wednesday', 6.7}\n",
      "<class 'set'>\n",
      "{'Kohli', 100, 45.7, 'Pandya'}\n"
     ]
    }
   ],
   "source": [
    "#Set - Unordered Unique,\n",
    "my_set1 = {3,6.7,'Wednesday'}\n",
    "print(my_set1)\n",
    "print(type(my_set1))\n",
    "my_set2 = set((\"Kohli\",\"Pandya\",100,45.7))\n",
    "print(my_set2)"
   ]
  },
  {
   "cell_type": "code",
   "execution_count": 8,
   "id": "29ce083e-293c-4ca1-a74a-fd8c1dedff7e",
   "metadata": {},
   "outputs": [
    {
     "name": "stdout",
     "output_type": "stream",
     "text": [
      "4\n"
     ]
    }
   ],
   "source": [
    "print(len(my_set2))"
   ]
  },
  {
   "cell_type": "code",
   "execution_count": 10,
   "id": "04eb47a9-6047-4b6f-b3d4-10d0de0096c9",
   "metadata": {},
   "outputs": [
    {
     "name": "stdout",
     "output_type": "stream",
     "text": [
      "{3, 'Wednesday', 6.7, 'HCL'}\n",
      "{3, 5, 6.7, 8.7, 'Wednesday', 'December', 'HCL'}\n"
     ]
    }
   ],
   "source": [
    "my_set1.add('HCL')\n",
    "print(my_set1)\n",
    "my_set1.update([5,8.7,'December'])\n",
    "print(my_set1)"
   ]
  },
  {
   "cell_type": "code",
   "execution_count": 15,
   "id": "c1c3ba17-ae3f-468a-bbe1-6dce936b4576",
   "metadata": {},
   "outputs": [
    {
     "name": "stdout",
     "output_type": "stream",
     "text": [
      "{8.7, 'Wednesday', 'December', 'HCL'}\n",
      "{'Wednesday', 'December', 'HCL'}\n",
      "set()\n"
     ]
    }
   ],
   "source": [
    "#my_set1.remove(6.7)\n",
    "print(my_set1)\n",
    "my_set1.pop()\n",
    "print(my_set1)\n",
    "my_set2.clear()\n",
    "print(my_set2)\n",
    "del my_set2"
   ]
  },
  {
   "cell_type": "code",
   "execution_count": 17,
   "id": "c5c89cd2-c627-483e-bcae-65132780f961",
   "metadata": {},
   "outputs": [],
   "source": [
    "my_set1.add(\"Kohli\")"
   ]
  },
  {
   "cell_type": "code",
   "execution_count": 19,
   "id": "594e5dd3-965f-4dec-b323-97e3603c21c2",
   "metadata": {},
   "outputs": [],
   "source": [
    "my_set3 = {\"Kohli\",\"Rohit\",'HCL'}"
   ]
  },
  {
   "cell_type": "code",
   "execution_count": 22,
   "id": "f45b9342-bd3f-42c5-b347-9890bd49943d",
   "metadata": {},
   "outputs": [
    {
     "name": "stdout",
     "output_type": "stream",
     "text": [
      "{'December', 'Rohit', 'HCL', 'Kohli', 'Wednesday'}\n",
      "{'December', 'Rohit', 'HCL', 'Kohli', 'Wednesday'}\n"
     ]
    }
   ],
   "source": [
    "my_set4 = my_set1 | my_set3\n",
    "print(my_set4)\n",
    "my_set5 = my_set1.union(my_set3)\n",
    "print(my_set5)"
   ]
  },
  {
   "cell_type": "code",
   "execution_count": 25,
   "id": "c9421433-2fc8-4d3b-8ce7-57536467675a",
   "metadata": {},
   "outputs": [
    {
     "name": "stdout",
     "output_type": "stream",
     "text": [
      "{'Kohli', 'HCL'}\n",
      "{'Kohli', 'HCL'}\n"
     ]
    }
   ],
   "source": [
    "print(my_set1 & my_set3)\n",
    "my_set6 = my_set1.intersection(my_set3)\n",
    "print(my_set6)"
   ]
  },
  {
   "cell_type": "code",
   "execution_count": 29,
   "id": "e910b304-bc7d-4d32-804f-1b8f446b18e5",
   "metadata": {},
   "outputs": [
    {
     "name": "stdout",
     "output_type": "stream",
     "text": [
      "{'December', 'Wednesday'}\n",
      "{'December', 'Wednesday'}\n"
     ]
    }
   ],
   "source": [
    "print(my_set1 - my_set3)\n",
    "print(my_set1.difference(my_set3))"
   ]
  },
  {
   "cell_type": "code",
   "execution_count": 30,
   "id": "9f1e65b0-5fa4-4c7b-a445-b1be15721dda",
   "metadata": {},
   "outputs": [
    {
     "name": "stdout",
     "output_type": "stream",
     "text": [
      "{'Kohli', 'Wednesday', 'December', 'HCL'}\n"
     ]
    }
   ],
   "source": [
    "my_set1.add(\"Kohli\")\n",
    "print(my_set1)"
   ]
  },
  {
   "cell_type": "code",
   "execution_count": 32,
   "id": "2cb48ca8-6796-4d04-bc86-0092cea642a6",
   "metadata": {},
   "outputs": [
    {
     "name": "stdout",
     "output_type": "stream",
     "text": [
      "{'1': 'CSK', 'MUM': '5'}\n",
      "<class 'dict'>\n"
     ]
    }
   ],
   "source": [
    "#Dictionaries - Unique, Mutable, Ordered\n",
    "\n",
    "my_dict1 = {\"1\":\"CSK\",\"MUM\":\"5\"}\n",
    "print(my_dict1)\n",
    "print(type(my_dict1))"
   ]
  },
  {
   "cell_type": "code",
   "execution_count": 33,
   "id": "f9ddebd9-9dcb-4bce-b83e-a62efded0aed",
   "metadata": {},
   "outputs": [
    {
     "name": "stdout",
     "output_type": "stream",
     "text": [
      "{'name': 'RCB', 'num': 'KKR'}\n"
     ]
    }
   ],
   "source": [
    "my_dict2 = dict({\"name\":\"RCB\",\"num\":\"KKR\"})\n",
    "print(my_dict2)"
   ]
  },
  {
   "cell_type": "code",
   "execution_count": 35,
   "id": "b7b986b3-53e5-45a3-a012-8da80b6ea028",
   "metadata": {},
   "outputs": [
    {
     "name": "stdout",
     "output_type": "stream",
     "text": [
      "dict_keys(['1', 'MUM'])\n",
      "dict_values(['CSK', '5'])\n"
     ]
    }
   ],
   "source": [
    "print(my_dict1.keys())\n",
    "print(my_dict1.values())"
   ]
  },
  {
   "cell_type": "code",
   "execution_count": 37,
   "id": "ba1c9f9d-a70a-49aa-bfa2-d7fcab28d94b",
   "metadata": {},
   "outputs": [
    {
     "name": "stdout",
     "output_type": "stream",
     "text": [
      "{'1': 'CSK', 'MUM': '5', 'bowl': 'Bumbrah'}\n"
     ]
    }
   ],
   "source": [
    "my_dict1[\"bowl\"] = \"Bumbrah\"\n",
    "print(my_dict1)\n"
   ]
  },
  {
   "cell_type": "code",
   "execution_count": 38,
   "id": "efeae3fe-98bb-44b4-8803-816efd3e410c",
   "metadata": {},
   "outputs": [
    {
     "name": "stdout",
     "output_type": "stream",
     "text": [
      "{'name': 'RCB', 'num': 'KXI'}\n"
     ]
    }
   ],
   "source": [
    "my_dict2[\"num\"] = \"KXI\"\n",
    "print(my_dict2)"
   ]
  },
  {
   "cell_type": "code",
   "execution_count": 39,
   "id": "a82b33c9-7d8d-48e3-8af8-50eab13a5053",
   "metadata": {},
   "outputs": [
    {
     "name": "stdout",
     "output_type": "stream",
     "text": [
      "{'name': 'RCB'}\n"
     ]
    }
   ],
   "source": [
    "my_dict2.pop(\"num\")\n",
    "print(my_dict2)"
   ]
  },
  {
   "cell_type": "code",
   "execution_count": 41,
   "id": "1580bedf-569c-469b-9ee6-bf692181ffed",
   "metadata": {},
   "outputs": [
    {
     "name": "stdout",
     "output_type": "stream",
     "text": [
      "{'1': 'CSK'}\n"
     ]
    }
   ],
   "source": [
    "my_dict1.popitem()\n",
    "print(my_dict1)"
   ]
  },
  {
   "cell_type": "code",
   "execution_count": 1,
   "id": "9d3dc3ec-4cf7-49e4-9a2a-05929141f25e",
   "metadata": {},
   "outputs": [],
   "source": [
    "#29 Dec"
   ]
  },
  {
   "cell_type": "code",
   "execution_count": 3,
   "id": "4bff7fe7-28a5-4359-94db-97045771dcb6",
   "metadata": {},
   "outputs": [
    {
     "name": "stdout",
     "output_type": "stream",
     "text": [
      "Num is greater\n"
     ]
    }
   ],
   "source": [
    "#control flow statements\n",
    "#if\n",
    "num = 10\n",
    "if num > 5:\n",
    "    print(\"Num is greater\")"
   ]
  },
  {
   "cell_type": "code",
   "execution_count": 4,
   "id": "752651ef-6e94-4feb-a0b6-cd7be0a81094",
   "metadata": {},
   "outputs": [
    {
     "name": "stdout",
     "output_type": "stream",
     "text": [
      "It is greater\n"
     ]
    }
   ],
   "source": [
    "if num < 5:\n",
    "    print(\"it is lesser\")\n",
    "else:\n",
    "    print(\"It is greater\")"
   ]
  },
  {
   "cell_type": "code",
   "execution_count": 6,
   "id": "ade116d2-1a3f-4287-ae99-75aabecbe3fc",
   "metadata": {},
   "outputs": [
    {
     "name": "stdout",
     "output_type": "stream",
     "text": [
      "It is 10\n"
     ]
    }
   ],
   "source": [
    "if num < 5: #chain if\n",
    "    print(\"It is lesser\")\n",
    "elif num == 7:\n",
    "    print(\"It is not 7\")\n",
    "elif num == 10:\n",
    "    print(\"It is 10\")\n",
    "else:\n",
    "    print(\"It is greater number\")"
   ]
  },
  {
   "cell_type": "code",
   "execution_count": 9,
   "id": "10562f67-4b29-48ed-b99a-8f7db06239ee",
   "metadata": {},
   "outputs": [
    {
     "name": "stdin",
     "output_type": "stream",
     "text": [
      "Enter num1: 5\n",
      "Enter num2: 10\n"
     ]
    },
    {
     "name": "stdout",
     "output_type": "stream",
     "text": [
      "5 is smaller 10\n"
     ]
    }
   ],
   "source": [
    "#nested if\n",
    "num1 = int(input(\"Enter num1:\"))\n",
    "num2 = int(input(\"Enter num2:\"))\n",
    "\n",
    "if num1 >= num2:\n",
    "    if num1 == num2:\n",
    "        print(num1,'and', num2, 'are equal')\n",
    "    else:\n",
    "        print(num1,'is greater',num2)\n",
    "else:\n",
    "    print(num1,'is smaller',num2)"
   ]
  },
  {
   "cell_type": "code",
   "execution_count": 10,
   "id": "f77d0cfc-7841-4980-8701-2f80ba65de63",
   "metadata": {},
   "outputs": [
    {
     "name": "stdout",
     "output_type": "stream",
     "text": [
      "1\n",
      "2\n",
      "3\n",
      "4\n",
      "5\n",
      "6\n",
      "7\n",
      "8\n",
      "9\n",
      "10\n"
     ]
    }
   ],
   "source": [
    "#for loop\n",
    "for i in range(1,11):\n",
    "    print(i)"
   ]
  },
  {
   "cell_type": "code",
   "execution_count": 13,
   "id": "20868882-8ff8-4f51-b3b8-bb89dca89673",
   "metadata": {},
   "outputs": [
    {
     "name": "stdout",
     "output_type": "stream",
     "text": [
      "25\n"
     ]
    }
   ],
   "source": [
    "n = 10\n",
    "s = 0\n",
    "i = 1\n",
    "while i<=n:\n",
    "    s = s+i\n",
    "    i = i+2\n",
    "print(s)"
   ]
  },
  {
   "cell_type": "code",
   "execution_count": 18,
   "id": "f62a567f-1812-4e1c-b659-e2a68f5975ec",
   "metadata": {},
   "outputs": [
    {
     "name": "stdout",
     "output_type": "stream",
     "text": [
      "0\n",
      "1\n",
      "2\n",
      "3\n",
      "4\n",
      "5\n",
      "this is break\n"
     ]
    }
   ],
   "source": [
    "#transfer statements - break, continue, pass\n",
    "for a in range(10):\n",
    "    if a > 5:\n",
    "        print(\"this is break\")\n",
    "        break\n",
    "    print(a)"
   ]
  },
  {
   "cell_type": "code",
   "execution_count": 22,
   "id": "0f6f570a-548a-422d-8bd5-a2969d285754",
   "metadata": {},
   "outputs": [
    {
     "name": "stdout",
     "output_type": "stream",
     "text": [
      "2\n",
      "3\n",
      "4\n",
      "6\n",
      "7\n"
     ]
    }
   ],
   "source": [
    "for x in range(2,8):\n",
    "    if x == 5:\n",
    "        continue\n",
    "    else:\n",
    "        print(x)"
   ]
  },
  {
   "cell_type": "code",
   "execution_count": 27,
   "id": "61d2c666-0344-49f9-bc71-b1e6cf9a5428",
   "metadata": {},
   "outputs": [
    {
     "name": "stdout",
     "output_type": "stream",
     "text": [
      "[1, 3, 5, 6]\n"
     ]
    }
   ],
   "source": [
    "li = [1,3,5,6]\n",
    "for a in li:\n",
    "    pass\n",
    "print(li)"
   ]
  },
  {
   "cell_type": "code",
   "execution_count": 8,
   "id": "69575c96-e3e9-428f-8657-86e8261f1d4d",
   "metadata": {},
   "outputs": [
    {
     "name": "stdout",
     "output_type": "stream",
     "text": [
      " \n",
      "1  \n",
      "2 2  \n",
      "3 3 3  \n",
      "4 4 4 4  \n",
      "5 5 5 5 5  \n"
     ]
    }
   ],
   "source": [
    "# 30 Dec\n",
    "for i in range(0, 6):\n",
    "    for j in range(i):\n",
    "        print(i, end=' ')\n",
    "    print(' ')"
   ]
  },
  {
   "cell_type": "code",
   "execution_count": 3,
   "id": "e4478e2d-baa5-415e-97eb-e5833e191391",
   "metadata": {},
   "outputs": [
    {
     "name": "stdout",
     "output_type": "stream",
     "text": [
      "        51 \n",
      "       51 51 \n",
      "      51 51 51 \n",
      "     51 51 51 51 \n",
      "    51 51 51 51 51 \n"
     ]
    }
   ],
   "source": [
    "def fun(n):\n",
    "    a = 2 * n - 2\n",
    "    for i in range(0,n):\n",
    "        for j in range(0,a):\n",
    "            print(end = ' ')\n",
    "        a = a - 1\n",
    "        for j in range(0, i+1):\n",
    "            print('51', end= ' ')\n",
    "        print(\"\\r\")\n",
    "fun(5)"
   ]
  },
  {
   "cell_type": "code",
   "execution_count": 127,
   "id": "d1abc42d-81d6-4634-aec3-b3fd2926490c",
   "metadata": {},
   "outputs": [
    {
     "name": "stdout",
     "output_type": "stream",
     "text": [
      "0 1 0 1 0 1 0 1 0 1  \n",
      "0 1 0 1 0 1 0 1  \n",
      "0 1 0 1 0 1  \n",
      "0 1 0 1  \n",
      "0 1  \n"
     ]
    }
   ],
   "source": [
    "n = 6\n",
    "for i in range(1,n):\n",
    "    for j in range(i, n, 1):\n",
    "        i = 0\n",
    "        j = 1\n",
    "        print(i,end=' ')\n",
    "        print(j,end=' ')\n",
    "    print(' ')"
   ]
  },
  {
   "cell_type": "code",
   "execution_count": 2,
   "id": "bf1a622b-34a2-450c-a037-0cc79189e745",
   "metadata": {},
   "outputs": [
    {
     "name": "stdout",
     "output_type": "stream",
     "text": [
      "Welcome to FITA Academy\n"
     ]
    }
   ],
   "source": [
    "#02 Jan - functions\n",
    "def fita():\n",
    "    print(\"Welcome to FITA Academy\")\n",
    "\n",
    "fita()"
   ]
  },
  {
   "cell_type": "code",
   "execution_count": 4,
   "id": "38361c74-43b1-4a32-af01-926cb310df7c",
   "metadata": {},
   "outputs": [
    {
     "name": "stdout",
     "output_type": "stream",
     "text": [
      "Student name is - Prakash\n",
      "Course name is - Python\n"
     ]
    }
   ],
   "source": [
    "def course(stu_name,cour_name):\n",
    "    print(\"Student name is -\", stu_name)\n",
    "    print(\"Course name is -\",cour_name)\n",
    "    \n",
    "course(\"Prakash\",\"Python\")"
   ]
  },
  {
   "cell_type": "code",
   "execution_count": 5,
   "id": "f236ed27-e8ff-4268-8121-b94754ffd903",
   "metadata": {},
   "outputs": [
    {
     "data": {
      "text/plain": [
       "15"
      ]
     },
     "execution_count": 5,
     "metadata": {},
     "output_type": "execute_result"
    }
   ],
   "source": [
    "def add(a,b):\n",
    "    add = a+b\n",
    "    return add\n",
    "\n",
    "add(10,5)"
   ]
  },
  {
   "cell_type": "code",
   "execution_count": 7,
   "id": "ee188e22-a9f1-45f6-b170-85ecc31891a8",
   "metadata": {},
   "outputs": [
    {
     "name": "stdout",
     "output_type": "stream",
     "text": [
      "19\n",
      "range(0, 10)\n"
     ]
    }
   ],
   "source": [
    "from random import randint\n",
    "\n",
    "print(randint(15,30))\n",
    "print(range(0,10))"
   ]
  },
  {
   "cell_type": "code",
   "execution_count": 8,
   "id": "e99a3349-b22f-431d-a721-79b780df702f",
   "metadata": {},
   "outputs": [
    {
     "data": {
      "text/plain": [
       "(12, 8, 20, 5.0)"
      ]
     },
     "execution_count": 8,
     "metadata": {},
     "output_type": "execute_result"
    }
   ],
   "source": [
    "def cal(n1,n2):\n",
    "    add = n1+n2\n",
    "    sub = n1-n2\n",
    "    mul = n1*n2\n",
    "    div = n1/n2\n",
    "    return add,sub,mul,div\n",
    "\n",
    "cal(10,2)"
   ]
  },
  {
   "cell_type": "code",
   "execution_count": 9,
   "id": "af80be86-7ed5-4eb8-b35a-2b1fab33e060",
   "metadata": {},
   "outputs": [],
   "source": [
    "def gun(a,b,c):\n",
    "    pass\n",
    "gun(2,3,4)"
   ]
  },
  {
   "cell_type": "code",
   "execution_count": 17,
   "id": "4873aeff-57d9-4758-936c-2c80b7689199",
   "metadata": {},
   "outputs": [
    {
     "name": "stdout",
     "output_type": "stream",
     "text": [
      "Name is Lokeesh Age  is 27\n"
     ]
    }
   ],
   "source": [
    "class Student:\n",
    "    def __init__(self, name, age):\n",
    "        self.name = name\n",
    "        self.age = age\n",
    "    def show(self): #instance methods\n",
    "        print(\"Name is\",self.name,\"Age  is\",self.age)\n",
    "        \n",
    "Stu = Student(\"Lokeesh\",27)\n",
    "Stu.show()"
   ]
  },
  {
   "cell_type": "code",
   "execution_count": 3,
   "id": "c92a5c5b-93bc-4fc1-9a6b-0cad142fb7ee",
   "metadata": {},
   "outputs": [
    {
     "name": "stdout",
     "output_type": "stream",
     "text": [
      "This is RCB\n",
      "This is Kohli\n",
      "This is Cricket class\n"
     ]
    }
   ],
   "source": [
    "# Multilevel inheritance (A -- B -- C) --- 09 Jan 2023\n",
    "class Cricket:\n",
    "    def Score(self):\n",
    "        print(\"This is Cricket class\")\n",
    "        \n",
    "class Kohli(Cricket):\n",
    "    def Bat(self):\n",
    "        print(\"This is Kohli\")\n",
    "\n",
    "class Rcb(Kohli):\n",
    "    def Runs(self):\n",
    "        print(\"This is RCB\")\n",
    "        \n",
    "R = Rcb()\n",
    "R.Runs()\n",
    "R.Bat()\n",
    "R.Score()    "
   ]
  },
  {
   "cell_type": "code",
   "execution_count": 6,
   "id": "40f581e7-905b-4bbb-9863-c99a88c391f4",
   "metadata": {},
   "outputs": [
    {
     "name": "stdout",
     "output_type": "stream",
     "text": [
      "This is Kohli\n",
      "This is Cricket class\n",
      "This is RCB\n",
      "This is Cricket class\n"
     ]
    }
   ],
   "source": [
    "#Hierarchical - Single parent & Multiple child (A --- B + C + D...)\n",
    "class Cricket:\n",
    "    def Score(self):\n",
    "        print(\"This is Cricket class\")\n",
    "        \n",
    "class Kohli(Cricket):\n",
    "    def Bat(self):\n",
    "        print(\"This is Kohli\")\n",
    "\n",
    "class Rcb(Cricket):\n",
    "    def Runs(self):\n",
    "        print(\"This is RCB\")\n",
    "\n",
    "K = Kohli()\n",
    "K.Bat()\n",
    "K.Score()\n",
    "Rc = Rcb()\n",
    "Rc.Runs()\n",
    "Rc.Score()"
   ]
  },
  {
   "cell_type": "code",
   "execution_count": 8,
   "id": "6ee42c71-93e8-47cd-9baf-9c6efb1d72a3",
   "metadata": {},
   "outputs": [
    {
     "name": "stdout",
     "output_type": "stream",
     "text": [
      "More than 150 cr\n",
      "More than 200 Cr\n"
     ]
    }
   ],
   "source": [
    "#Method Overriding\n",
    "class Ajith:\n",
    "    def Collection(self):\n",
    "        print(\"More than 200 Cr\")\n",
    "class Vijay(Ajith):\n",
    "    def Collection(self):\n",
    "        print(\"More than 150 cr\")\n",
    "\n",
    "Act = Vijay()\n",
    "Act.Collection()\n",
    "A = Ajith()\n",
    "A.Collection()"
   ]
  },
  {
   "cell_type": "code",
   "execution_count": 10,
   "id": "2076a87c-b7e2-4b95-8c89-890b7cab5fca",
   "metadata": {},
   "outputs": [
    {
     "name": "stdout",
     "output_type": "stream",
     "text": [
      "6\n",
      "5\n"
     ]
    }
   ],
   "source": [
    "#Polymorphism\n",
    "\n",
    "string1 = \"Lokesh\"\n",
    "li = [23,5,121,65,87]\n",
    "print(len(string1))\n",
    "print(len(li))"
   ]
  },
  {
   "cell_type": "code",
   "execution_count": 12,
   "id": "8f141707-e5bf-4e06-a781-9388073566dd",
   "metadata": {},
   "outputs": [
    {
     "name": "stdin",
     "output_type": "stream",
     "text": [
      "enter the length of password 7\n"
     ]
    },
    {
     "name": "stdout",
     "output_type": "stream",
     "text": [
      "JG)($0r\n"
     ]
    }
   ],
   "source": [
    "import random\n",
    "passlen = int(input(\"enter the length of password\"))\n",
    "s=\"abcdefghijklmnopqrstuvwxyz01234567890ABCDEFGHIJKLMNOPQRSTUVWXYZ!@#$%^&*()?\"\n",
    "p = \"\".join(random.sample(s,passlen ))\n",
    "print(p)"
   ]
  }
 ],
 "metadata": {
  "kernelspec": {
   "display_name": "Python 3 (ipykernel)",
   "language": "python",
   "name": "python3"
  },
  "language_info": {
   "codemirror_mode": {
    "name": "ipython",
    "version": 3
   },
   "file_extension": ".py",
   "mimetype": "text/x-python",
   "name": "python",
   "nbconvert_exporter": "python",
   "pygments_lexer": "ipython3",
   "version": "3.9.13"
  }
 },
 "nbformat": 4,
 "nbformat_minor": 5
}
