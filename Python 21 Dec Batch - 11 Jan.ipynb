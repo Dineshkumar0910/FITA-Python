{
 "cells":[
  {
   "cell_type":"code",
   "source":[
    "#Encapsulation - protection of data members using Acess Specifiers\n",
    "#private\n",
    "\n",
    "class Student:\n",
    "    def __init__(self,name,age):\n",
    "        self.name = name\n",
    "        self.__age = age #private\n",
    "\n",
    "Stu = Student('Jeeva',24)\n",
    "print(Stu.name)\n",
    "print(Stu.__age)"
   ],
   "execution_count":3,
   "outputs":[
    {
     "name":"stdout",
     "text":[
      "Jeeva\n"
     ],
     "output_type":"stream"
    },
    {
     "ename":"AttributeError",
     "evalue":"AttributeError: 'Student' object has no attribute '__age'",
     "traceback":[
      "\u001b[0;31m---------------------------------------------------------------------------",
      "Traceback (most recent call last)",
      "    at line 11 in <module>",
      "AttributeError: 'Student' object has no attribute '__age'"
     ],
     "output_type":"error"
    }
   ],
   "metadata":{
    "datalore":{
     "node_id":"cn0NdnixYqCYWWYpbKOZa8",
     "type":"CODE",
     "hide_input_from_viewers":false,
     "hide_output_from_viewers":false
    }
   }
  },
  {
   "cell_type":"code",
   "source":[
    "class Student:\n",
    "    def __init__(self,name,age):\n",
    "        self.name = name\n",
    "        self.__age = age\n",
    "    def fun(self):\n",
    "        print(\"Student name is\",self.name,\"and age is\",self.__age)\n",
    "\n",
    "S = Student(\"Jeeva\",24)\n",
    "S.fun()"
   ],
   "execution_count":6,
   "outputs":[
    {
     "name":"stdout",
     "text":[
      "Student name is Jeeva and age is 24\n"
     ],
     "output_type":"stream"
    }
   ],
   "metadata":{
    "datalore":{
     "node_id":"vGFx4ONO04f4T97hKiZbnM",
     "type":"CODE",
     "hide_input_from_viewers":false,
     "hide_output_from_viewers":false
    }
   }
  },
  {
   "cell_type":"code",
   "source":[
    "#Protected\n",
    "class Fita:\n",
    "    def __init__(self):\n",
    "        self._Course = \"Python\"\n",
    "\n",
    "class Stud(Fita):\n",
    "    def __init__(self,name):\n",
    "        self.name = name\n",
    "        Fita.__init__(self)\n",
    "    def show(self):\n",
    "        print(\"Student name\",self.name)\n",
    "        print(\"Course is\",self._Course)\n",
    "\n",
    "St = Stud(\"Babu\")\n",
    "St.show()"
   ],
   "execution_count":10,
   "outputs":[
    {
     "name":"stdout",
     "text":[
      "Student name Babu\n",
      "Course is Python\n"
     ],
     "output_type":"stream"
    }
   ],
   "metadata":{
    "datalore":{
     "node_id":"RBg8ACQaGGVJHDPAHobbb2",
     "type":"CODE",
     "hide_input_from_viewers":false,
     "hide_output_from_viewers":false
    }
   }
  },
  {
   "cell_type":"code",
   "source":[
    "#Regular Expressions\n",
    "import re\n",
    "str1 = \"This is Python Class at 7AM and the location is TNagar, phone is 123456\"\n",
    "res = re.match(r\"\\w\",str1)\n",
    "print(res)\n",
    "res1 = re.search(r\"\\w+\",str1)\n",
    "print(res1)\n",
    "res2 = re.findall(r\"\\d+\",str1)\n",
    "print(res2)"
   ],
   "execution_count":30,
   "outputs":[
    {
     "name":"stdout",
     "text":[
      "<re.Match object; span=(0, 1), match='T'>\n",
      "<re.Match object; span=(0, 4), match='This'>\n",
      "['7', '123456']\n"
     ],
     "output_type":"stream"
    }
   ],
   "metadata":{
    "datalore":{
     "node_id":"3cclrsL3aq36UkuJcN3kkN",
     "type":"CODE",
     "hide_input_from_viewers":false,
     "hide_output_from_viewers":false
    }
   }
  },
  {
   "cell_type":"code",
   "source":[
    "'''\\A\tMatches if the string begins with the given character\t\\Afor \tfor geeks\n",
    "for the world\n",
    "\\b\tMatches if the word begins or ends with the given character. \\b(string) will check for the beginning of the word and (string)\\b will check for the ending of the word.\t\\bge\tgeeks\n",
    "get\n",
    "\\B\tIt is the opposite of the \\b i.e. the string should not start or end with the given regex.\t\\Bge\ttogether\n",
    "forge\n",
    "\\d\tMatches any decimal digit, this is equivalent to the set class [0-9]\t\\d\t123\n",
    "gee1\n",
    "\\D\tMatches any non-digit character, this is equivalent to the set class [^0-9]\t\\D\tgeeks\n",
    "geek1\n",
    "\\s\tMatches any whitespace character.\t\\s\tgee ks\n",
    "a bc a\n",
    "\\S\tMatches any non-whitespace character\t\\S\ta bd\n",
    "abcd\n",
    "\\w\tMatches any alphanumeric character, this is equivalent to the class [a-zA-Z0-9_].\t\\w\t123\n",
    "geeKs4\n",
    "\\W\tMatches any non-alphanumeric character.\t\\W\t>$\n",
    "gee<>\n",
    "\\Z\tMatches if the string ends with the given regex\tab\\Z\tabcdab\n",
    "abababab'''\n",
    "#https:\/\/www.geeksforgeeks.org\/regular-expression-python-examples-set-1\/?ref=lbp"
   ],
   "execution_count":31,
   "outputs":[
    {
     "data":{
      "text\/plain":[
       "'\\\\A\\tMatches if the string begins with the given character\\t\\\\Afor \\tfor geeks\\nfor the world\\n\\x08\\tMatches if the word begins or ends with the given character. \\x08(string) will check for the beginning of the word and (string)\\x08 will check for the ending of the word.\\t\\x08ge\\tgeeks\\nget\\n\\\\B\\tIt is the opposite of the \\x08 i.e. the string should not start or end with the given regex.\\t\\\\Bge\\ttogether\\nforge\\n\\\\d\\tMatches any decimal digit, this is equivalent to the set class [0-9]\\t\\\\d\\t123\\ngee1\\n\\\\D\\tMatches any non-digit character, this is equivalent to the set class [^0-9]\\t\\\\D\\tgeeks\\ngeek1\\n\\\\s\\tMatches any whitespace character.\\t\\\\s\\tgee ks\\na bc a\\n\\\\S\\tMatches any non-whitespace character\\t\\\\S\\ta bd\\nabcd\\n\\\\w\\tMatches any alphanumeric character, this is equivalent to the class [a-zA-Z0-9_].\\t\\\\w\\t123\\ngeeKs4\\n\\\\W\\tMatches any non-alphanumeric character.\\t\\\\W\\t>$\\ngee<>\\n\\\\Z\\tMatches if the string ends with the given regex\\tab\\\\Z\\tabcdab\\nabababab'"
      ]
     },
     "metadata":{
      
     },
     "output_type":"display_data"
    }
   ],
   "metadata":{
    "datalore":{
     "node_id":"3gAFn1GboonJ1Ezu1lhkQi",
     "type":"CODE",
     "hide_input_from_viewers":false,
     "hide_output_from_viewers":false
    }
   }
  }
 ],
 "metadata":{
  "kernelspec":{
   "display_name":"Python",
   "language":"python",
   "name":"python"
  },
  "datalore":{
   "version":1,
   "computation_mode":"JUPYTER",
   "package_manager":"pip",
   "base_environment":"default",
   "packages":[
    
   ]
  }
 },
 "nbformat":4,
 "nbformat_minor":4
}