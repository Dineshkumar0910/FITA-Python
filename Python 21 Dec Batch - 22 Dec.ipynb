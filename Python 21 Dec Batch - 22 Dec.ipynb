{
 "cells": [
  {
   "cell_type": "code",
   "execution_count": 2,
   "id": "acf7718c-f787-4a62-ba89-ea798aa412f4",
   "metadata": {},
   "outputs": [
    {
     "name": "stdout",
     "output_type": "stream",
     "text": [
      "30\n"
     ]
    }
   ],
   "source": [
    "#Python Statements\n",
    "x = 5; y = 6  #multiple statements in a singel line\n",
    "print(x*y)"
   ]
  },
  {
   "cell_type": "code",
   "execution_count": 9,
   "id": "309b5e58-1b87-49de-8c7b-3733a3abf278",
   "metadata": {},
   "outputs": [
    {
     "name": "stdout",
     "output_type": "stream",
     "text": [
      "22\n"
     ]
    }
   ],
   "source": [
    "add = 2 + 3 +\\\n",
    "      5 + 6 +\\\n",
    "      4 + 2\n",
    "print(add) #multi-lines"
   ]
  },
  {
   "cell_type": "code",
   "execution_count": 11,
   "id": "42679020-d217-4f16-add2-ac2e7c1979ff",
   "metadata": {},
   "outputs": [
    {
     "name": "stdout",
     "output_type": "stream",
     "text": [
      "22\n"
     ]
    }
   ],
   "source": [
    "add = (2 + 3 +\\\n",
    "      5 + 6 +\\\n",
    "      4 + 2)\n",
    "print(add) #implicit continuation"
   ]
  },
  {
   "cell_type": "code",
   "execution_count": 12,
   "id": "99490440-3083-4245-9bc6-5b9b1bae98d5",
   "metadata": {},
   "outputs": [
    {
     "name": "stdout",
     "output_type": "stream",
     "text": [
      "9\n"
     ]
    }
   ],
   "source": [
    "a = 4\n",
    "b = 5\n",
    "c = a+b #expression statement\n",
    "print(c)"
   ]
  },
  {
   "cell_type": "code",
   "execution_count": 13,
   "id": "ba8cb494-e779-4889-a9e0-57ea671ce51b",
   "metadata": {},
   "outputs": [],
   "source": [
    "def fun():\n",
    "    pass #pass statement"
   ]
  },
  {
   "cell_type": "code",
   "execution_count": 17,
   "id": "c837ce3d-8c5a-487d-9a21-7ab179d50095",
   "metadata": {},
   "outputs": [
    {
     "name": "stdout",
     "output_type": "stream",
     "text": [
      "4 10\n"
     ]
    },
    {
     "ename": "NameError",
     "evalue": "name 'x' is not defined",
     "output_type": "error",
     "traceback": [
      "\u001b[1;31m---------------------------------------------------------------------------\u001b[0m",
      "\u001b[1;31mNameError\u001b[0m                                 Traceback (most recent call last)",
      "\u001b[1;32m~\\AppData\\Local\\Temp\\ipykernel_4540\\4164609422.py\u001b[0m in \u001b[0;36m<module>\u001b[1;34m\u001b[0m\n\u001b[0;32m      3\u001b[0m \u001b[0mprint\u001b[0m\u001b[1;33m(\u001b[0m\u001b[0mx\u001b[0m\u001b[1;33m,\u001b[0m\u001b[0my\u001b[0m\u001b[1;33m)\u001b[0m\u001b[1;33m\u001b[0m\u001b[1;33m\u001b[0m\u001b[0m\n\u001b[0;32m      4\u001b[0m \u001b[1;32mdel\u001b[0m \u001b[0mx\u001b[0m\u001b[1;33m,\u001b[0m\u001b[0my\u001b[0m\u001b[1;33m\u001b[0m\u001b[1;33m\u001b[0m\u001b[0m\n\u001b[1;32m----> 5\u001b[1;33m \u001b[0mprint\u001b[0m\u001b[1;33m(\u001b[0m\u001b[0mx\u001b[0m\u001b[1;33m,\u001b[0m\u001b[0my\u001b[0m\u001b[1;33m)\u001b[0m\u001b[1;33m\u001b[0m\u001b[1;33m\u001b[0m\u001b[0m\n\u001b[0m",
      "\u001b[1;31mNameError\u001b[0m: name 'x' is not defined"
     ]
    }
   ],
   "source": [
    "x = 4\n",
    "y = 10\n",
    "print(x,y)\n",
    "del x,y #delete statement\n",
    "print(x,y)"
   ]
  },
  {
   "cell_type": "code",
   "execution_count": 18,
   "id": "d8df78ab-ae49-4994-bc61-46e9c77a9d00",
   "metadata": {},
   "outputs": [
    {
     "name": "stdout",
     "output_type": "stream",
     "text": [
      "11\n"
     ]
    }
   ],
   "source": [
    "def add(n1,n2):\n",
    "    return n1+n2 #return statement\n",
    "res = add(5,6)\n",
    "print(res)"
   ]
  },
  {
   "cell_type": "code",
   "execution_count": 19,
   "id": "25c36a3b-f03e-4701-a849-1f5b8196acf1",
   "metadata": {},
   "outputs": [
    {
     "name": "stdout",
     "output_type": "stream",
     "text": [
      "2022-12-21 07:31:56.549281\n"
     ]
    }
   ],
   "source": [
    "import datetime\n",
    "\n",
    "today = datetime.datetime.now()\n",
    "print(today)"
   ]
  },
  {
   "cell_type": "code",
   "execution_count": 22,
   "id": "f8695482-a24b-47bc-a7a1-8689b8039850",
   "metadata": {},
   "outputs": [
    {
     "data": {
      "text/plain": [
       "' python class\\nin the weekdays.\\nTime is 7AM'"
      ]
     },
     "execution_count": 22,
     "metadata": {},
     "output_type": "execute_result"
    }
   ],
   "source": [
    "#this is python\n",
    "#\n",
    "#\n",
    "''' python class\n",
    "in the weekdays.\n",
    "Time is 7AM'''"
   ]
  },
  {
   "cell_type": "code",
   "execution_count": 24,
   "id": "edf55b48-4a2b-4bf4-8062-7dd6fb00b129",
   "metadata": {},
   "outputs": [
    {
     "name": "stdout",
     "output_type": "stream",
     "text": [
      "if there is a class I am doing programs\n"
     ]
    }
   ],
   "source": [
    "print(\"if there is a class I am doing programs\")"
   ]
  },
  {
   "cell_type": "code",
   "execution_count": 28,
   "id": "4a727e01-49af-46c3-a39b-5766fdfa8edd",
   "metadata": {},
   "outputs": [
    {
     "name": "stdout",
     "output_type": "stream",
     "text": [
      "5 8.9 First Program\n",
      "<class 'int'>\n",
      "<class 'float'>\n",
      "<class 'str'>\n",
      "Changed into String 4 5.6\n",
      "(3+6j)\n",
      "<class 'complex'>\n"
     ]
    }
   ],
   "source": [
    "#Variables\n",
    "# mutable and immutable\n",
    "x = 5\n",
    "y = 8.9\n",
    "z = \"First Program\"\n",
    "print(x,y,z)\n",
    "print(type(x))\n",
    "print(type(y))\n",
    "print(type(z))\n",
    "\n",
    "x = \"Changed into String\"\n",
    "y = 4\n",
    "z = 5.6\n",
    "print(x,y,z)\n",
    "\n",
    "a = 3 + 6j\n",
    "print(a)\n",
    "print(type(a))"
   ]
  },
  {
   "cell_type": "code",
   "execution_count": null,
   "id": "bdf1ef0d-fb29-41b9-a88e-1a5002b9d709",
   "metadata": {},
   "outputs": [],
   "source": [
    "#Operators\n",
    "# Aritmetic\n",
    "# Relational\n",
    "# Assignment\n",
    "# Logical\n",
    "# Membership\n",
    "# Identity\n",
    "# Bitwise"
   ]
  },
  {
   "cell_type": "code",
   "execution_count": 6,
   "id": "4d896d34-3688-4df9-b68d-dd6f1fa0a926",
   "metadata": {},
   "outputs": [
    {
     "name": "stdout",
     "output_type": "stream",
     "text": [
      "20 0 100 1.0 0\n",
      "1\n"
     ]
    }
   ],
   "source": [
    "a = 10\n",
    "b = 10\n",
    "c = a+b\n",
    "d = a-b\n",
    "e = a*b\n",
    "f = a/b\n",
    "g = a%b\n",
    "print(c,d,e,f,g)\n",
    "h = a//b\n",
    "print(h)"
   ]
  },
  {
   "cell_type": "code",
   "execution_count": 7,
   "id": "755ca45c-795b-4f0f-a935-13bd345f4c13",
   "metadata": {},
   "outputs": [
    {
     "name": "stdout",
     "output_type": "stream",
     "text": [
      "False\n",
      "False\n",
      "True\n",
      "True\n",
      "False\n",
      "True\n"
     ]
    }
   ],
   "source": [
    "#Relational - Comparison \n",
    "print(a>b)\n",
    "print(a<b)\n",
    "print(a>=b)\n",
    "print(a<=b)\n",
    "print(a!=b)\n",
    "print(a==b)"
   ]
  },
  {
   "cell_type": "code",
   "execution_count": 11,
   "id": "ce94e198-c3ce-4543-b056-a045f9de8b94",
   "metadata": {},
   "outputs": [
    {
     "name": "stdout",
     "output_type": "stream",
     "text": [
      "30\n",
      "20\n",
      "200\n",
      "20.0\n",
      "0.0\n"
     ]
    }
   ],
   "source": [
    "#Assignment\n",
    "a+=b\n",
    "print(a)\n",
    "a-=b\n",
    "print(a)\n",
    "a*=b\n",
    "print(a)\n",
    "a/=b\n",
    "print(a)\n",
    "a%=b\n",
    "print(a)\n"
   ]
  },
  {
   "cell_type": "code",
   "execution_count": 15,
   "id": "e4039984-bb4d-4fe4-a749-dd127da560ef",
   "metadata": {},
   "outputs": [
    {
     "name": "stdout",
     "output_type": "stream",
     "text": [
      "False\n",
      "True\n",
      "True\n",
      "False\n"
     ]
    }
   ],
   "source": [
    "#Logical\n",
    "print(True and False)\n",
    "print(True and True)\n",
    "print(True or False)\n",
    "print(not True)"
   ]
  },
  {
   "cell_type": "code",
   "execution_count": 18,
   "id": "7c5105ff-d500-491f-9350-b04ac6448a2d",
   "metadata": {},
   "outputs": [
    {
     "name": "stdout",
     "output_type": "stream",
     "text": [
      "6\n",
      "Y doesn't exist\n"
     ]
    }
   ],
   "source": [
    "#membership\n",
    "list1 = [1,4,6,8,9]\n",
    "x = 6\n",
    "if x in list1:\n",
    "    print(x)\n",
    "y = 10\n",
    "if y not in list1:\n",
    "    print(\"Y doesn't exist\")"
   ]
  },
  {
   "cell_type": "code",
   "execution_count": 21,
   "id": "f015ee21-706d-4004-9a96-6171d9acc6ed",
   "metadata": {},
   "outputs": [
    {
     "name": "stdout",
     "output_type": "stream",
     "text": [
      "False\n",
      "True\n"
     ]
    }
   ],
   "source": [
    "#Identity\n",
    "print(x is y)\n",
    "print(x is not y)"
   ]
  },
  {
   "cell_type": "code",
   "execution_count": 23,
   "id": "90305108-4071-495f-aa36-6d617fa4ebec",
   "metadata": {},
   "outputs": [
    {
     "name": "stdout",
     "output_type": "stream",
     "text": [
      "Python class Weekdays at 7AM\n",
      "<class 'str'>\n"
     ]
    }
   ],
   "source": [
    "#Data Types\n",
    "#string\n",
    "str1 = \"Python class\"\n",
    "str2 = 'Weekdays at 7AM'\n",
    "print(str1, str2)\n",
    "print(type(str1))"
   ]
  },
  {
   "cell_type": "code",
   "execution_count": 29,
   "id": "89472d9a-ea8f-4fcd-ab70-c83fd38d5340",
   "metadata": {},
   "outputs": [
    {
     "name": "stdout",
     "output_type": "stream",
     "text": [
      "o\n",
      "t\n",
      "a\n"
     ]
    }
   ],
   "source": [
    "#access the string\n",
    "print(str1[4])\n",
    "print(str2[10])\n",
    "print(str1[-3]) #negative indexing"
   ]
  },
  {
   "cell_type": "code",
   "execution_count": 28,
   "id": "dbb1dda4-db4f-4b66-87d9-d75d898aeea9",
   "metadata": {},
   "outputs": [
    {
     "data": {
      "text/plain": [
       "15"
      ]
     },
     "execution_count": 28,
     "metadata": {},
     "output_type": "execute_result"
    }
   ],
   "source": [
    "#length\n",
    "len(str1)\n",
    "len(str2)"
   ]
  },
  {
   "cell_type": "code",
   "execution_count": 35,
   "id": "4e11dd70-0876-47bf-aa2e-9fdd2cab2299",
   "metadata": {},
   "outputs": [
    {
     "name": "stdout",
     "output_type": "stream",
     "text": [
      "Python\n",
      "kdays at 7A\n",
      "hon class\n",
      "Mtye\n"
     ]
    }
   ],
   "source": [
    "#slicing\n",
    "print(str1[0:6])\n",
    "print(str2[3:-1])\n",
    "print(str1[3:])\n",
    "print(str2[::-4])"
   ]
  }
 ],
 "metadata": {
  "kernelspec": {
   "display_name": "Python 3 (ipykernel)",
   "language": "python",
   "name": "python3"
  },
  "language_info": {
   "codemirror_mode": {
    "name": "ipython",
    "version": 3
   },
   "file_extension": ".py",
   "mimetype": "text/x-python",
   "name": "python",
   "nbconvert_exporter": "python",
   "pygments_lexer": "ipython3",
   "version": "3.9.13"
  }
 },
 "nbformat": 4,
 "nbformat_minor": 5
}
