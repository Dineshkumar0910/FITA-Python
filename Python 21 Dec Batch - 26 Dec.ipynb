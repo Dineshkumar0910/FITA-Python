{
 "cells": [
  {
   "cell_type": "code",
   "execution_count": 2,
   "id": "acf7718c-f787-4a62-ba89-ea798aa412f4",
   "metadata": {},
   "outputs": [
    {
     "name": "stdout",
     "output_type": "stream",
     "text": [
      "30\n"
     ]
    }
   ],
   "source": [
    "#Python Statements\n",
    "x = 5; y = 6  #multiple statements in a singel line\n",
    "print(x*y)"
   ]
  },
  {
   "cell_type": "code",
   "execution_count": 9,
   "id": "309b5e58-1b87-49de-8c7b-3733a3abf278",
   "metadata": {},
   "outputs": [
    {
     "name": "stdout",
     "output_type": "stream",
     "text": [
      "22\n"
     ]
    }
   ],
   "source": [
    "add = 2 + 3 +\\\n",
    "      5 + 6 +\\\n",
    "      4 + 2\n",
    "print(add) #multi-lines"
   ]
  },
  {
   "cell_type": "code",
   "execution_count": 11,
   "id": "42679020-d217-4f16-add2-ac2e7c1979ff",
   "metadata": {},
   "outputs": [
    {
     "name": "stdout",
     "output_type": "stream",
     "text": [
      "22\n"
     ]
    }
   ],
   "source": [
    "add = (2 + 3 +\\\n",
    "      5 + 6 +\\\n",
    "      4 + 2)\n",
    "print(add) #implicit continuation"
   ]
  },
  {
   "cell_type": "code",
   "execution_count": 12,
   "id": "99490440-3083-4245-9bc6-5b9b1bae98d5",
   "metadata": {},
   "outputs": [
    {
     "name": "stdout",
     "output_type": "stream",
     "text": [
      "9\n"
     ]
    }
   ],
   "source": [
    "a = 4\n",
    "b = 5\n",
    "c = a+b #expression statement\n",
    "print(c)"
   ]
  },
  {
   "cell_type": "code",
   "execution_count": 13,
   "id": "ba8cb494-e779-4889-a9e0-57ea671ce51b",
   "metadata": {},
   "outputs": [],
   "source": [
    "def fun():\n",
    "    pass #pass statement"
   ]
  },
  {
   "cell_type": "code",
   "execution_count": 17,
   "id": "c837ce3d-8c5a-487d-9a21-7ab179d50095",
   "metadata": {},
   "outputs": [
    {
     "name": "stdout",
     "output_type": "stream",
     "text": [
      "4 10\n"
     ]
    },
    {
     "ename": "NameError",
     "evalue": "name 'x' is not defined",
     "output_type": "error",
     "traceback": [
      "\u001b[1;31m---------------------------------------------------------------------------\u001b[0m",
      "\u001b[1;31mNameError\u001b[0m                                 Traceback (most recent call last)",
      "\u001b[1;32m~\\AppData\\Local\\Temp\\ipykernel_4540\\4164609422.py\u001b[0m in \u001b[0;36m<module>\u001b[1;34m\u001b[0m\n\u001b[0;32m      3\u001b[0m \u001b[0mprint\u001b[0m\u001b[1;33m(\u001b[0m\u001b[0mx\u001b[0m\u001b[1;33m,\u001b[0m\u001b[0my\u001b[0m\u001b[1;33m)\u001b[0m\u001b[1;33m\u001b[0m\u001b[1;33m\u001b[0m\u001b[0m\n\u001b[0;32m      4\u001b[0m \u001b[1;32mdel\u001b[0m \u001b[0mx\u001b[0m\u001b[1;33m,\u001b[0m\u001b[0my\u001b[0m\u001b[1;33m\u001b[0m\u001b[1;33m\u001b[0m\u001b[0m\n\u001b[1;32m----> 5\u001b[1;33m \u001b[0mprint\u001b[0m\u001b[1;33m(\u001b[0m\u001b[0mx\u001b[0m\u001b[1;33m,\u001b[0m\u001b[0my\u001b[0m\u001b[1;33m)\u001b[0m\u001b[1;33m\u001b[0m\u001b[1;33m\u001b[0m\u001b[0m\n\u001b[0m",
      "\u001b[1;31mNameError\u001b[0m: name 'x' is not defined"
     ]
    }
   ],
   "source": [
    "x = 4\n",
    "y = 10\n",
    "print(x,y)\n",
    "del x,y #delete statement\n",
    "print(x,y)"
   ]
  },
  {
   "cell_type": "code",
   "execution_count": 18,
   "id": "d8df78ab-ae49-4994-bc61-46e9c77a9d00",
   "metadata": {},
   "outputs": [
    {
     "name": "stdout",
     "output_type": "stream",
     "text": [
      "11\n"
     ]
    }
   ],
   "source": [
    "def add(n1,n2):\n",
    "    return n1+n2 #return statement\n",
    "res = add(5,6)\n",
    "print(res)"
   ]
  },
  {
   "cell_type": "code",
   "execution_count": 19,
   "id": "25c36a3b-f03e-4701-a849-1f5b8196acf1",
   "metadata": {},
   "outputs": [
    {
     "name": "stdout",
     "output_type": "stream",
     "text": [
      "2022-12-21 07:31:56.549281\n"
     ]
    }
   ],
   "source": [
    "import datetime\n",
    "\n",
    "today = datetime.datetime.now()\n",
    "print(today)"
   ]
  },
  {
   "cell_type": "code",
   "execution_count": 22,
   "id": "f8695482-a24b-47bc-a7a1-8689b8039850",
   "metadata": {},
   "outputs": [
    {
     "data": {
      "text/plain": [
       "' python class\\nin the weekdays.\\nTime is 7AM'"
      ]
     },
     "execution_count": 22,
     "metadata": {},
     "output_type": "execute_result"
    }
   ],
   "source": [
    "#this is python\n",
    "#\n",
    "#\n",
    "''' python class\n",
    "in the weekdays.\n",
    "Time is 7AM'''"
   ]
  },
  {
   "cell_type": "code",
   "execution_count": 24,
   "id": "edf55b48-4a2b-4bf4-8062-7dd6fb00b129",
   "metadata": {},
   "outputs": [
    {
     "name": "stdout",
     "output_type": "stream",
     "text": [
      "if there is a class I am doing programs\n"
     ]
    }
   ],
   "source": [
    "print(\"if there is a class I am doing programs\")"
   ]
  },
  {
   "cell_type": "code",
   "execution_count": 28,
   "id": "4a727e01-49af-46c3-a39b-5766fdfa8edd",
   "metadata": {},
   "outputs": [
    {
     "name": "stdout",
     "output_type": "stream",
     "text": [
      "5 8.9 First Program\n",
      "<class 'int'>\n",
      "<class 'float'>\n",
      "<class 'str'>\n",
      "Changed into String 4 5.6\n",
      "(3+6j)\n",
      "<class 'complex'>\n"
     ]
    }
   ],
   "source": [
    "#Variables\n",
    "# mutable and immutable\n",
    "x = 5\n",
    "y = 8.9\n",
    "z = \"First Program\"\n",
    "print(x,y,z)\n",
    "print(type(x))\n",
    "print(type(y))\n",
    "print(type(z))\n",
    "\n",
    "x = \"Changed into String\"\n",
    "y = 4\n",
    "z = 5.6\n",
    "print(x,y,z)\n",
    "\n",
    "a = 3 + 6j\n",
    "print(a)\n",
    "print(type(a))"
   ]
  },
  {
   "cell_type": "code",
   "execution_count": null,
   "id": "bdf1ef0d-fb29-41b9-a88e-1a5002b9d709",
   "metadata": {},
   "outputs": [],
   "source": [
    "#Operators\n",
    "# Aritmetic\n",
    "# Relational\n",
    "# Assignment\n",
    "# Logical\n",
    "# Membership\n",
    "# Identity\n",
    "# Bitwise"
   ]
  },
  {
   "cell_type": "code",
   "execution_count": 6,
   "id": "4d896d34-3688-4df9-b68d-dd6f1fa0a926",
   "metadata": {},
   "outputs": [
    {
     "name": "stdout",
     "output_type": "stream",
     "text": [
      "20 0 100 1.0 0\n",
      "1\n"
     ]
    }
   ],
   "source": [
    "a = 10\n",
    "b = 10\n",
    "c = a+b\n",
    "d = a-b\n",
    "e = a*b\n",
    "f = a/b\n",
    "g = a%b\n",
    "print(c,d,e,f,g)\n",
    "h = a//b\n",
    "print(h)"
   ]
  },
  {
   "cell_type": "code",
   "execution_count": 7,
   "id": "755ca45c-795b-4f0f-a935-13bd345f4c13",
   "metadata": {},
   "outputs": [
    {
     "name": "stdout",
     "output_type": "stream",
     "text": [
      "False\n",
      "False\n",
      "True\n",
      "True\n",
      "False\n",
      "True\n"
     ]
    }
   ],
   "source": [
    "#Relational - Comparison \n",
    "print(a>b)\n",
    "print(a<b)\n",
    "print(a>=b)\n",
    "print(a<=b)\n",
    "print(a!=b)\n",
    "print(a==b)"
   ]
  },
  {
   "cell_type": "code",
   "execution_count": 11,
   "id": "ce94e198-c3ce-4543-b056-a045f9de8b94",
   "metadata": {},
   "outputs": [
    {
     "name": "stdout",
     "output_type": "stream",
     "text": [
      "30\n",
      "20\n",
      "200\n",
      "20.0\n",
      "0.0\n"
     ]
    }
   ],
   "source": [
    "#Assignment\n",
    "a+=b\n",
    "print(a)\n",
    "a-=b\n",
    "print(a)\n",
    "a*=b\n",
    "print(a)\n",
    "a/=b\n",
    "print(a)\n",
    "a%=b\n",
    "print(a)\n"
   ]
  },
  {
   "cell_type": "code",
   "execution_count": 15,
   "id": "e4039984-bb4d-4fe4-a749-dd127da560ef",
   "metadata": {},
   "outputs": [
    {
     "name": "stdout",
     "output_type": "stream",
     "text": [
      "False\n",
      "True\n",
      "True\n",
      "False\n"
     ]
    }
   ],
   "source": [
    "#Logical\n",
    "print(True and False)\n",
    "print(True and True)\n",
    "print(True or False)\n",
    "print(not True)"
   ]
  },
  {
   "cell_type": "code",
   "execution_count": 18,
   "id": "7c5105ff-d500-491f-9350-b04ac6448a2d",
   "metadata": {},
   "outputs": [
    {
     "name": "stdout",
     "output_type": "stream",
     "text": [
      "6\n",
      "Y doesn't exist\n"
     ]
    }
   ],
   "source": [
    "#membership\n",
    "list1 = [1,4,6,8,9]\n",
    "x = 6\n",
    "if x in list1:\n",
    "    print(x)\n",
    "y = 10\n",
    "if y not in list1:\n",
    "    print(\"Y doesn't exist\")"
   ]
  },
  {
   "cell_type": "code",
   "execution_count": 21,
   "id": "f015ee21-706d-4004-9a96-6171d9acc6ed",
   "metadata": {},
   "outputs": [
    {
     "name": "stdout",
     "output_type": "stream",
     "text": [
      "False\n",
      "True\n"
     ]
    }
   ],
   "source": [
    "#Identity\n",
    "print(x is y)\n",
    "print(x is not y)"
   ]
  },
  {
   "cell_type": "code",
   "execution_count": 23,
   "id": "90305108-4071-495f-aa36-6d617fa4ebec",
   "metadata": {},
   "outputs": [
    {
     "name": "stdout",
     "output_type": "stream",
     "text": [
      "Python class Weekdays at 7AM\n",
      "<class 'str'>\n"
     ]
    }
   ],
   "source": [
    "#Data Types\n",
    "#string\n",
    "str1 = \"Python class\"\n",
    "str2 = 'Weekdays at 7AM'\n",
    "print(str1, str2)\n",
    "print(type(str1))"
   ]
  },
  {
   "cell_type": "code",
   "execution_count": 29,
   "id": "89472d9a-ea8f-4fcd-ab70-c83fd38d5340",
   "metadata": {},
   "outputs": [
    {
     "name": "stdout",
     "output_type": "stream",
     "text": [
      "o\n",
      "t\n",
      "a\n"
     ]
    }
   ],
   "source": [
    "#access the string\n",
    "print(str1[4])\n",
    "print(str2[10])\n",
    "print(str1[-3]) #negative indexing"
   ]
  },
  {
   "cell_type": "code",
   "execution_count": 28,
   "id": "dbb1dda4-db4f-4b66-87d9-d75d898aeea9",
   "metadata": {},
   "outputs": [
    {
     "data": {
      "text/plain": [
       "15"
      ]
     },
     "execution_count": 28,
     "metadata": {},
     "output_type": "execute_result"
    }
   ],
   "source": [
    "#length\n",
    "len(str1)\n",
    "len(str2)"
   ]
  },
  {
   "cell_type": "code",
   "execution_count": 35,
   "id": "4e11dd70-0876-47bf-aa2e-9fdd2cab2299",
   "metadata": {},
   "outputs": [
    {
     "name": "stdout",
     "output_type": "stream",
     "text": [
      "Python\n",
      "kdays at 7A\n",
      "hon class\n",
      "Mtye\n"
     ]
    }
   ],
   "source": [
    "#slicing\n",
    "print(str1[0:6])\n",
    "print(str2[3:-1])\n",
    "print(str1[3:])\n",
    "print(str2[::-4])"
   ]
  },
  {
   "cell_type": "code",
   "execution_count": 2,
   "id": "1bb5a07e-2d88-436c-90af-50a8cf5f13fc",
   "metadata": {},
   "outputs": [],
   "source": [
    "#23 Dec"
   ]
  },
  {
   "cell_type": "code",
   "execution_count": 3,
   "id": "8bae6140-7e08-48d9-9bf7-3eb7527a2b05",
   "metadata": {},
   "outputs": [
    {
     "name": "stdout",
     "output_type": "stream",
     "text": [
      "this is python class\n",
      "tris is pytron class\n"
     ]
    }
   ],
   "source": [
    "s1 = \"this is python class\"\n",
    "s2 = s1.replace(\"h\",\"r\")\n",
    "print(s1)\n",
    "print(s2)"
   ]
  },
  {
   "cell_type": "code",
   "execution_count": 4,
   "id": "78d02967-ea7a-414d-9741-36ed22bf990a",
   "metadata": {},
   "outputs": [
    {
     "name": "stdout",
     "output_type": "stream",
     "text": [
      "THIS IS PYTHON CLASS\n"
     ]
    }
   ],
   "source": [
    "print(s1.upper())"
   ]
  },
  {
   "cell_type": "code",
   "execution_count": 5,
   "id": "abbf8aa3-1200-42b3-b908-778b3505276a",
   "metadata": {},
   "outputs": [
    {
     "name": "stdout",
     "output_type": "stream",
     "text": [
      "weekdays\n"
     ]
    }
   ],
   "source": [
    "s3 = \"WEEKDAYS\"\n",
    "print(s3.lower())"
   ]
  },
  {
   "cell_type": "code",
   "execution_count": 6,
   "id": "e7ad877f-4722-46f4-9f54-4107a3132117",
   "metadata": {},
   "outputs": [
    {
     "name": "stdout",
     "output_type": "stream",
     "text": [
      "This is python class\n"
     ]
    }
   ],
   "source": [
    "print(s1.capitalize())"
   ]
  },
  {
   "cell_type": "code",
   "execution_count": 7,
   "id": "f54a1990-28ab-483f-9a37-0289a941c254",
   "metadata": {},
   "outputs": [
    {
     "name": "stdout",
     "output_type": "stream",
     "text": [
      "weekDAYS\n"
     ]
    }
   ],
   "source": [
    "s4 = \"WEEKdays\"\n",
    "print(s4.swapcase())"
   ]
  },
  {
   "cell_type": "code",
   "execution_count": 11,
   "id": "9d645674-4bce-4742-b324-fe6321ec156f",
   "metadata": {},
   "outputs": [
    {
     "name": "stdout",
     "output_type": "stream",
     "text": [
      "yes\n"
     ]
    }
   ],
   "source": [
    "s5 = \"7AMon23Dec\"\n",
    "\n",
    "if s5.isalnum():\n",
    "    print('yes')\n",
    "else:\n",
    "    print('no')"
   ]
  },
  {
   "cell_type": "code",
   "execution_count": 15,
   "id": "5ed9ba4a-373d-47f3-850a-847b759fa57f",
   "metadata": {},
   "outputs": [
    {
     "name": "stdout",
     "output_type": "stream",
     "text": [
      "16\n",
      "python is\n",
      "Python is\n"
     ]
    }
   ],
   "source": [
    "s6 = \"python is       \"\n",
    "print(len(s6))\n",
    "print(s6.rstrip())\n",
    "s7 = \"       Python is\"\n",
    "print(s7.lstrip())"
   ]
  },
  {
   "cell_type": "code",
   "execution_count": 16,
   "id": "212122fb-7da0-49f1-9192-1f89c343a3bd",
   "metadata": {},
   "outputs": [
    {
     "name": "stdout",
     "output_type": "stream",
     "text": [
      "['this is python cl', 'ss']\n"
     ]
    }
   ],
   "source": [
    "s8 = s1.split(\"a\")\n",
    "print(s8)"
   ]
  },
  {
   "cell_type": "code",
   "execution_count": 18,
   "id": "1bcdfe66-648f-4525-a0b6-39ecf606114b",
   "metadata": {},
   "outputs": [
    {
     "name": "stdout",
     "output_type": "stream",
     "text": [
      "['this', 'is', 'python', 'class']\n"
     ]
    }
   ],
   "source": [
    "print(s1.split(\" \"))"
   ]
  },
  {
   "cell_type": "code",
   "execution_count": 21,
   "id": "cf6ed341-412d-4eae-8b79-8be338632cb4",
   "metadata": {},
   "outputs": [
    {
     "name": "stdout",
     "output_type": "stream",
     "text": [
      "ssalc nohtyp si siht\n"
     ]
    }
   ],
   "source": [
    "print(s1[::-1])"
   ]
  },
  {
   "cell_type": "code",
   "execution_count": 22,
   "id": "83554d21-6b93-4b82-89a1-5e59e437998d",
   "metadata": {},
   "outputs": [
    {
     "name": "stdout",
     "output_type": "stream",
     "text": [
      "this is python classtris is pytron class\n"
     ]
    }
   ],
   "source": [
    "print(s1+s2)"
   ]
  },
  {
   "cell_type": "code",
   "execution_count": 26,
   "id": "03b42e3a-8de8-49a1-9d90-2276a6d6ff9e",
   "metadata": {},
   "outputs": [
    {
     "name": "stdout",
     "output_type": "stream",
     "text": [
      "[2, 5, 7, 9, 3, 'python', 5] [3, 9, 6, 1] [] []\n"
     ]
    }
   ],
   "source": [
    "#List\n",
    "#creating the list\n",
    "my_list1 = [2,5,7,9,3,\"python\",5]\n",
    "my_list2 = list((3,9,6,1))\n",
    "my_list3 = []\n",
    "my_list4 = list()\n",
    "print(my_list1,my_list2,my_list3,my_list4)"
   ]
  },
  {
   "cell_type": "code",
   "execution_count": 27,
   "id": "95407a51-7d18-4b07-87bc-fad0325c9a98",
   "metadata": {},
   "outputs": [
    {
     "name": "stdout",
     "output_type": "stream",
     "text": [
      "7\n",
      "4\n",
      "0\n",
      "0\n"
     ]
    }
   ],
   "source": [
    "print(len(my_list1))\n",
    "print(len(my_list2))\n",
    "print(len(my_list3))\n",
    "print(len(my_list4))"
   ]
  },
  {
   "cell_type": "code",
   "execution_count": 28,
   "id": "19074421-ed91-4419-ad86-163a27266c3d",
   "metadata": {},
   "outputs": [
    {
     "name": "stdout",
     "output_type": "stream",
     "text": [
      "3\n",
      "6\n"
     ]
    }
   ],
   "source": [
    "print(my_list1[4])\n",
    "print(my_list2[-2])"
   ]
  },
  {
   "cell_type": "code",
   "execution_count": 34,
   "id": "f2cb7cec-2755-4142-8f76-3ccadcb8a366",
   "metadata": {},
   "outputs": [
    {
     "name": "stdout",
     "output_type": "stream",
     "text": [
      "[2, 5, 7, 9]\n",
      "[9]\n"
     ]
    }
   ],
   "source": [
    "print(my_list1[0:4])\n",
    "print(my_list2[1:2])"
   ]
  },
  {
   "cell_type": "code",
   "execution_count": 38,
   "id": "4e672eaf-cc7b-4f22-827f-011cfcb5e0e5",
   "metadata": {},
   "outputs": [
    {
     "name": "stdout",
     "output_type": "stream",
     "text": [
      "[5]\n",
      "[2, 7, 3, 5]\n"
     ]
    }
   ],
   "source": [
    "print(my_list1[-1::])\n",
    "print(my_list1[::2])"
   ]
  },
  {
   "cell_type": "code",
   "execution_count": 39,
   "id": "62f10936-180a-47e7-8c2b-205731d3b8bd",
   "metadata": {},
   "outputs": [
    {
     "name": "stdout",
     "output_type": "stream",
     "text": [
      "2\n",
      "5\n",
      "7\n",
      "9\n",
      "3\n",
      "python\n",
      "5\n"
     ]
    }
   ],
   "source": [
    "for x in my_list1:\n",
    "    print(x)"
   ]
  },
  {
   "cell_type": "code",
   "execution_count": 40,
   "id": "efa7a706-4bad-4486-955c-18c75bd7e8ae",
   "metadata": {},
   "outputs": [
    {
     "name": "stdout",
     "output_type": "stream",
     "text": [
      "[2, 5, 7, 9, 3, 'python', 5, 'Friday']\n",
      "[3, 9, 6, 1, [45]]\n"
     ]
    }
   ],
   "source": [
    "#adding the items in the list\n",
    "#append(), insert(), extend()\n",
    "my_list1.append(\"Friday\")\n",
    "my_list2.append([45])\n",
    "print(my_list1)\n",
    "print(my_list2)"
   ]
  },
  {
   "cell_type": "code",
   "execution_count": 46,
   "id": "2c26d741-13aa-4796-8db3-d109fe62a0c3",
   "metadata": {},
   "outputs": [
    {
     "name": "stdout",
     "output_type": "stream",
     "text": [
      "[2, 5, 'Jupyter', 'Jupyter', 'Jupyter', 'Jupyter', 'Jupyter', 'Jupyter', 7, 9, 3, 'python', 5, 'Friday']\n",
      "[3, 9, 6, 1, 'fita', ['academy'], [45]]\n"
     ]
    }
   ],
   "source": [
    "my_list1.insert(2,\"Jupyter\")\n",
    "my_list2.insert(5,[\"academy\"])\n",
    "print(my_list1)\n",
    "print(my_list2)"
   ]
  },
  {
   "cell_type": "code",
   "execution_count": 48,
   "id": "58af26fd-8f1e-4d9a-8048-81c8f4f9117c",
   "metadata": {},
   "outputs": [
    {
     "name": "stdout",
     "output_type": "stream",
     "text": [
      "[3, 9, 6, 1, 'fita', ['academy', 'tnagar', '12B'], [45, 67, 12, 43]]\n"
     ]
    }
   ],
   "source": [
    "my_list2 = [3, 9, 6, 1, 'fita', ['academy','tnagar','12B'], [45,67,12,43]]\n",
    "print(my_list2)"
   ]
  },
  {
   "cell_type": "code",
   "execution_count": 49,
   "id": "c741007e-c8cc-4e19-9366-e99b4caff9bd",
   "metadata": {},
   "outputs": [
    {
     "name": "stdout",
     "output_type": "stream",
     "text": [
      "tnagar\n"
     ]
    }
   ],
   "source": [
    "print(my_list2[5][1])"
   ]
  },
  {
   "cell_type": "markdown",
   "id": "c9682095-c8d4-4ef4-bb24-5b9626930deb",
   "metadata": {},
   "source": [
    "26 Dec"
   ]
  },
  {
   "cell_type": "code",
   "execution_count": 1,
   "id": "b199d235-64b4-477a-b478-61359fa910c6",
   "metadata": {},
   "outputs": [
    {
     "name": "stdout",
     "output_type": "stream",
     "text": [
      "<class 'int'>\n",
      "<class 'float'>\n"
     ]
    }
   ],
   "source": [
    "a = 10\n",
    "b = 6.9\n",
    "print(type(a))\n",
    "print(type(b))"
   ]
  },
  {
   "cell_type": "code",
   "execution_count": 2,
   "id": "3791ac52-ada2-4151-99cd-db48b18026ed",
   "metadata": {},
   "outputs": [
    {
     "name": "stdout",
     "output_type": "stream",
     "text": [
      "2.356194490192345\n"
     ]
    }
   ],
   "source": [
    "import cmath\n",
    "\n",
    "p = cmath.phase(complex(-1.0,1))\n",
    "print(p)"
   ]
  },
  {
   "cell_type": "code",
   "execution_count": 3,
   "id": "11d551c8-72d7-49d5-86ca-9f42f6050f7e",
   "metadata": {},
   "outputs": [
    {
     "name": "stdout",
     "output_type": "stream",
     "text": [
      "0o12\n",
      "0xa\n"
     ]
    }
   ],
   "source": [
    "print(oct(a))\n",
    "print(hex(a))"
   ]
  },
  {
   "cell_type": "code",
   "execution_count": 4,
   "id": "c3224fc6-4b67-4a48-8c93-bd3ef911a1cb",
   "metadata": {},
   "outputs": [
    {
     "name": "stdout",
     "output_type": "stream",
     "text": [
      "16.9\n",
      "<class 'float'>\n"
     ]
    }
   ],
   "source": [
    "c = a+b\n",
    "print(c)\n",
    "print(type(c))"
   ]
  },
  {
   "cell_type": "code",
   "execution_count": 6,
   "id": "7aac6c6d-6d97-46d4-a1c0-4edf0b418850",
   "metadata": {},
   "outputs": [
    {
     "name": "stdout",
     "output_type": "stream",
     "text": [
      "Fita90\n",
      "<class 'int'>\n"
     ]
    }
   ],
   "source": [
    "s = \"Fita\"\n",
    "x = 90\n",
    "print(s+str(x))\n",
    "print(type(x))"
   ]
  },
  {
   "cell_type": "code",
   "execution_count": 12,
   "id": "5c4dae39-2b82-480c-9033-82e79d1c2da4",
   "metadata": {},
   "outputs": [
    {
     "ename": "NameError",
     "evalue": "name 'ceil' is not defined",
     "output_type": "error",
     "traceback": [
      "\u001b[1;31m---------------------------------------------------------------------------\u001b[0m",
      "\u001b[1;31mNameError\u001b[0m                                 Traceback (most recent call last)",
      "\u001b[1;32m~\\AppData\\Local\\Temp\\ipykernel_5124\\2336068050.py\u001b[0m in \u001b[0;36m<module>\u001b[1;34m\u001b[0m\n\u001b[0;32m      2\u001b[0m \u001b[1;33m\u001b[0m\u001b[0m\n\u001b[0;32m      3\u001b[0m \u001b[0mi\u001b[0m \u001b[1;33m=\u001b[0m \u001b[1;36m3.5\u001b[0m\u001b[1;33m\u001b[0m\u001b[1;33m\u001b[0m\u001b[0m\n\u001b[1;32m----> 4\u001b[1;33m \u001b[0mprint\u001b[0m\u001b[1;33m(\u001b[0m\u001b[0mceil\u001b[0m\u001b[1;33m(\u001b[0m\u001b[0mi\u001b[0m\u001b[1;33m)\u001b[0m\u001b[1;33m)\u001b[0m\u001b[1;33m\u001b[0m\u001b[1;33m\u001b[0m\u001b[0m\n\u001b[0m\u001b[0;32m      5\u001b[0m \u001b[0mprint\u001b[0m\u001b[1;33m(\u001b[0m\u001b[0mfloor\u001b[0m\u001b[1;33m(\u001b[0m\u001b[0mi\u001b[0m\u001b[1;33m)\u001b[0m\u001b[1;33m)\u001b[0m\u001b[1;33m\u001b[0m\u001b[1;33m\u001b[0m\u001b[0m\n",
      "\u001b[1;31mNameError\u001b[0m: name 'ceil' is not defined"
     ]
    }
   ],
   "source": [
    "import math\n",
    "\n",
    "i = 3.5\n",
    "print(ceil(i))\n",
    "print(floor(i))"
   ]
  },
  {
   "cell_type": "code",
   "execution_count": 18,
   "id": "fce2b119-f9a9-4274-ba00-13081a31ceb7",
   "metadata": {},
   "outputs": [
    {
     "name": "stdout",
     "output_type": "stream",
     "text": [
      "120\n",
      "75.66\n",
      "-75\n",
      "25.0\n",
      "2.0794415416798357\n"
     ]
    }
   ],
   "source": [
    "import math\n",
    "\n",
    "print(math.factorial(5))\n",
    "print(math.fabs(-75.66))\n",
    "print(math.trunc(-75.66))\n",
    "print(math.pow(5,2))\n",
    "print(math.log(8))"
   ]
  },
  {
   "cell_type": "code",
   "execution_count": 19,
   "id": "4f015993-44bd-4e15-a4ee-ce325e74a88c",
   "metadata": {},
   "outputs": [
    {
     "name": "stdout",
     "output_type": "stream",
     "text": [
      "(3, 7, 9, 'Fita', 18.4, 'Fita')\n",
      "<class 'tuple'>\n"
     ]
    }
   ],
   "source": [
    "#tuple\n",
    "my_tup1 = (3,7,9,\"Fita\",18.4,\"Fita\")\n",
    "print(my_tup1)\n",
    "print(type(my_tup1))"
   ]
  },
  {
   "cell_type": "code",
   "execution_count": 20,
   "id": "f7da8d16-7cd4-4c8d-8964-8503e1618cf1",
   "metadata": {},
   "outputs": [
    {
     "name": "stdout",
     "output_type": "stream",
     "text": [
      "('Batch', 21, 'Dec', 2022)\n"
     ]
    }
   ],
   "source": [
    "my_tup2 = tuple(('Batch',21,'Dec',2022))\n",
    "print(my_tup2)"
   ]
  },
  {
   "cell_type": "code",
   "execution_count": 22,
   "id": "f5b91bf9-7f07-45f2-a587-8d6e9f5dfc9f",
   "metadata": {},
   "outputs": [
    {
     "name": "stdout",
     "output_type": "stream",
     "text": [
      "<class 'tuple'>\n"
     ]
    }
   ],
   "source": [
    "my_tup3 = ('January',)\n",
    "print(type(my_tup3))"
   ]
  },
  {
   "cell_type": "code",
   "execution_count": 23,
   "id": "85f3b589-c99c-40f1-8168-bcc8b40dce91",
   "metadata": {},
   "outputs": [
    {
     "name": "stdout",
     "output_type": "stream",
     "text": [
      "6\n",
      "4\n",
      "1\n"
     ]
    }
   ],
   "source": [
    "print(len(my_tup1))\n",
    "print(len(my_tup2))\n",
    "print(len(my_tup3))"
   ]
  },
  {
   "cell_type": "code",
   "execution_count": 25,
   "id": "b0678843-63cc-46b4-9f4c-a7b76c6b8b9d",
   "metadata": {},
   "outputs": [
    {
     "name": "stdout",
     "output_type": "stream",
     "text": [
      "3\n",
      "7\n",
      "9\n",
      "Fita\n",
      "18.4\n",
      "Fita\n"
     ]
    }
   ],
   "source": [
    "for i in my_tup1:\n",
    "    print(i)"
   ]
  },
  {
   "cell_type": "code",
   "execution_count": 28,
   "id": "0524fc8a-93e3-41d3-b0e3-4e69453725ef",
   "metadata": {},
   "outputs": [
    {
     "name": "stdout",
     "output_type": "stream",
     "text": [
      "7\n",
      "18.4\n"
     ]
    }
   ],
   "source": [
    "print(my_tup1[1])\n",
    "print(my_tup1[-2])"
   ]
  },
  {
   "cell_type": "code",
   "execution_count": 29,
   "id": "6080e06d-20d4-449e-8e11-4b1685cbbd97",
   "metadata": {},
   "outputs": [
    {
     "name": "stdout",
     "output_type": "stream",
     "text": [
      "(7, 9, 'Fita')\n"
     ]
    }
   ],
   "source": [
    "print(my_tup1[1:4])"
   ]
  },
  {
   "cell_type": "code",
   "execution_count": 31,
   "id": "f1e75490-87e2-4e6c-b9e6-1254d2b3de96",
   "metadata": {},
   "outputs": [
    {
     "name": "stdout",
     "output_type": "stream",
     "text": [
      "False\n"
     ]
    }
   ],
   "source": [
    "print(17.4 in my_tup1)"
   ]
  },
  {
   "cell_type": "code",
   "execution_count": 34,
   "id": "a7a9d2b7-7b9f-45eb-803a-21c04364f611",
   "metadata": {},
   "outputs": [
    {
     "name": "stdout",
     "output_type": "stream",
     "text": [
      "[3, 7, 9, 'Fita', 18.4, 'Fita']\n",
      "(3, 7, 9, 'Fita', 18.4, 'Fita', 'Dinesh')\n"
     ]
    }
   ],
   "source": [
    "sam = list(my_tup1)\n",
    "print(sam)\n",
    "sam.append(\"Dinesh\")\n",
    "my_tup1 = tuple(sam)\n",
    "print(my_tup1)"
   ]
  },
  {
   "cell_type": "code",
   "execution_count": 37,
   "id": "551ae667-2556-4d26-a4b5-faaa5dd1343c",
   "metadata": {},
   "outputs": [
    {
     "ename": "NameError",
     "evalue": "name 'my_tup3' is not defined",
     "output_type": "error",
     "traceback": [
      "\u001b[1;31m---------------------------------------------------------------------------\u001b[0m",
      "\u001b[1;31mNameError\u001b[0m                                 Traceback (most recent call last)",
      "\u001b[1;32m~\\AppData\\Local\\Temp\\ipykernel_5124\\399447542.py\u001b[0m in \u001b[0;36m<module>\u001b[1;34m\u001b[0m\n\u001b[1;32m----> 1\u001b[1;33m \u001b[1;32mdel\u001b[0m \u001b[0mmy_tup3\u001b[0m\u001b[1;33m\u001b[0m\u001b[1;33m\u001b[0m\u001b[0m\n\u001b[0m\u001b[0;32m      2\u001b[0m \u001b[0mmy_tup1\u001b[0m\u001b[1;33m.\u001b[0m\u001b[0mpop\u001b[0m\u001b[1;33m(\u001b[0m\u001b[1;36m2\u001b[0m\u001b[1;33m)\u001b[0m\u001b[1;33m\u001b[0m\u001b[1;33m\u001b[0m\u001b[0m\n",
      "\u001b[1;31mNameError\u001b[0m: name 'my_tup3' is not defined"
     ]
    }
   ],
   "source": [
    "del my_tup3\n",
    "my_tup1.pop(2)"
   ]
  }
 ],
 "metadata": {
  "kernelspec": {
   "display_name": "Python 3 (ipykernel)",
   "language": "python",
   "name": "python3"
  },
  "language_info": {
   "codemirror_mode": {
    "name": "ipython",
    "version": 3
   },
   "file_extension": ".py",
   "mimetype": "text/x-python",
   "name": "python",
   "nbconvert_exporter": "python",
   "pygments_lexer": "ipython3",
   "version": "3.9.13"
  }
 },
 "nbformat": 4,
 "nbformat_minor": 5
}
