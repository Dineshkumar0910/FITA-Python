{
 "cells": [
  {
   "cell_type": "code",
   "execution_count": null,
   "id": "3b210cb3-8b65-4cf2-86b3-3bf35be63a4d",
   "metadata": {},
   "outputs": [],
   "source": [
    "#Print Patterns\n",
    "#1\n",
    "#12\n",
    "#123\n",
    "#1234\n",
    "#12345"
   ]
  },
  {
   "cell_type": "code",
   "execution_count": 4,
   "id": "f7fa6a8c-a5e8-48f3-b9f3-f0627243b6b9",
   "metadata": {},
   "outputs": [
    {
     "name": "stdout",
     "output_type": "stream",
     "text": [
      "1  \n",
      "1 2  \n",
      "1 2 3  \n",
      "1 2 3 4  \n",
      "1 2 3 4 5  \n"
     ]
    }
   ],
   "source": [
    "r = 5\n",
    "for i in range(1,r+1):\n",
    "    for j in range(1,i+1):\n",
    "        print(j, end=' ')\n",
    "    print(' ')"
   ]
  },
  {
   "cell_type": "code",
   "execution_count": 9,
   "id": "32f87d11-b191-4b32-acd2-e4ae4d067ae4",
   "metadata": {},
   "outputs": [
    {
     "name": "stdout",
     "output_type": "stream",
     "text": [
      "1 1 1 1 1 \n",
      "2 2 2 2 \n",
      "3 3 3 \n",
      "4 4 \n",
      "5 \n"
     ]
    }
   ],
   "source": [
    "r = 5\n",
    "x = 0\n",
    "for i in range(r,0,-1):\n",
    "    x += 1\n",
    "    for j in range(1, i+1):\n",
    "        print(x, end=' ')\n",
    "    print('\\r')"
   ]
  },
  {
   "cell_type": "code",
   "execution_count": 12,
   "id": "61376c4b-899d-4a44-a635-dbc696396ef0",
   "metadata": {},
   "outputs": [
    {
     "name": "stdout",
     "output_type": "stream",
     "text": [
      "1 2 3  \n",
      "1 2 3 4  \n",
      "1 2 3 4 5  \n",
      "1 2 3 4 5 6  \n",
      "1 2 3 4 5 6 7  \n",
      "5 4 3 2 1 \n",
      "4 3 2 1 \n",
      "3 2 1 \n",
      "2 1 \n",
      "1 \n",
      "\n"
     ]
    }
   ],
   "source": [
    "r = 5\n",
    "for i in range(1,r+1):\n",
    "    for j in range(1,i+3):\n",
    "        print(j, end=' ')\n",
    "    print(' ')\n",
    "for a in range(0, r+1):\n",
    "    for b in range(r-a, 0, -1):\n",
    "        print(b, end= ' ')\n",
    "    print()"
   ]
  },
  {
   "cell_type": "code",
   "execution_count": 13,
   "id": "a759eac9-e8af-4adc-9a9e-4d40c4a3b7c4",
   "metadata": {},
   "outputs": [
    {
     "name": "stdout",
     "output_type": "stream",
     "text": [
      "*  \n",
      "* *  \n",
      "* * *  \n",
      "* * * *  \n",
      "* * * * *  \n"
     ]
    }
   ],
   "source": [
    "r = 5\n",
    "for i in range(0,r):\n",
    "    for j in range(0,i+1):\n",
    "        print(\"*\", end=' ')\n",
    "    print(' ')"
   ]
  },
  {
   "cell_type": "code",
   "execution_count": 19,
   "id": "2076b1f9-be35-44fc-b1e4-0bd335f40476",
   "metadata": {},
   "outputs": [
    {
     "name": "stdout",
     "output_type": "stream",
     "text": [
      "        *  \n",
      "       * *  \n",
      "      * * *  \n",
      "     * * * *  \n",
      "    * * * * *  \n",
      "   * * * * * *  \n",
      "    * * * * *  \n",
      "     * * * *  \n",
      "      * * *  \n",
      "       * *  \n",
      "        *  \n"
     ]
    }
   ],
   "source": [
    "r = 5\n",
    "x = 2*r-2\n",
    "for i in range(0,r):\n",
    "    for j in range(0,x):\n",
    "        print(end=' ')\n",
    "    x = x-1\n",
    "    for j in range(0,i+1):\n",
    "        print(\"*\",end=' ')\n",
    "    print(\" \")\n",
    "\n",
    "x = r-2\n",
    "for i in range(r, -1, -1):\n",
    "    for j in range(x, 0, -1):\n",
    "        print(end=' ')\n",
    "    x= x +1\n",
    "    for j in range(0,i+1):\n",
    "        print(\"*\",end=' ')\n",
    "    print(\" \")"
   ]
  },
  {
   "cell_type": "code",
   "execution_count": 2,
   "id": "a1eb2df2-a018-4f76-9609-4a5cfcd3de92",
   "metadata": {},
   "outputs": [
    {
     "name": "stdout",
     "output_type": "stream",
     "text": [
      "        * \n",
      "      *   *\n",
      "    *       *\n",
      "  *           *\n",
      "*               *\n",
      "  *             *\n",
      "    *         *\n",
      "      *     *\n",
      "        * \n"
     ]
    }
   ],
   "source": [
    "r = 5\n",
    "i = 1\n",
    "while i<=r:\n",
    "    j=r\n",
    "    while j >i:\n",
    "        print(' ',end=' ')\n",
    "        j -= 1\n",
    "    print('*',end =' ')\n",
    "    x = 1\n",
    "    while x < 2*(i-1):\n",
    "        print(' ',end=' ')\n",
    "        x+=1\n",
    "    if i == 1:\n",
    "        print()\n",
    "    else:\n",
    "        print('*')\n",
    "    i+=1\n",
    "\n",
    "i = r -1\n",
    "while i>= 1:\n",
    "    j = r\n",
    "    while j>i:\n",
    "        print(' ',end=' ')\n",
    "        j-=1\n",
    "    print('*',end=' ')\n",
    "    x = 1\n",
    "    while x<= 2*(i-1):\n",
    "        print(' ',end=' ')\n",
    "        x+=1\n",
    "    if i == 1:\n",
    "        print()\n",
    "    else:\n",
    "        print('*')\n",
    "    i-=1"
   ]
  },
  {
   "cell_type": "code",
   "execution_count": null,
   "id": "916d9463-48e4-4436-a375-42fa61b81268",
   "metadata": {},
   "outputs": [],
   "source": []
  }
 ],
 "metadata": {
  "kernelspec": {
   "display_name": "Python 3 (ipykernel)",
   "language": "python",
   "name": "python3"
  },
  "language_info": {
   "codemirror_mode": {
    "name": "ipython",
    "version": 3
   },
   "file_extension": ".py",
   "mimetype": "text/x-python",
   "name": "python",
   "nbconvert_exporter": "python",
   "pygments_lexer": "ipython3",
   "version": "3.9.7"
  }
 },
 "nbformat": 4,
 "nbformat_minor": 5
}
