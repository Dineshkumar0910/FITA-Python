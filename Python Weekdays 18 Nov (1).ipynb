{
 "cells": [
  {
   "cell_type": "code",
   "execution_count": null,
   "id": "b1c1d3c8-a375-42bf-9283-febee594da3b",
   "metadata": {},
   "outputs": [],
   "source": [
    "#Given an integer array nums and an integer val, remove all occurrences of val in nums in-place. The relative order of the elements may be changed.\n",
    "#Since it is impossible to change the length of the array in some languages, you must instead have the result be placed in the first part of the array nums. More formally, if there are k elements after removing the duplicates, then the first k elements of nums should hold the final result. It does not matter what you leave beyond the first k elements.\n",
    "#Return k after placing the final result in the first k slots of nums.\n",
    "#Do not allocate extra space for another array. You must do this by modifying the input array in-place with O(1) extra memory."
   ]
  },
  {
   "cell_type": "code",
   "execution_count": null,
   "id": "bb9ef790-5cf3-4f9a-941b-e3043d7e5535",
   "metadata": {},
   "outputs": [],
   "source": [
    "class Solution:\n",
    "    def removeElement(self, nums: List[int], val: int) -> int:\n",
    "        while val in nums:\n",
    "            nums.remove(val)\n",
    "        return(len(nums))"
   ]
  },
  {
   "cell_type": "code",
   "execution_count": null,
   "id": "5b94f6bc-32aa-4b02-8b30-a9df2961c3cd",
   "metadata": {},
   "outputs": [],
   "source": [
    "'''Given an array of integers nums and an integer target, return indices of the two numbers such that they add up to target.\n",
    "\n",
    "You may assume that each input would have exactly one solution, and you may not use the same element twice.\n",
    "\n",
    "You can return the answer in any order."
   ]
  },
  {
   "cell_type": "code",
   "execution_count": null,
   "id": "45b651b2-4279-4867-b91c-ffc9c887e616",
   "metadata": {},
   "outputs": [],
   "source": [
    "class Solution:\n",
    "    def twoSum(self, nums: List[int], target: int) -> List[int]:\n",
    "        for i in range(len(nums)):\n",
    "            a = target - nums[i]\n",
    "            if a in nums and nums.index(a) != i:\n",
    "                return [nums.index(a), i]  "
   ]
  },
  {
   "cell_type": "code",
   "execution_count": null,
   "id": "b669d31f-6d3a-45c2-82db-1dfe4a3f72e0",
   "metadata": {},
   "outputs": [],
   "source": [
    "'''Given an integer x, return true if x is a palindrome, and false otherwise."
   ]
  },
  {
   "cell_type": "code",
   "execution_count": null,
   "id": "c6ba0e5c-9e37-4407-8152-6b3322d79437",
   "metadata": {},
   "outputs": [],
   "source": [
    "class Solution:\n",
    "    def isPalindrome(self, x: int) -> bool:\n",
    "        return str(x)[::-1] == str(x)"
   ]
  },
  {
   "cell_type": "code",
   "execution_count": 1,
   "id": "a5ab94e1",
   "metadata": {},
   "outputs": [
    {
     "name": "stdout",
     "output_type": "stream",
     "text": [
      "0 1 1 2 3 5 8 13 21 34 55 89 144 233 377 610 987 1597 2584 4181 6765 10946 17711 28657 46368 75025 121393 196418 317811 514229 832040 1346269 2178309 3524578 5702887 9227465 14930352 24157817 39088169 63245986 102334155 165580141 267914296 433494437 701408733 1134903170 1836311903 2971215073 4807526976 7778742049 12586269025 20365011074 32951280099 53316291173 86267571272 139583862445 225851433717 365435296162 591286729879 956722026041 1548008755920 2504730781961 4052739537881 6557470319842 10610209857723 17167680177565 27777890035288 44945570212853 72723460248141 117669030460994 190392490709135 308061521170129 498454011879264 806515533049393 1304969544928657 2111485077978050 3416454622906707 5527939700884757 8944394323791464 14472334024676221 23416728348467685 37889062373143906 61305790721611591 99194853094755497 160500643816367088 259695496911122585 420196140727489673 679891637638612258 1100087778366101931 1779979416004714189 2880067194370816120 4660046610375530309 7540113804746346429 12200160415121876738 19740274219868223167 31940434634990099905 51680708854858323072 83621143489848422977 135301852344706746049 218922995834555169026 "
     ]
    }
   ],
   "source": [
    "n1, n2 = 0,1\n",
    "for i in range(100):\n",
    "    print(n1, end=\" \")\n",
    "    r = n1+n2\n",
    "    n1 = n2\n",
    "    n2 = r"
   ]
  },
  {
   "cell_type": "code",
   "execution_count": 5,
   "id": "e02e2b22-6a88-47ee-b428-8072282470b7",
   "metadata": {},
   "outputs": [
    {
     "name": "stdout",
     "output_type": "stream",
     "text": [
      "Python\n",
      "Java\n",
      "I am joining Python\n",
      "I am joining Java\n"
     ]
    }
   ],
   "source": [
    "#oops\n",
    "class Courses:\n",
    "    c1 = \"Python\"\n",
    "    c2 = \"Java\"\n",
    "    def fun(din):\n",
    "        print(\"I am joining\", din.c1)\n",
    "        print(\"I am joining\", din.c2)\n",
    "\n",
    "Cou = Courses()\n",
    "print(Cou.c1)\n",
    "print(Cou.c2)\n",
    "Cou.fun()"
   ]
  },
  {
   "cell_type": "code",
   "execution_count": 7,
   "id": "12207643-f8fe-4c22-b6a8-c3e9855e2a8b",
   "metadata": {},
   "outputs": [
    {
     "name": "stdout",
     "output_type": "stream",
     "text": [
      "Hi, My name is, Dineshkumar\n",
      "<class '__main__.Myself'>\n"
     ]
    }
   ],
   "source": [
    "class Myself:\n",
    "    def __init__(self, name):\n",
    "        self.name = name\n",
    "    def wish(self):\n",
    "        print(\"Hi, My name is,\", self.name)\n",
    "\n",
    "My = Myself(\"Dineshkumar\")\n",
    "My.wish()\n",
    "print(type(My))"
   ]
  },
  {
   "cell_type": "code",
   "execution_count": 9,
   "id": "85661ac9-723f-4661-bc9d-75a25961483f",
   "metadata": {},
   "outputs": [
    {
     "name": "stdout",
     "output_type": "stream",
     "text": [
      "I am a Student\n",
      "This is destructor called\n"
     ]
    },
    {
     "ename": "NameError",
     "evalue": "name 'Stu' is not defined",
     "output_type": "error",
     "traceback": [
      "\u001b[1;31m---------------------------------------------------------------------------\u001b[0m",
      "\u001b[1;31mNameError\u001b[0m                                 Traceback (most recent call last)",
      "\u001b[1;32m~\\AppData\\Local\\Temp\\ipykernel_8780\\49717602.py\u001b[0m in \u001b[0;36m<module>\u001b[1;34m\u001b[0m\n\u001b[0;32m      7\u001b[0m \u001b[0mStu\u001b[0m \u001b[1;33m=\u001b[0m \u001b[0mStudent\u001b[0m\u001b[1;33m(\u001b[0m\u001b[1;33m)\u001b[0m\u001b[1;33m\u001b[0m\u001b[1;33m\u001b[0m\u001b[0m\n\u001b[0;32m      8\u001b[0m \u001b[1;32mdel\u001b[0m \u001b[0mStu\u001b[0m\u001b[1;33m\u001b[0m\u001b[1;33m\u001b[0m\u001b[0m\n\u001b[1;32m----> 9\u001b[1;33m \u001b[0mprint\u001b[0m\u001b[1;33m(\u001b[0m\u001b[0mtype\u001b[0m\u001b[1;33m(\u001b[0m\u001b[0mStu\u001b[0m\u001b[1;33m)\u001b[0m\u001b[1;33m)\u001b[0m\u001b[1;33m\u001b[0m\u001b[1;33m\u001b[0m\u001b[0m\n\u001b[0m",
      "\u001b[1;31mNameError\u001b[0m: name 'Stu' is not defined"
     ]
    }
   ],
   "source": [
    "class Student:\n",
    "    def __init__(self):\n",
    "        print(\"I am a Student\")\n",
    "    def __del__(self):\n",
    "        print(\"This is destructor called\")\n",
    "\n",
    "Stu = Student()\n",
    "del Stu\n",
    "print(type(Stu))"
   ]
  },
  {
   "cell_type": "markdown",
   "id": "46e911ae-572b-443e-b268-2090cee2b779",
   "metadata": {},
   "source": []
  },
  {
   "cell_type": "code",
   "execution_count": 11,
   "id": "31b5749d-bcec-4b7b-8861-7ed95fd9a90d",
   "metadata": {},
   "outputs": [
    {
     "name": "stdout",
     "output_type": "stream",
     "text": [
      "mylist2 is [2, 4, 6, 8, 2]\n"
     ]
    }
   ],
   "source": [
    "#comprehension\n",
    "mylist1 = [1,2,4,6,7,8,2,9,3,5]\n",
    "mylist2 = []\n",
    "for var in mylist1:\n",
    "    if var% 2 == 0:\n",
    "        mylist2.append(var)\n",
    "print(\"mylist2 is\", mylist2)"
   ]
  },
  {
   "cell_type": "code",
   "execution_count": 16,
   "id": "0cd98596-156a-42a3-ae40-88ba2d686e39",
   "metadata": {},
   "outputs": [
    {
     "name": "stdout",
     "output_type": "stream",
     "text": [
      "mylist2 is {8, 2, 4, 6}\n"
     ]
    }
   ],
   "source": [
    "mylist1 = [1,2,4,6,7,8,2,9,3,5]\n",
    "mylist2 = set()\n",
    "for var in mylist1:\n",
    "    if var% 2 == 0:\n",
    "        mylist2.add(var)\n",
    "print(\"mylist2 is\", mylist2)"
   ]
  },
  {
   "cell_type": "code",
   "execution_count": 14,
   "id": "f3ab89d4-daed-4e79-8f84-8f5126d2f557",
   "metadata": {},
   "outputs": [
    {
     "name": "stdout",
     "output_type": "stream",
     "text": [
      "mydict is {'TN': 'Chennai', 'KL': 'Kochin', 'AP': 'Hyderabad'}\n",
      "Chennai\n"
     ]
    }
   ],
   "source": [
    "states = [\"TN\",\"KL\",\"AP\"]\n",
    "capital = [\"Chennai\", \"Kochin\", \"Hyderabad\"]\n",
    "mydict = {}\n",
    "for (key, value) in zip(states, capital):\n",
    "    mydict[key] = value\n",
    "print(\"mydict is\", mydict)\n",
    "print(mydict['TN'])"
   ]
  }
 ],
 "metadata": {
  "kernelspec": {
   "display_name": "Python 3 (ipykernel)",
   "language": "python",
   "name": "python3"
  },
  "language_info": {
   "codemirror_mode": {
    "name": "ipython",
    "version": 3
   },
   "file_extension": ".py",
   "mimetype": "text/x-python",
   "name": "python",
   "nbconvert_exporter": "python",
   "pygments_lexer": "ipython3",
   "version": "3.9.13"
  }
 },
 "nbformat": 4,
 "nbformat_minor": 5
}
