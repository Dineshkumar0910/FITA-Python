{
 "cells": [
  {
   "cell_type": "code",
   "execution_count": null,
   "id": "b1c1d3c8-a375-42bf-9283-febee594da3b",
   "metadata": {},
   "outputs": [],
   "source": [
    "#Given an integer array nums and an integer val, remove all occurrences of val in nums in-place. The relative order of the elements may be changed.\n",
    "#Since it is impossible to change the length of the array in some languages, you must instead have the result be placed in the first part of the array nums. More formally, if there are k elements after removing the duplicates, then the first k elements of nums should hold the final result. It does not matter what you leave beyond the first k elements.\n",
    "#Return k after placing the final result in the first k slots of nums.\n",
    "#Do not allocate extra space for another array. You must do this by modifying the input array in-place with O(1) extra memory."
   ]
  },
  {
   "cell_type": "code",
   "execution_count": null,
   "id": "bb9ef790-5cf3-4f9a-941b-e3043d7e5535",
   "metadata": {},
   "outputs": [],
   "source": [
    "class Solution:\n",
    "    def removeElement(self, nums: List[int], val: int) -> int:\n",
    "        while val in nums:\n",
    "            nums.remove(val)\n",
    "        return(len(nums))"
   ]
  },
  {
   "cell_type": "code",
   "execution_count": null,
   "id": "5b94f6bc-32aa-4b02-8b30-a9df2961c3cd",
   "metadata": {},
   "outputs": [],
   "source": [
    "'''Given an array of integers nums and an integer target, return indices of the two numbers such that they add up to target.\n",
    "\n",
    "You may assume that each input would have exactly one solution, and you may not use the same element twice.\n",
    "\n",
    "You can return the answer in any order."
   ]
  },
  {
   "cell_type": "code",
   "execution_count": null,
   "id": "45b651b2-4279-4867-b91c-ffc9c887e616",
   "metadata": {},
   "outputs": [],
   "source": [
    "class Solution:\n",
    "    def twoSum(self, nums: List[int], target: int) -> List[int]:\n",
    "        for i in range(len(nums)):\n",
    "            a = target - nums[i]\n",
    "            if a in nums and nums.index(a) != i:\n",
    "                return [nums.index(a), i]  "
   ]
  },
  {
   "cell_type": "code",
   "execution_count": null,
   "id": "b669d31f-6d3a-45c2-82db-1dfe4a3f72e0",
   "metadata": {},
   "outputs": [],
   "source": [
    "'''Given an integer x, return true if x is a palindrome, and false otherwise."
   ]
  },
  {
   "cell_type": "code",
   "execution_count": null,
   "id": "c6ba0e5c-9e37-4407-8152-6b3322d79437",
   "metadata": {},
   "outputs": [],
   "source": []
  }
 ],
 "metadata": {
  "kernelspec": {
   "display_name": "Python 3 (ipykernel)",
   "language": "python",
   "name": "python3"
  },
  "language_info": {
   "codemirror_mode": {
    "name": "ipython",
    "version": 3
   },
   "file_extension": ".py",
   "mimetype": "text/x-python",
   "name": "python",
   "nbconvert_exporter": "python",
   "pygments_lexer": "ipython3",
   "version": "3.9.13"
  }
 },
 "nbformat": 4,
 "nbformat_minor": 5
}
