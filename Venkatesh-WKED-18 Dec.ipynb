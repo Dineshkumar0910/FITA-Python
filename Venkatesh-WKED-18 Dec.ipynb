{
 "cells":[
  {
   "cell_type":"markdown",
   "source":[
    "# Venkatesh-WKED"
   ],
   "attachments":{
    
   },
   "metadata":{
    "datalore":{
     "node_id":"Venkatesh-WKED",
     "type":"MD",
     "hide_input_from_viewers":false,
     "hide_output_from_viewers":false,
     "sheet_delimiter":true
    }
   }
  },
  {
   "cell_type":"code",
   "source":[
    "a = 5\n",
    "b = 9\n",
    "#Arithmetic operators\n",
    "add = a + b\n",
    "sub = a - b\n",
    "mul = a * b\n",
    "div = b \/ a\n",
    "mod = b % a\n",
    "p = a ** b\n",
    "print(add)\n",
    "print(sub)\n",
    "print(mul)\n",
    "print(div)\n",
    "print(mod)\n",
    "print(p)"
   ],
   "execution_count":1,
   "outputs":[
    {
     "name":"stdout",
     "text":[
      "14\n",
      "-4\n",
      "45\n",
      "1.8\n",
      "4\n",
      "1953125\n"
     ],
     "output_type":"stream"
    }
   ],
   "metadata":{
    "datalore":{
     "node_id":"iPj4bOWqCimYq0PDH0pWv3",
     "type":"CODE",
     "hide_input_from_viewers":false,
     "hide_output_from_viewers":false,
     "report_properties":{
      "y":0
     }
    }
   }
  },
  {
   "cell_type":"code",
   "source":[
    "#Comparison operators\n",
    "print(a<b)\n",
    "print(a<=b)\n",
    "print(a>b)\n",
    "print(a>=b)\n",
    "print(a!=b)\n",
    "print(a==b)"
   ],
   "execution_count":2,
   "outputs":[
    {
     "name":"stdout",
     "text":[
      "True\n",
      "True\n",
      "False\n",
      "False\n",
      "True\n",
      "False\n"
     ],
     "output_type":"stream"
    }
   ],
   "metadata":{
    "datalore":{
     "node_id":"BlAmJrZaw2ei3JwUJkgQ2H",
     "type":"CODE",
     "hide_input_from_viewers":true,
     "hide_output_from_viewers":true,
     "report_properties":{
      
     }
    }
   }
  },
  {
   "cell_type":"code",
   "source":[
    "#Logical operators\n",
    "print(a and b)\n",
    "print(a or b)\n",
    "print(not a)"
   ],
   "execution_count":3,
   "outputs":[
    {
     "name":"stdout",
     "text":[
      "9\n",
      "5\n",
      "False\n"
     ],
     "output_type":"stream"
    }
   ],
   "metadata":{
    "datalore":{
     "node_id":"xwTQawap3V1Q4wPMMGrtLO",
     "type":"CODE",
     "hide_input_from_viewers":true,
     "hide_output_from_viewers":true
    }
   }
  },
  {
   "cell_type":"code",
   "source":[
    "#bitwise operators\n",
    "a = 10\n",
    "b = 4\n",
    "print(a & b)\n",
    "print(a | b)\n",
    "print(~a)\n",
    "print(a ^ b)\n",
    "print(a >> 1)\n",
    "print(a << 4)"
   ],
   "execution_count":4,
   "outputs":[
    {
     "name":"stdout",
     "text":[
      "0\n",
      "14\n",
      "-11\n",
      "14\n",
      "5\n",
      "160\n"
     ],
     "output_type":"stream"
    }
   ],
   "metadata":{
    "datalore":{
     "node_id":"aoUOk8INBmQk6zrD2JWu9M",
     "type":"CODE",
     "hide_input_from_viewers":true,
     "hide_output_from_viewers":true
    }
   }
  },
  {
   "cell_type":"code",
   "source":[
    "a = 10\n",
    "b = a\n",
    "a+=a\n",
    "print(a)# a = a+a\n",
    "b-=a\n",
    "print(b)#b = b -a \n",
    "b*=a\n",
    "print(b)\n",
    "b<<=a\n",
    "print(b)"
   ],
   "execution_count":5,
   "outputs":[
    {
     "name":"stdout",
     "text":[
      "20\n",
      "-10\n",
      "-200\n",
      "-209715200\n"
     ],
     "output_type":"stream"
    }
   ],
   "metadata":{
    "datalore":{
     "node_id":"ElDMIu6vak5k4cPy6VgdZN",
     "type":"CODE",
     "hide_input_from_viewers":true,
     "hide_output_from_viewers":true
    }
   }
  },
  {
   "cell_type":"code",
   "source":[
    "#identity operators\n",
    "a = 5\n",
    "b = 2\n",
    "c = a\n",
    "print(a is not b)\n",
    "print(a is c)"
   ],
   "execution_count":6,
   "outputs":[
    {
     "name":"stdout",
     "text":[
      "True\n",
      "True\n"
     ],
     "output_type":"stream"
    }
   ],
   "metadata":{
    "datalore":{
     "node_id":"vxQzK5rXBon0nlW1pi02lU",
     "type":"CODE",
     "hide_input_from_viewers":true,
     "hide_output_from_viewers":true
    }
   }
  },
  {
   "cell_type":"code",
   "source":[
    "#Membership operators\n",
    "x = 3\n",
    "y = 5\n",
    "li = [1,3,6,8,2]\n",
    "if(x in li):\n",
    "    print(x)\n",
    "if(y in li):\n",
    "    print(\"y is not present\")"
   ],
   "execution_count":7,
   "outputs":[
    {
     "name":"stdout",
     "text":[
      "3\n"
     ],
     "output_type":"stream"
    }
   ],
   "metadata":{
    "datalore":{
     "node_id":"HMTyye24ofhu4RBR6qyMbs",
     "type":"CODE",
     "hide_input_from_viewers":true,
     "hide_output_from_viewers":true
    }
   }
  },
  {
   "cell_type":"code",
   "source":[
    "#operator precedence\n",
    "a = 10 + 20 * 30\n",
    "print(a)\n",
    "\n",
    "name = \"Dinesh\"\n",
    "age = 29\n",
    "\n",
    "if name == \"Dinesh\" or name == \"Kumar\" and age >= 20:\n",
    "    print(\"Hello Dinesh\")\n",
    "else:\n",
    "    print(\"Bye\")"
   ],
   "execution_count":8,
   "outputs":[
    {
     "name":"stdout",
     "text":[
      "610\n",
      "Hello Dinesh\n"
     ],
     "output_type":"stream"
    }
   ],
   "metadata":{
    "datalore":{
     "node_id":"BZB7CR4SKRIDciCTSD8Q4i",
     "type":"CODE",
     "hide_input_from_viewers":true,
     "hide_output_from_viewers":true
    }
   }
  },
  {
   "cell_type":"code",
   "source":[
    "#operator overloading\n",
    "print(1+2)\n",
    "print(\"Dinesh\"+\"Kumar\")\n",
    "print(\"python\"*3)"
   ],
   "execution_count":9,
   "outputs":[
    {
     "name":"stdout",
     "text":[
      "3\n",
      "DineshKumar\n",
      "pythonpythonpython\n"
     ],
     "output_type":"stream"
    }
   ],
   "metadata":{
    "datalore":{
     "node_id":"9k84sDEzzB5TJrrB9xAcm7",
     "type":"CODE",
     "hide_input_from_viewers":true,
     "hide_output_from_viewers":true
    }
   }
  },
  {
   "cell_type":"markdown",
   "source":[
    "DATA TYPES"
   ],
   "attachments":{
    
   },
   "metadata":{
    "datalore":{
     "node_id":"6Y0LI9Jbd1PzS2eDIQEteC",
     "type":"MD",
     "hide_input_from_viewers":true,
     "hide_output_from_viewers":true
    }
   }
  },
  {
   "cell_type":"code",
   "source":[
    "#Strings\n",
    "\n",
    "x = \"My class is Python\"\n",
    "y = 'Python Class'\n",
    "z = '''My class in weekend'''\n",
    "print(x, y,)"
   ],
   "execution_count":10,
   "outputs":[
    {
     "name":"stdout",
     "text":[
      "My class is Python Python Class\n"
     ],
     "output_type":"stream"
    }
   ],
   "metadata":{
    "datalore":{
     "node_id":"4O0bjTVMoCzXOJ48Z7c1oB",
     "type":"CODE",
     "hide_input_from_viewers":true,
     "hide_output_from_viewers":true
    }
   }
  },
  {
   "cell_type":"code",
   "source":[
    "#access the string\n",
    "print(x[5])\n",
    "print(y[0])\n",
    "print(z[-3])"
   ],
   "execution_count":11,
   "outputs":[
    {
     "name":"stdout",
     "text":[
      "a\n",
      "P\n",
      "e\n"
     ],
     "output_type":"stream"
    }
   ],
   "metadata":{
    "datalore":{
     "node_id":"sZIdpFJ3jXne3pF0hD9OvA",
     "type":"CODE",
     "hide_input_from_viewers":true,
     "hide_output_from_viewers":true
    }
   }
  },
  {
   "cell_type":"code",
   "source":[
    "#reversing the string\n",
    "print(x[::-1])\n",
    "q = \"\".join(reversed(x))\n",
    "print(q)"
   ],
   "execution_count":12,
   "outputs":[
    {
     "name":"stdout",
     "text":[
      "nohtyP si ssalc yM\n",
      "nohtyP si ssalc yM\n"
     ],
     "output_type":"stream"
    }
   ],
   "metadata":{
    "datalore":{
     "node_id":"E0ugdfkxYdiigTUG3MnQal",
     "type":"CODE",
     "hide_input_from_viewers":true,
     "hide_output_from_viewers":true
    }
   }
  },
  {
   "cell_type":"code",
   "source":[
    "#Slicing\n",
    "print(x[0:8])\n",
    "print(y[3:-2])"
   ],
   "execution_count":13,
   "outputs":[
    {
     "name":"stdout",
     "text":[
      "My class\n",
      "hon Cla\n"
     ],
     "output_type":"stream"
    }
   ],
   "metadata":{
    "datalore":{
     "node_id":"buFSWbKMQiztUqpc9wRJaT",
     "type":"CODE",
     "hide_input_from_viewers":true,
     "hide_output_from_viewers":true
    }
   }
  },
  {
   "cell_type":"code",
   "source":[
    "x = \"Dinesh is Python lead\"\n",
    "print(x)\n",
    "\n",
    "li1 = list(x)\n",
    "li1[6:10] = \"Kumar\"\n",
    "a = ''.join(li1)\n",
    "print(a)"
   ],
   "execution_count":14,
   "outputs":[
    {
     "name":"stdout",
     "text":[
      "Dinesh is Python lead\n",
      "DineshKumarPython lead\n"
     ],
     "output_type":"stream"
    }
   ],
   "metadata":{
    "datalore":{
     "node_id":"VbaKAMKNk9Vfoke565DohH",
     "type":"CODE",
     "hide_input_from_viewers":true,
     "hide_output_from_viewers":true
    }
   }
  },
  {
   "cell_type":"code",
   "source":[
    "x = a[0:4]+a[8:]\n",
    "print(x)\n",
    "del x"
   ],
   "execution_count":18,
   "outputs":[
    {
     "name":"stdout",
     "text":[
      "DinemarPython lead\n"
     ],
     "output_type":"stream"
    }
   ],
   "metadata":{
    "datalore":{
     "node_id":"Vkiqwaj7cA3S3p6S8bsVPL",
     "type":"CODE",
     "hide_input_from_viewers":true,
     "hide_output_from_viewers":true
    }
   }
  },
  {
   "cell_type":"code",
   "source":[
    "#List\n",
    "list1 = [1,4,5]\n",
    "list2 = list((4.5,8.9,2.4))\n",
    "list3 = [6,\"Avatar\",190.5] #Heterogeneous\n",
    "print(list1)\n",
    "print(list2)\n",
    "print(list3)\n",
    "print(type(list1))\n",
    "print(len(list3))"
   ],
   "execution_count":19,
   "outputs":[
    {
     "name":"stdout",
     "text":[
      "[1, 4, 5]\n",
      "[4.5, 8.9, 2.4]\n",
      "[6, 'Avatar', 190.5]\n",
      "<class 'list'>\n",
      "3\n"
     ],
     "output_type":"stream"
    }
   ],
   "metadata":{
    "datalore":{
     "node_id":"WUwSYjJBiM2AvuEG0Irds6",
     "type":"CODE",
     "hide_input_from_viewers":true,
     "hide_output_from_viewers":true
    }
   }
  },
  {
   "cell_type":"code",
   "source":[
    "my_list = [\"python\",\"sunday\",9,\"TNagar\",12.3]\n",
    "print(my_list[0],my_list[2]) #index access\n",
    "print(my_list[3])\n",
    "print(my_list[-2])"
   ],
   "execution_count":20,
   "outputs":[
    {
     "name":"stdout",
     "text":[
      "python 9\n",
      "TNagar\n",
      "TNagar\n"
     ],
     "output_type":"stream"
    }
   ],
   "metadata":{
    "datalore":{
     "node_id":"GOdR9DGAcJ73159JW2kLSk",
     "type":"CODE",
     "hide_input_from_viewers":true,
     "hide_output_from_viewers":true
    }
   }
  },
  {
   "cell_type":"code",
   "source":[
    "print(my_list[0::])\n",
    "print(my_list[2:])\n",
    "print(my_list[1:3])\n",
    "print(my_list[::2]) #skip\n",
    "print(my_list[-1:])\n",
    "print(my_list[::-2]) #reverse slicing"
   ],
   "execution_count":21,
   "outputs":[
    {
     "name":"stdout",
     "text":[
      "['python', 'sunday', 9, 'TNagar', 12.3]\n",
      "[9, 'TNagar', 12.3]\n",
      "['sunday', 9]\n",
      "['python', 9, 12.3]\n",
      "[12.3]\n",
      "[12.3, 9, 'python']\n"
     ],
     "output_type":"stream"
    }
   ],
   "metadata":{
    "datalore":{
     "node_id":"q4LmRRXLxWpMGe3MBk1zhC",
     "type":"CODE",
     "hide_input_from_viewers":true,
     "hide_output_from_viewers":true
    }
   }
  },
  {
   "cell_type":"code",
   "source":[
    "#List - Iteration\n",
    "for x in my_list:\n",
    "    print(x)\n",
    "\n",
    "for i in range(0, len(my_list)):\n",
    "    print(my_list[i])"
   ],
   "execution_count":22,
   "outputs":[
    {
     "name":"stdout",
     "text":[
      "python\n",
      "sunday\n",
      "9\n",
      "TNagar\n",
      "12.3\n",
      "python\n",
      "sunday\n",
      "9\n",
      "TNagar\n",
      "12.3\n"
     ],
     "output_type":"stream"
    }
   ],
   "metadata":{
    "datalore":{
     "node_id":"GUUNJX0aBAIV3DYRd3myyy",
     "type":"CODE",
     "hide_input_from_viewers":true,
     "hide_output_from_viewers":true
    }
   }
  },
  {
   "cell_type":"code",
   "source":[
    "#List - Adding, Update, Delete\n",
    "\n",
    "#append\n",
    "my_list.append(\"Level 1\") #last location\n",
    "print(my_list)\n",
    "#insert\n",
    "my_list.insert(2,40) #prefered index location\n",
    "print(my_list)\n",
    "my_list.insert(3,[\"Venkat\",25,7.5]) #creating nested list\n",
    "print(my_list)\n",
    "#extend\n",
    "my_list.extend([\"Course\",\"Fita\",1]) #exteend used to add multiple items at the last of the list\n",
    "print(my_list)"
   ],
   "execution_count":23,
   "outputs":[
    {
     "name":"stdout",
     "text":[
      "['python', 'sunday', 9, 'TNagar', 12.3, 'Level 1']\n",
      "['python', 'sunday', 40, 9, 'TNagar', 12.3, 'Level 1']\n",
      "['python', 'sunday', 40, ['Venkat', 25, 7.5], 9, 'TNagar', 12.3, 'Level 1']\n",
      "['python', 'sunday', 40, ['Venkat', 25, 7.5], 9, 'TNagar', 12.3, 'Level 1', 'Course', 'Fita', 1]\n"
     ],
     "output_type":"stream"
    }
   ],
   "metadata":{
    "datalore":{
     "node_id":"FmD4mYcFUF82xXcsXwkj4T",
     "type":"CODE",
     "hide_input_from_viewers":true,
     "hide_output_from_viewers":true
    }
   }
  },
  {
   "cell_type":"code",
   "source":[
    "#Modifying the list\n",
    "my_list[10] = \"Weekend\"\n",
    "print(my_list)\n",
    "my_list[4:6] = [\"9AM\",\"PondyBazzar\",15]\n",
    "print(my_list)\n",
    "my_list[3][2] = 100\n",
    "print(my_list)"
   ],
   "execution_count":24,
   "outputs":[
    {
     "name":"stdout",
     "text":[
      "['python', 'sunday', 40, ['Venkat', 25, 7.5], 9, 'TNagar', 12.3, 'Level 1', 'Course', 'Fita', 'Weekend']\n",
      "['python', 'sunday', 40, ['Venkat', 25, 7.5], '9AM', 'PondyBazzar', 15, 12.3, 'Level 1', 'Course', 'Fita', 'Weekend']\n",
      "['python', 'sunday', 40, ['Venkat', 25, 100], '9AM', 'PondyBazzar', 15, 12.3, 'Level 1', 'Course', 'Fita', 'Weekend']\n"
     ],
     "output_type":"stream"
    }
   ],
   "metadata":{
    "datalore":{
     "node_id":"IQxCzRTPemuuUDw19G6W7c",
     "type":"CODE",
     "hide_input_from_viewers":true,
     "hide_output_from_viewers":true
    }
   }
  },
  {
   "cell_type":"code",
   "source":[
    "my_list = ['python', 'sunday', 40, ['Venkat', 25, 100], '9AM', 'PondyBazzar', 15, 12.3, 'Level 1', 'Course', 'Fita', 'Weekend']\n",
    "#Deleting in the list\n",
    "my_list.remove(12.3) #deleting with data element\n",
    "print(my_list)\n",
    "my_list.pop(6) #deleting with index\n",
    "print(my_list)\n",
    "del my_list[7:10] #deleting reange of items\n",
    "print(my_list)\n",
    "my_list.clear() #clearing all the items in the list\n",
    "print(my_list)\n",
    "#del my_list #deleting the list itself\n",
    "#print(my_list)"
   ],
   "execution_count":30,
   "outputs":[
    {
     "name":"stdout",
     "text":[
      "['python', 'sunday', 40, ['Venkat', 25, 100], '9AM', 'PondyBazzar', 15, 'Level 1', 'Course', 'Fita', 'Weekend']\n",
      "['python', 'sunday', 40, ['Venkat', 25, 100], '9AM', 'PondyBazzar', 'Level 1', 'Course', 'Fita', 'Weekend']\n",
      "['python', 'sunday', 40, ['Venkat', 25, 100], '9AM', 'PondyBazzar', 'Level 1']\n",
      "[]\n"
     ],
     "output_type":"stream"
    }
   ],
   "metadata":{
    "datalore":{
     "node_id":"5tu1Q1ELK5yKNcwl49VLzr",
     "type":"CODE",
     "hide_input_from_viewers":true,
     "hide_output_from_viewers":true
    }
   }
  },
  {
   "cell_type":"code",
   "source":[
    "my_list2 = list2 + list1 #concatenation\n",
    "print(my_list2)\n",
    "my_list3 = []\n",
    "my_list3.extend(list3)\n",
    "print(my_list3)"
   ],
   "execution_count":31,
   "outputs":[
    {
     "name":"stdout",
     "text":[
      "[4.5, 8.9, 2.4, 1, 4, 5]\n",
      "[6, 'Avatar', 190.5]\n"
     ],
     "output_type":"stream"
    }
   ],
   "metadata":{
    "datalore":{
     "node_id":"lSDeC16Mck4gq4o0Pq4yEk",
     "type":"CODE",
     "hide_input_from_viewers":true,
     "hide_output_from_viewers":true
    }
   }
  },
  {
   "cell_type":"code",
   "source":[
    "my_list4 = my_list2 #using assignment\n",
    "print(my_list4)\n",
    "my_list5 = my_list2 + my_list3\n",
    "my_list6 = my_list5.copy() #copy the list using function\n",
    "print(my_list6)"
   ],
   "execution_count":32,
   "outputs":[
    {
     "name":"stdout",
     "text":[
      "[4.5, 8.9, 2.4, 1, 4, 5]\n",
      "[4.5, 8.9, 2.4, 1, 4, 5, 6, 'Avatar', 190.5]\n"
     ],
     "output_type":"stream"
    }
   ],
   "metadata":{
    "datalore":{
     "node_id":"ubLunQsNdDFmdD6S0Ry1HR",
     "type":"CODE",
     "hide_input_from_viewers":true,
     "hide_output_from_viewers":true
    }
   }
  },
  {
   "cell_type":"code",
   "source":[
    "my_list4.sort() #sorting\n",
    "print(my_list4)\n",
    "my_list7 = [\"apple\",\"orange\",\"banana\",\"fig\"] #sorting with string items\n",
    "my_list7.sort()\n",
    "print(my_list7)\n",
    "my_list7.reverse() #reversing the list\n",
    "print(my_list7)\n",
    "print(max(my_list4)) #maximum of list items\n",
    "print(max(my_list7))\n",
    "print(sum(my_list4))"
   ],
   "execution_count":33,
   "outputs":[
    {
     "name":"stdout",
     "text":[
      "[1, 2.4, 4, 4.5, 5, 8.9]\n",
      "['apple', 'banana', 'fig', 'orange']\n",
      "['orange', 'fig', 'banana', 'apple']\n",
      "8.9\n",
      "orange\n",
      "25.799999999999997\n"
     ],
     "output_type":"stream"
    }
   ],
   "metadata":{
    "datalore":{
     "node_id":"VmA64xuEUDojBqfuX874Gp",
     "type":"CODE",
     "hide_input_from_viewers":true,
     "hide_output_from_viewers":true
    }
   }
  },
  {
   "cell_type":"code",
   "source":[
    
   ],
   "execution_count":null,
   "outputs":[
    
   ],
   "metadata":{
    "datalore":{
     "node_id":"f1umdYRHerxmdn6DhcLK9K",
     "type":"CODE",
     "hide_input_from_viewers":true,
     "hide_output_from_viewers":true
    }
   }
  }
 ],
 "metadata":{
  "kernelspec":{
   "display_name":"Python",
   "language":"python",
   "name":"python"
  },
  "datalore":{
   "version":1,
   "computation_mode":"REACTIVE",
   "package_manager":"pip",
   "base_environment":"default",
   "packages":[
    
   ]
  }
 },
 "nbformat":4,
 "nbformat_minor":4
}