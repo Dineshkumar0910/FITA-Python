{
 "cells": [
  {
   "cell_type": "code",
   "execution_count": 17,
   "id": "c40fc30e",
   "metadata": {},
   "outputs": [
    {
     "name": "stdout",
     "output_type": "stream",
     "text": [
      "()\n",
      "(1, 2, 3, 4, 5)\n",
      "(323, 'tuple class', 4.6)\n",
      "(3, 65, [4, 7, 9], 'py')\n",
      "(2, 4, 6, 7)\n",
      "4\n",
      "('hello',)\n"
     ]
    }
   ],
   "source": [
    "#Tuple\n",
    "my_tup = ()\n",
    "print(my_tup)\n",
    "tup1 = 2,4,6,7,\n",
    "my_tup = (1,2,3,4,5)\n",
    "my_tup1 = (323, \"tuple class\", 4.6)\n",
    "my_tup2 = (3,65,[4,7,9],\"py\")\n",
    "print(my_tup)\n",
    "print(my_tup1)\n",
    "print(my_tup2)\n",
    "\n",
    "#packing\n",
    "a,b,c,d = tup1\n",
    "print(tup1)\n",
    "print(b)\n",
    "\n",
    "my_sing= (\"hello\",)\n",
    "print(my_sing)"
   ]
  },
  {
   "cell_type": "code",
   "execution_count": 22,
   "id": "8da258df",
   "metadata": {},
   "outputs": [
    {
     "name": "stdout",
     "output_type": "stream",
     "text": [
      "4.6\n",
      "9\n",
      "7\n"
     ]
    }
   ],
   "source": [
    "print(my_tup1[2])\n",
    "print(my_tup2[2][2])\n",
    "print(my_tup2[-2][1])"
   ]
  },
  {
   "cell_type": "code",
   "execution_count": 25,
   "id": "e18b7f05",
   "metadata": {},
   "outputs": [
    {
     "name": "stdout",
     "output_type": "stream",
     "text": [
      "('tuple class', 4.6)\n",
      "(323,)\n",
      "([4, 7, 9], 'py')\n",
      "[7, 9]\n"
     ]
    }
   ],
   "source": [
    "print(my_tup1[1:])\n",
    "print(my_tup1[0:1])\n",
    "print(my_tup2[-2:])\n",
    "print(my_tup2[-2][1:])"
   ]
  },
  {
   "cell_type": "code",
   "execution_count": 30,
   "id": "fe79a0f1",
   "metadata": {},
   "outputs": [
    {
     "name": "stdout",
     "output_type": "stream",
     "text": [
      "(3, 65, ['change', 7, 9], 'py')\n",
      "(3, 6, 8, 9)\n"
     ]
    }
   ],
   "source": [
    "my_tup2[2][0] = \"change\"\n",
    "print(my_tup2)\n",
    "my_tup1 = (3,6,8,9)\n",
    "print(my_tup1)"
   ]
  },
  {
   "cell_type": "code",
   "execution_count": 33,
   "id": "3055e183",
   "metadata": {},
   "outputs": [],
   "source": [
    "del my_tup1"
   ]
  },
  {
   "cell_type": "code",
   "execution_count": 34,
   "id": "33d760c8",
   "metadata": {},
   "outputs": [
    {
     "name": "stdout",
     "output_type": "stream",
     "text": [
      "(3, 65, ['change', 7, 9], 'py', 2, 4, 6, 7)\n"
     ]
    }
   ],
   "source": [
    "my_tup3 = my_tup2 + tup1\n",
    "print(my_tup3)"
   ]
  },
  {
   "cell_type": "code",
   "execution_count": 35,
   "id": "76a9c685",
   "metadata": {},
   "outputs": [
    {
     "name": "stdout",
     "output_type": "stream",
     "text": [
      "(3, 65, ['change', 7, 9], 'py', 2, 4, 6, 7, 3, 65, ['change', 7, 9], 'py', 2, 4, 6, 7, 3, 65, ['change', 7, 9], 'py', 2, 4, 6, 7)\n"
     ]
    }
   ],
   "source": [
    "print(my_tup3 * 3)"
   ]
  },
  {
   "cell_type": "code",
   "execution_count": 4,
   "id": "55300eb7",
   "metadata": {},
   "outputs": [
    {
     "name": "stdout",
     "output_type": "stream",
     "text": [
      "{8, 1, 10, 5}\n"
     ]
    }
   ],
   "source": [
    "#Set\n",
    "my_set = {10,5,1,8}\n",
    "print(my_set)"
   ]
  },
  {
   "cell_type": "code",
   "execution_count": 10,
   "id": "16defb33",
   "metadata": {},
   "outputs": [
    {
     "name": "stdout",
     "output_type": "stream",
     "text": [
      "{1, 'dinesh', 3, 5, 'set_ex', 43}\n"
     ]
    }
   ],
   "source": [
    "my_set1 = {1,\"dinesh\",3,5, \"set_ex\", 43,1,1,1}\n",
    "print(my_set1)"
   ]
  },
  {
   "cell_type": "code",
   "execution_count": 14,
   "id": "631dd176",
   "metadata": {},
   "outputs": [
    {
     "name": "stdout",
     "output_type": "stream",
     "text": [
      "{4, 7, 8, 'example', 21}\n",
      "<class 'set'>\n"
     ]
    }
   ],
   "source": [
    "my_set2 = set([4,7,8,\"example\",21])\n",
    "print(my_set2)\n",
    "print(type(my_set2))"
   ]
  },
  {
   "cell_type": "code",
   "execution_count": 15,
   "id": "22518a51-f71e-452c-8b27-8972c5d56dcb",
   "metadata": {},
   "outputs": [
    {
     "ename": "TypeError",
     "evalue": "unhashable type: 'list'",
     "output_type": "error",
     "traceback": [
      "\u001b[1;31m---------------------------------------------------------------------------\u001b[0m",
      "\u001b[1;31mTypeError\u001b[0m                                 Traceback (most recent call last)",
      "\u001b[1;32m~\\AppData\\Local\\Temp/ipykernel_9040/3967324395.py\u001b[0m in \u001b[0;36m<module>\u001b[1;34m\u001b[0m\n\u001b[1;32m----> 1\u001b[1;33m \u001b[0mmy_set3\u001b[0m \u001b[1;33m=\u001b[0m \u001b[1;33m{\u001b[0m\u001b[1;36m3\u001b[0m\u001b[1;33m,\u001b[0m\u001b[1;36m4\u001b[0m\u001b[1;33m,\u001b[0m\u001b[1;36m6\u001b[0m\u001b[1;33m,\u001b[0m\u001b[1;33m[\u001b[0m\u001b[1;36m3\u001b[0m\u001b[1;33m,\u001b[0m\u001b[1;36m6\u001b[0m\u001b[1;33m]\u001b[0m\u001b[1;33m}\u001b[0m\u001b[1;33m\u001b[0m\u001b[1;33m\u001b[0m\u001b[0m\n\u001b[0m\u001b[0;32m      2\u001b[0m \u001b[0mprint\u001b[0m\u001b[1;33m(\u001b[0m\u001b[0mmy_set3\u001b[0m\u001b[1;33m)\u001b[0m\u001b[1;33m\u001b[0m\u001b[1;33m\u001b[0m\u001b[0m\n",
      "\u001b[1;31mTypeError\u001b[0m: unhashable type: 'list'"
     ]
    }
   ],
   "source": [
    "my_set3 = {3,4,6,[3,6]}\n",
    "print(my_set3)"
   ]
  },
  {
   "cell_type": "code",
   "execution_count": 17,
   "id": "07b1620c-3570-4209-9866-a5969d6c3010",
   "metadata": {},
   "outputs": [
    {
     "name": "stdout",
     "output_type": "stream",
     "text": [
      "<class 'dict'>\n",
      "<class 'set'>\n"
     ]
    }
   ],
   "source": [
    "my_set4 = {}\n",
    "print(type(my_set4))\n",
    "my_set4 = set()\n",
    "print(type(my_set4))"
   ]
  },
  {
   "cell_type": "code",
   "execution_count": 19,
   "id": "7dbed4a4-2800-42bb-bf4d-e92f8e095fdc",
   "metadata": {},
   "outputs": [
    {
     "name": "stdout",
     "output_type": "stream",
     "text": [
      "{1, 'dinesh', 3, 5, 'set_ex', 43, 13}\n",
      "{1, 'dinesh', 3, 5, 'set_ex', 43, 13}\n",
      "{1, 3, 5, 6, 7, 13, 'dinesh', 43, 'hello', 'set_ex'}\n"
     ]
    }
   ],
   "source": [
    "print(my_set1)\n",
    "my_set1.add(13)\n",
    "print(my_set1)\n",
    "my_set1.update([\"hello\",6,7])\n",
    "print(my_set1)"
   ]
  },
  {
   "cell_type": "code",
   "execution_count": 23,
   "id": "cbfea22b-81e0-4978-a121-75829d33c5d5",
   "metadata": {},
   "outputs": [
    {
     "name": "stdout",
     "output_type": "stream",
     "text": [
      "{1, 3, 5, 6, 7, 'dinesh', 'hello', 'set_ex'}\n",
      "{1, 3, 5, 6, 'dinesh', 'hello', 'set_ex'}\n"
     ]
    }
   ],
   "source": [
    "my_set1.discard(43)\n",
    "print(my_set1)\n",
    "my_set1.remove(7)\n",
    "print(my_set1)"
   ]
  },
  {
   "cell_type": "code",
   "execution_count": 25,
   "id": "a874eef4-13b6-4e96-8478-d190ab46fbd5",
   "metadata": {},
   "outputs": [
    {
     "name": "stdout",
     "output_type": "stream",
     "text": [
      "{5, 6, 'dinesh', 'hello', 'set_ex'}\n",
      "set()\n"
     ]
    }
   ],
   "source": [
    "my_set1.pop()\n",
    "print(my_set1)\n",
    "my_set1.clear()\n",
    "print(my_set1)"
   ]
  },
  {
   "cell_type": "code",
   "execution_count": 27,
   "id": "ce774b73-36ca-4c36-bab0-d7f4efc1a478",
   "metadata": {},
   "outputs": [
    {
     "name": "stdout",
     "output_type": "stream",
     "text": [
      "{4, 21, 7, 8, 'example'}\n"
     ]
    }
   ],
   "source": [
    "print(my_set1 | my_set2) #union"
   ]
  },
  {
   "cell_type": "code",
   "execution_count": 28,
   "id": "d84bf9e0-e895-4f0f-bc68-671f39ded273",
   "metadata": {},
   "outputs": [
    {
     "name": "stdout",
     "output_type": "stream",
     "text": [
      "{0, 1, 2, 3, 4, 5, 8, 9}\n"
     ]
    }
   ],
   "source": [
    "A = {1,2,3,4,5}\n",
    "B = {4,5,8,9,0}\n",
    "print(A | B) # Union pipe"
   ]
  },
  {
   "cell_type": "code",
   "execution_count": 29,
   "id": "c446db05-1dd3-467c-baec-4523694503b0",
   "metadata": {},
   "outputs": [
    {
     "name": "stdout",
     "output_type": "stream",
     "text": [
      "{4, 5}\n"
     ]
    }
   ],
   "source": [
    "print(A & B) #intersection ambersand"
   ]
  },
  {
   "cell_type": "code",
   "execution_count": 32,
   "id": "030042b1-c73e-466f-88ec-981ff55688b5",
   "metadata": {},
   "outputs": [
    {
     "name": "stdout",
     "output_type": "stream",
     "text": [
      "{1, 2, 3}\n",
      "{0, 8, 9}\n"
     ]
    }
   ],
   "source": [
    "print(A - B)\n",
    "print(B - A) #difference minus"
   ]
  },
  {
   "cell_type": "code",
   "execution_count": 33,
   "id": "cb8a548e-4c0c-49e2-9a84-d1325873e220",
   "metadata": {},
   "outputs": [
    {
     "name": "stdout",
     "output_type": "stream",
     "text": [
      "{0, 1, 2, 3, 8, 9}\n"
     ]
    }
   ],
   "source": [
    "print(A ^ B) # symmetric difference power"
   ]
  }
 ],
 "metadata": {
  "kernelspec": {
   "display_name": "Python 3 (ipykernel)",
   "language": "python",
   "name": "python3"
  },
  "language_info": {
   "codemirror_mode": {
    "name": "ipython",
    "version": 3
   },
   "file_extension": ".py",
   "mimetype": "text/x-python",
   "name": "python",
   "nbconvert_exporter": "python",
   "pygments_lexer": "ipython3",
   "version": "3.9.7"
  }
 },
 "nbformat": 4,
 "nbformat_minor": 5
}
