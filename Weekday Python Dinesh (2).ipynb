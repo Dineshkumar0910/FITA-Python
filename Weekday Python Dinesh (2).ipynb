{
 "cells": [
  {
   "cell_type": "code",
   "execution_count": 17,
   "id": "c40fc30e",
   "metadata": {},
   "outputs": [
    {
     "name": "stdout",
     "output_type": "stream",
     "text": [
      "()\n",
      "(1, 2, 3, 4, 5)\n",
      "(323, 'tuple class', 4.6)\n",
      "(3, 65, [4, 7, 9], 'py')\n",
      "(2, 4, 6, 7)\n",
      "4\n",
      "('hello',)\n"
     ]
    }
   ],
   "source": [
    "#Tuple\n",
    "my_tup = ()\n",
    "print(my_tup)\n",
    "tup1 = 2,4,6,7,\n",
    "my_tup = (1,2,3,4,5)\n",
    "my_tup1 = (323, \"tuple class\", 4.6)\n",
    "my_tup2 = (3,65,[4,7,9],\"py\")\n",
    "print(my_tup)\n",
    "print(my_tup1)\n",
    "print(my_tup2)\n",
    "\n",
    "#packing\n",
    "a,b,c,d = tup1\n",
    "print(tup1)\n",
    "print(b)\n",
    "\n",
    "my_sing= (\"hello\",)\n",
    "print(my_sing)"
   ]
  },
  {
   "cell_type": "code",
   "execution_count": 22,
   "id": "8da258df",
   "metadata": {},
   "outputs": [
    {
     "name": "stdout",
     "output_type": "stream",
     "text": [
      "4.6\n",
      "9\n",
      "7\n"
     ]
    }
   ],
   "source": [
    "print(my_tup1[2])\n",
    "print(my_tup2[2][2])\n",
    "print(my_tup2[-2][1])"
   ]
  },
  {
   "cell_type": "code",
   "execution_count": 25,
   "id": "e18b7f05",
   "metadata": {},
   "outputs": [
    {
     "name": "stdout",
     "output_type": "stream",
     "text": [
      "('tuple class', 4.6)\n",
      "(323,)\n",
      "([4, 7, 9], 'py')\n",
      "[7, 9]\n"
     ]
    }
   ],
   "source": [
    "print(my_tup1[1:])\n",
    "print(my_tup1[0:1])\n",
    "print(my_tup2[-2:])\n",
    "print(my_tup2[-2][1:])"
   ]
  },
  {
   "cell_type": "code",
   "execution_count": 30,
   "id": "fe79a0f1",
   "metadata": {},
   "outputs": [
    {
     "name": "stdout",
     "output_type": "stream",
     "text": [
      "(3, 65, ['change', 7, 9], 'py')\n",
      "(3, 6, 8, 9)\n"
     ]
    }
   ],
   "source": [
    "my_tup2[2][0] = \"change\"\n",
    "print(my_tup2)\n",
    "my_tup1 = (3,6,8,9)\n",
    "print(my_tup1)"
   ]
  },
  {
   "cell_type": "code",
   "execution_count": 33,
   "id": "3055e183",
   "metadata": {},
   "outputs": [],
   "source": [
    "del my_tup1"
   ]
  },
  {
   "cell_type": "code",
   "execution_count": 34,
   "id": "33d760c8",
   "metadata": {},
   "outputs": [
    {
     "name": "stdout",
     "output_type": "stream",
     "text": [
      "(3, 65, ['change', 7, 9], 'py', 2, 4, 6, 7)\n"
     ]
    }
   ],
   "source": [
    "my_tup3 = my_tup2 + tup1\n",
    "print(my_tup3)"
   ]
  },
  {
   "cell_type": "code",
   "execution_count": 35,
   "id": "76a9c685",
   "metadata": {},
   "outputs": [
    {
     "name": "stdout",
     "output_type": "stream",
     "text": [
      "(3, 65, ['change', 7, 9], 'py', 2, 4, 6, 7, 3, 65, ['change', 7, 9], 'py', 2, 4, 6, 7, 3, 65, ['change', 7, 9], 'py', 2, 4, 6, 7)\n"
     ]
    }
   ],
   "source": [
    "print(my_tup3 * 3)"
   ]
  },
  {
   "cell_type": "code",
   "execution_count": 4,
   "id": "55300eb7",
   "metadata": {},
   "outputs": [
    {
     "name": "stdout",
     "output_type": "stream",
     "text": [
      "{8, 1, 10, 5}\n"
     ]
    }
   ],
   "source": [
    "#Set\n",
    "my_set = {10,5,1,8}\n",
    "print(my_set)"
   ]
  },
  {
   "cell_type": "code",
   "execution_count": 10,
   "id": "16defb33",
   "metadata": {},
   "outputs": [
    {
     "name": "stdout",
     "output_type": "stream",
     "text": [
      "{1, 'dinesh', 3, 5, 'set_ex', 43}\n"
     ]
    }
   ],
   "source": [
    "my_set1 = {1,\"dinesh\",3,5, \"set_ex\", 43,1,1,1}\n",
    "print(my_set1)"
   ]
  },
  {
   "cell_type": "code",
   "execution_count": 14,
   "id": "631dd176",
   "metadata": {},
   "outputs": [
    {
     "name": "stdout",
     "output_type": "stream",
     "text": [
      "{4, 7, 8, 'example', 21}\n",
      "<class 'set'>\n"
     ]
    }
   ],
   "source": [
    "my_set2 = set([4,7,8,\"example\",21])\n",
    "print(my_set2)\n",
    "print(type(my_set2))"
   ]
  },
  {
   "cell_type": "code",
   "execution_count": 15,
   "id": "22518a51-f71e-452c-8b27-8972c5d56dcb",
   "metadata": {},
   "outputs": [
    {
     "ename": "TypeError",
     "evalue": "unhashable type: 'list'",
     "output_type": "error",
     "traceback": [
      "\u001b[1;31m---------------------------------------------------------------------------\u001b[0m",
      "\u001b[1;31mTypeError\u001b[0m                                 Traceback (most recent call last)",
      "\u001b[1;32m~\\AppData\\Local\\Temp/ipykernel_9040/3967324395.py\u001b[0m in \u001b[0;36m<module>\u001b[1;34m\u001b[0m\n\u001b[1;32m----> 1\u001b[1;33m \u001b[0mmy_set3\u001b[0m \u001b[1;33m=\u001b[0m \u001b[1;33m{\u001b[0m\u001b[1;36m3\u001b[0m\u001b[1;33m,\u001b[0m\u001b[1;36m4\u001b[0m\u001b[1;33m,\u001b[0m\u001b[1;36m6\u001b[0m\u001b[1;33m,\u001b[0m\u001b[1;33m[\u001b[0m\u001b[1;36m3\u001b[0m\u001b[1;33m,\u001b[0m\u001b[1;36m6\u001b[0m\u001b[1;33m]\u001b[0m\u001b[1;33m}\u001b[0m\u001b[1;33m\u001b[0m\u001b[1;33m\u001b[0m\u001b[0m\n\u001b[0m\u001b[0;32m      2\u001b[0m \u001b[0mprint\u001b[0m\u001b[1;33m(\u001b[0m\u001b[0mmy_set3\u001b[0m\u001b[1;33m)\u001b[0m\u001b[1;33m\u001b[0m\u001b[1;33m\u001b[0m\u001b[0m\n",
      "\u001b[1;31mTypeError\u001b[0m: unhashable type: 'list'"
     ]
    }
   ],
   "source": [
    "my_set3 = {3,4,6,[3,6]}\n",
    "print(my_set3)"
   ]
  },
  {
   "cell_type": "code",
   "execution_count": 17,
   "id": "07b1620c-3570-4209-9866-a5969d6c3010",
   "metadata": {},
   "outputs": [
    {
     "name": "stdout",
     "output_type": "stream",
     "text": [
      "<class 'dict'>\n",
      "<class 'set'>\n"
     ]
    }
   ],
   "source": [
    "my_set4 = {}\n",
    "print(type(my_set4))\n",
    "my_set4 = set()\n",
    "print(type(my_set4))"
   ]
  },
  {
   "cell_type": "code",
   "execution_count": 19,
   "id": "7dbed4a4-2800-42bb-bf4d-e92f8e095fdc",
   "metadata": {},
   "outputs": [
    {
     "name": "stdout",
     "output_type": "stream",
     "text": [
      "{1, 'dinesh', 3, 5, 'set_ex', 43, 13}\n",
      "{1, 'dinesh', 3, 5, 'set_ex', 43, 13}\n",
      "{1, 3, 5, 6, 7, 13, 'dinesh', 43, 'hello', 'set_ex'}\n"
     ]
    }
   ],
   "source": [
    "print(my_set1)\n",
    "my_set1.add(13)\n",
    "print(my_set1)\n",
    "my_set1.update([\"hello\",6,7])\n",
    "print(my_set1)"
   ]
  },
  {
   "cell_type": "code",
   "execution_count": 23,
   "id": "cbfea22b-81e0-4978-a121-75829d33c5d5",
   "metadata": {},
   "outputs": [
    {
     "name": "stdout",
     "output_type": "stream",
     "text": [
      "{1, 3, 5, 6, 7, 'dinesh', 'hello', 'set_ex'}\n",
      "{1, 3, 5, 6, 'dinesh', 'hello', 'set_ex'}\n"
     ]
    }
   ],
   "source": [
    "my_set1.discard(43)\n",
    "print(my_set1)\n",
    "my_set1.remove(7)\n",
    "print(my_set1)"
   ]
  },
  {
   "cell_type": "code",
   "execution_count": 25,
   "id": "a874eef4-13b6-4e96-8478-d190ab46fbd5",
   "metadata": {},
   "outputs": [
    {
     "name": "stdout",
     "output_type": "stream",
     "text": [
      "{5, 6, 'dinesh', 'hello', 'set_ex'}\n",
      "set()\n"
     ]
    }
   ],
   "source": [
    "my_set1.pop()\n",
    "print(my_set1)\n",
    "my_set1.clear()\n",
    "print(my_set1)"
   ]
  },
  {
   "cell_type": "code",
   "execution_count": 27,
   "id": "ce774b73-36ca-4c36-bab0-d7f4efc1a478",
   "metadata": {},
   "outputs": [
    {
     "name": "stdout",
     "output_type": "stream",
     "text": [
      "{4, 21, 7, 8, 'example'}\n"
     ]
    }
   ],
   "source": [
    "print(my_set1 | my_set2) #union"
   ]
  },
  {
   "cell_type": "code",
   "execution_count": 28,
   "id": "d84bf9e0-e895-4f0f-bc68-671f39ded273",
   "metadata": {},
   "outputs": [
    {
     "name": "stdout",
     "output_type": "stream",
     "text": [
      "{0, 1, 2, 3, 4, 5, 8, 9}\n"
     ]
    }
   ],
   "source": [
    "A = {1,2,3,4,5}\n",
    "B = {4,5,8,9,0}\n",
    "print(A | B) # Union pipe"
   ]
  },
  {
   "cell_type": "code",
   "execution_count": 29,
   "id": "c446db05-1dd3-467c-baec-4523694503b0",
   "metadata": {},
   "outputs": [
    {
     "name": "stdout",
     "output_type": "stream",
     "text": [
      "{4, 5}\n"
     ]
    }
   ],
   "source": [
    "print(A & B) #intersection ambersand"
   ]
  },
  {
   "cell_type": "code",
   "execution_count": 32,
   "id": "030042b1-c73e-466f-88ec-981ff55688b5",
   "metadata": {},
   "outputs": [
    {
     "name": "stdout",
     "output_type": "stream",
     "text": [
      "{1, 2, 3}\n",
      "{0, 8, 9}\n"
     ]
    }
   ],
   "source": [
    "print(A - B)\n",
    "print(B - A) #difference minus"
   ]
  },
  {
   "cell_type": "code",
   "execution_count": 33,
   "id": "cb8a548e-4c0c-49e2-9a84-d1325873e220",
   "metadata": {},
   "outputs": [
    {
     "name": "stdout",
     "output_type": "stream",
     "text": [
      "{0, 1, 2, 3, 8, 9}\n"
     ]
    }
   ],
   "source": [
    "print(A ^ B) # symmetric difference power"
   ]
  },
  {
   "cell_type": "code",
   "execution_count": 3,
   "id": "19c92139-1b7d-4744-99cd-e88479f331e0",
   "metadata": {},
   "outputs": [
    {
     "name": "stdout",
     "output_type": "stream",
     "text": [
      "{1: 'Python', 2: 'Class', 3: 'Weekday'}\n",
      "<class 'dict'>\n"
     ]
    }
   ],
   "source": [
    "#Dictionary\n",
    "my_dict = {1:\"Python\", 2:\"Class\", 3:\"Weekday\"}\n",
    "print(my_dict)\n",
    "print(type(my_dict))"
   ]
  },
  {
   "cell_type": "code",
   "execution_count": 4,
   "id": "0b38af59-c462-41ab-b018-80e1350d9f8e",
   "metadata": {},
   "outputs": [
    {
     "name": "stdout",
     "output_type": "stream",
     "text": [
      "{'pyt': 'python', 1: [3, 5, 8, 1]}\n"
     ]
    }
   ],
   "source": [
    "my_dict1 = {'pyt':'python',1:[3,5,8,1]}\n",
    "print(my_dict1)"
   ]
  },
  {
   "cell_type": "code",
   "execution_count": 5,
   "id": "532ab559-d845-4f32-a299-b2a3906d0203",
   "metadata": {},
   "outputs": [
    {
     "name": "stdout",
     "output_type": "stream",
     "text": [
      "{1: 'go', 2: 'for'}\n"
     ]
    }
   ],
   "source": [
    "my_dict2 = dict({1:\"go\", 2:\"for\"})\n",
    "print(my_dict2"
   ]
  },
  {
   "cell_type": "code",
   "execution_count": 7,
   "id": "639ab5e7-27ef-40b7-8461-f14fee7e815f",
   "metadata": {},
   "outputs": [
    {
     "name": "stdout",
     "output_type": "stream",
     "text": [
      "{1: 4, 2: 5}\n"
     ]
    }
   ],
   "source": [
    "my_dict3 = dict([(1, 4), (2, 5)])\n",
    "print(my_dict3)"
   ]
  },
  {
   "cell_type": "code",
   "execution_count": 9,
   "id": "718e87f4-06d2-4fbc-ba94-572068ab4705",
   "metadata": {},
   "outputs": [
    {
     "name": "stdout",
     "output_type": "stream",
     "text": [
      "{1: 'this', 2: 'is', 3: 'python', 4: 'class', 5: {'a': 'welcome', 'b': 'to'}}\n"
     ]
    }
   ],
   "source": [
    "my_dict4 = {1: \"this\", 2: \"is\", 3: \"python\", 4:\"class\", 5:{'a': \"welcome\", 'b': \"to\"}}\n",
    "print(my_dict4)"
   ]
  },
  {
   "cell_type": "code",
   "execution_count": null,
   "id": "3781b07a-8856-400b-bfc5-44ca064085fa",
   "metadata": {},
   "outputs": [],
   "source": []
  },
  {
   "cell_type": "code",
   "execution_count": 13,
   "id": "5653081f-d1f5-4074-b735-a9db2dd5c272",
   "metadata": {},
   "outputs": [
    {
     "name": "stdout",
     "output_type": "stream",
     "text": [
      "{1: 'Python', 2: 'Monday', 3: 'Weekday'}\n",
      "{1: 'this', 2: 'is', 3: 'python', 4: {'A': 'FITA', 'B': 'Academy'}, 5: {'a': 'welcome', 'b': 'to'}}\n",
      "{1: 'this', 2: 'is', 3: 'python', 4: {'A': 'FITA', 'B': 'Academy'}, 5: {'a': 'welcome', 'b': 'to'}, 6: 'Level 1'}\n"
     ]
    }
   ],
   "source": [
    "my_dict[2] = \"Monday\"\n",
    "print(my_dict)\n",
    "my_dict4[4] = {'A':\"FITA\", 'B': \"Academy\"}\n",
    "print(my_dict4)\n",
    "my_dict4[6] = \"Level 1\"\n",
    "print(my_dict4)"
   ]
  },
  {
   "cell_type": "code",
   "execution_count": 18,
   "id": "5d247551-a73c-49de-9218-731bc20fc6be",
   "metadata": {},
   "outputs": [
    {
     "name": "stdout",
     "output_type": "stream",
     "text": [
      "{'a': 'welcome', 'b': 'to'}\n",
      "python\n",
      "FITA\n"
     ]
    }
   ],
   "source": [
    "print(my_dict4[5])\n",
    "print(my_dict4.get(3))\n",
    "print(my_dict4[4]['A'])"
   ]
  },
  {
   "cell_type": "code",
   "execution_count": 21,
   "id": "86dfcb9d-d333-4487-8d0a-fa360aecd0b3",
   "metadata": {},
   "outputs": [
    {
     "name": "stdin",
     "output_type": "stream",
     "text": [
      "{} 4,6,3\n"
     ]
    },
    {
     "name": "stdout",
     "output_type": "stream",
     "text": [
      "4,6,3\n"
     ]
    }
   ],
   "source": [
    "my_dict5 = input(dict())\n",
    "print(my_dict5)"
   ]
  },
  {
   "cell_type": "code",
   "execution_count": 39,
   "id": "32dc944d-9ee1-4f35-b077-38d6bd5b48e4",
   "metadata": {},
   "outputs": [
    {
     "name": "stdout",
     "output_type": "stream",
     "text": [
      "{1: 'this', 3: 'python', 6: 'Level 1'}\n",
      "{1: 'this', 3: 'python', 6: 'Level 1'}\n"
     ]
    }
   ],
   "source": [
    "print(my_dict4)\n",
    "my_dict4.pop(5,'a')\n",
    "print(my_dict4)"
   ]
  },
  {
   "cell_type": "code",
   "execution_count": 40,
   "id": "e6789a78-a12e-4550-92aa-05f88a9e816e",
   "metadata": {},
   "outputs": [],
   "source": [
    "my_dict4 = {1: \"this\", 2: \"is\", 3: \"python\", 4:\"class\", 5:{'a': \"welcome\", 'b': \"to\"}}"
   ]
  },
  {
   "cell_type": "code",
   "execution_count": 42,
   "id": "cf9d3cf2-8285-4037-99e4-487e27e89500",
   "metadata": {},
   "outputs": [
    {
     "name": "stdout",
     "output_type": "stream",
     "text": [
      "{1: 'this', 2: 'is', 3: 'python', 4: 'class', 5: {'a': 'welcome'}}\n"
     ]
    }
   ],
   "source": [
    "del my_dict4[5]['b']\n",
    "print(my_dict4)"
   ]
  },
  {
   "cell_type": "code",
   "execution_count": 45,
   "id": "c0135a6f-5968-4713-b8f1-375eabf8d1ac",
   "metadata": {},
   "outputs": [
    {
     "name": "stdout",
     "output_type": "stream",
     "text": [
      "{1: 'this', 2: 'is', 3: 'python', 4: 'class', 5: {'a': 'welcome'}}\n"
     ]
    }
   ],
   "source": [
    "my_dict6 = my_dict3 | my_dict4\n",
    "print(my_dict6)\n",
    "def "
   ]
  }
 ],
 "metadata": {
  "kernelspec": {
   "display_name": "Python 3 (ipykernel)",
   "language": "python",
   "name": "python3"
  },
  "language_info": {
   "codemirror_mode": {
    "name": "ipython",
    "version": 3
   },
   "file_extension": ".py",
   "mimetype": "text/x-python",
   "name": "python",
   "nbconvert_exporter": "python",
   "pygments_lexer": "ipython3",
   "version": "3.9.7"
  }
 },
 "nbformat": 4,
 "nbformat_minor": 5
}
