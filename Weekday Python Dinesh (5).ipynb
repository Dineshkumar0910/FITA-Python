{
 "cells": [
  {
   "cell_type": "code",
   "execution_count": 17,
   "id": "c40fc30e",
   "metadata": {},
   "outputs": [
    {
     "name": "stdout",
     "output_type": "stream",
     "text": [
      "()\n",
      "(1, 2, 3, 4, 5)\n",
      "(323, 'tuple class', 4.6)\n",
      "(3, 65, [4, 7, 9], 'py')\n",
      "(2, 4, 6, 7)\n",
      "4\n",
      "('hello',)\n"
     ]
    }
   ],
   "source": [
    "#Tuple\n",
    "my_tup = ()\n",
    "print(my_tup)\n",
    "tup1 = 2,4,6,7,\n",
    "my_tup = (1,2,3,4,5)\n",
    "my_tup1 = (323, \"tuple class\", 4.6)\n",
    "my_tup2 = (3,65,[4,7,9],\"py\")\n",
    "print(my_tup)\n",
    "print(my_tup1)\n",
    "print(my_tup2)\n",
    "\n",
    "#packing\n",
    "a,b,c,d = tup1\n",
    "print(tup1)\n",
    "print(b)\n",
    "\n",
    "my_sing= (\"hello\",)\n",
    "print(my_sing)"
   ]
  },
  {
   "cell_type": "code",
   "execution_count": 22,
   "id": "8da258df",
   "metadata": {},
   "outputs": [
    {
     "name": "stdout",
     "output_type": "stream",
     "text": [
      "4.6\n",
      "9\n",
      "7\n"
     ]
    }
   ],
   "source": [
    "print(my_tup1[2])\n",
    "print(my_tup2[2][2])\n",
    "print(my_tup2[-2][1])"
   ]
  },
  {
   "cell_type": "code",
   "execution_count": 25,
   "id": "e18b7f05",
   "metadata": {},
   "outputs": [
    {
     "name": "stdout",
     "output_type": "stream",
     "text": [
      "('tuple class', 4.6)\n",
      "(323,)\n",
      "([4, 7, 9], 'py')\n",
      "[7, 9]\n"
     ]
    }
   ],
   "source": [
    "print(my_tup1[1:])\n",
    "print(my_tup1[0:1])\n",
    "print(my_tup2[-2:])\n",
    "print(my_tup2[-2][1:])"
   ]
  },
  {
   "cell_type": "code",
   "execution_count": 30,
   "id": "fe79a0f1",
   "metadata": {},
   "outputs": [
    {
     "name": "stdout",
     "output_type": "stream",
     "text": [
      "(3, 65, ['change', 7, 9], 'py')\n",
      "(3, 6, 8, 9)\n"
     ]
    }
   ],
   "source": [
    "my_tup2[2][0] = \"change\"\n",
    "print(my_tup2)\n",
    "my_tup1 = (3,6,8,9)\n",
    "print(my_tup1)"
   ]
  },
  {
   "cell_type": "code",
   "execution_count": 33,
   "id": "3055e183",
   "metadata": {},
   "outputs": [],
   "source": [
    "del my_tup1"
   ]
  },
  {
   "cell_type": "code",
   "execution_count": 34,
   "id": "33d760c8",
   "metadata": {},
   "outputs": [
    {
     "name": "stdout",
     "output_type": "stream",
     "text": [
      "(3, 65, ['change', 7, 9], 'py', 2, 4, 6, 7)\n"
     ]
    }
   ],
   "source": [
    "my_tup3 = my_tup2 + tup1\n",
    "print(my_tup3)"
   ]
  },
  {
   "cell_type": "code",
   "execution_count": 35,
   "id": "76a9c685",
   "metadata": {},
   "outputs": [
    {
     "name": "stdout",
     "output_type": "stream",
     "text": [
      "(3, 65, ['change', 7, 9], 'py', 2, 4, 6, 7, 3, 65, ['change', 7, 9], 'py', 2, 4, 6, 7, 3, 65, ['change', 7, 9], 'py', 2, 4, 6, 7)\n"
     ]
    }
   ],
   "source": [
    "print(my_tup3 * 3)"
   ]
  },
  {
   "cell_type": "code",
   "execution_count": 4,
   "id": "55300eb7",
   "metadata": {},
   "outputs": [
    {
     "name": "stdout",
     "output_type": "stream",
     "text": [
      "{8, 1, 10, 5}\n"
     ]
    }
   ],
   "source": [
    "#Set\n",
    "my_set = {10,5,1,8}\n",
    "print(my_set)"
   ]
  },
  {
   "cell_type": "code",
   "execution_count": 10,
   "id": "16defb33",
   "metadata": {},
   "outputs": [
    {
     "name": "stdout",
     "output_type": "stream",
     "text": [
      "{1, 'dinesh', 3, 5, 'set_ex', 43}\n"
     ]
    }
   ],
   "source": [
    "my_set1 = {1,\"dinesh\",3,5, \"set_ex\", 43,1,1,1}\n",
    "print(my_set1)"
   ]
  },
  {
   "cell_type": "code",
   "execution_count": 14,
   "id": "631dd176",
   "metadata": {},
   "outputs": [
    {
     "name": "stdout",
     "output_type": "stream",
     "text": [
      "{4, 7, 8, 'example', 21}\n",
      "<class 'set'>\n"
     ]
    }
   ],
   "source": [
    "my_set2 = set([4,7,8,\"example\",21])\n",
    "print(my_set2)\n",
    "print(type(my_set2))"
   ]
  },
  {
   "cell_type": "code",
   "execution_count": 15,
   "id": "22518a51-f71e-452c-8b27-8972c5d56dcb",
   "metadata": {},
   "outputs": [
    {
     "ename": "TypeError",
     "evalue": "unhashable type: 'list'",
     "output_type": "error",
     "traceback": [
      "\u001b[1;31m---------------------------------------------------------------------------\u001b[0m",
      "\u001b[1;31mTypeError\u001b[0m                                 Traceback (most recent call last)",
      "\u001b[1;32m~\\AppData\\Local\\Temp/ipykernel_9040/3967324395.py\u001b[0m in \u001b[0;36m<module>\u001b[1;34m\u001b[0m\n\u001b[1;32m----> 1\u001b[1;33m \u001b[0mmy_set3\u001b[0m \u001b[1;33m=\u001b[0m \u001b[1;33m{\u001b[0m\u001b[1;36m3\u001b[0m\u001b[1;33m,\u001b[0m\u001b[1;36m4\u001b[0m\u001b[1;33m,\u001b[0m\u001b[1;36m6\u001b[0m\u001b[1;33m,\u001b[0m\u001b[1;33m[\u001b[0m\u001b[1;36m3\u001b[0m\u001b[1;33m,\u001b[0m\u001b[1;36m6\u001b[0m\u001b[1;33m]\u001b[0m\u001b[1;33m}\u001b[0m\u001b[1;33m\u001b[0m\u001b[1;33m\u001b[0m\u001b[0m\n\u001b[0m\u001b[0;32m      2\u001b[0m \u001b[0mprint\u001b[0m\u001b[1;33m(\u001b[0m\u001b[0mmy_set3\u001b[0m\u001b[1;33m)\u001b[0m\u001b[1;33m\u001b[0m\u001b[1;33m\u001b[0m\u001b[0m\n",
      "\u001b[1;31mTypeError\u001b[0m: unhashable type: 'list'"
     ]
    }
   ],
   "source": [
    "my_set3 = {3,4,6,[3,6]}\n",
    "print(my_set3)"
   ]
  },
  {
   "cell_type": "code",
   "execution_count": 17,
   "id": "07b1620c-3570-4209-9866-a5969d6c3010",
   "metadata": {},
   "outputs": [
    {
     "name": "stdout",
     "output_type": "stream",
     "text": [
      "<class 'dict'>\n",
      "<class 'set'>\n"
     ]
    }
   ],
   "source": [
    "my_set4 = {}\n",
    "print(type(my_set4))\n",
    "my_set4 = set()\n",
    "print(type(my_set4))"
   ]
  },
  {
   "cell_type": "code",
   "execution_count": 19,
   "id": "7dbed4a4-2800-42bb-bf4d-e92f8e095fdc",
   "metadata": {},
   "outputs": [
    {
     "name": "stdout",
     "output_type": "stream",
     "text": [
      "{1, 'dinesh', 3, 5, 'set_ex', 43, 13}\n",
      "{1, 'dinesh', 3, 5, 'set_ex', 43, 13}\n",
      "{1, 3, 5, 6, 7, 13, 'dinesh', 43, 'hello', 'set_ex'}\n"
     ]
    }
   ],
   "source": [
    "print(my_set1)\n",
    "my_set1.add(13)\n",
    "print(my_set1)\n",
    "my_set1.update([\"hello\",6,7])\n",
    "print(my_set1)"
   ]
  },
  {
   "cell_type": "code",
   "execution_count": 23,
   "id": "cbfea22b-81e0-4978-a121-75829d33c5d5",
   "metadata": {},
   "outputs": [
    {
     "name": "stdout",
     "output_type": "stream",
     "text": [
      "{1, 3, 5, 6, 7, 'dinesh', 'hello', 'set_ex'}\n",
      "{1, 3, 5, 6, 'dinesh', 'hello', 'set_ex'}\n"
     ]
    }
   ],
   "source": [
    "my_set1.discard(43)\n",
    "print(my_set1)\n",
    "my_set1.remove(7)\n",
    "print(my_set1)"
   ]
  },
  {
   "cell_type": "code",
   "execution_count": 25,
   "id": "a874eef4-13b6-4e96-8478-d190ab46fbd5",
   "metadata": {},
   "outputs": [
    {
     "name": "stdout",
     "output_type": "stream",
     "text": [
      "{5, 6, 'dinesh', 'hello', 'set_ex'}\n",
      "set()\n"
     ]
    }
   ],
   "source": [
    "my_set1.pop()\n",
    "print(my_set1)\n",
    "my_set1.clear()\n",
    "print(my_set1)"
   ]
  },
  {
   "cell_type": "code",
   "execution_count": 27,
   "id": "ce774b73-36ca-4c36-bab0-d7f4efc1a478",
   "metadata": {},
   "outputs": [
    {
     "name": "stdout",
     "output_type": "stream",
     "text": [
      "{4, 21, 7, 8, 'example'}\n"
     ]
    }
   ],
   "source": [
    "print(my_set1 | my_set2) #union"
   ]
  },
  {
   "cell_type": "code",
   "execution_count": 28,
   "id": "d84bf9e0-e895-4f0f-bc68-671f39ded273",
   "metadata": {},
   "outputs": [
    {
     "name": "stdout",
     "output_type": "stream",
     "text": [
      "{0, 1, 2, 3, 4, 5, 8, 9}\n"
     ]
    }
   ],
   "source": [
    "A = {1,2,3,4,5}\n",
    "B = {4,5,8,9,0}\n",
    "print(A | B) # Union pipe"
   ]
  },
  {
   "cell_type": "code",
   "execution_count": 29,
   "id": "c446db05-1dd3-467c-baec-4523694503b0",
   "metadata": {},
   "outputs": [
    {
     "name": "stdout",
     "output_type": "stream",
     "text": [
      "{4, 5}\n"
     ]
    }
   ],
   "source": [
    "print(A & B) #intersection ambersand"
   ]
  },
  {
   "cell_type": "code",
   "execution_count": 32,
   "id": "030042b1-c73e-466f-88ec-981ff55688b5",
   "metadata": {},
   "outputs": [
    {
     "name": "stdout",
     "output_type": "stream",
     "text": [
      "{1, 2, 3}\n",
      "{0, 8, 9}\n"
     ]
    }
   ],
   "source": [
    "print(A - B)\n",
    "print(B - A) #difference minus"
   ]
  },
  {
   "cell_type": "code",
   "execution_count": 33,
   "id": "cb8a548e-4c0c-49e2-9a84-d1325873e220",
   "metadata": {},
   "outputs": [
    {
     "name": "stdout",
     "output_type": "stream",
     "text": [
      "{0, 1, 2, 3, 8, 9}\n"
     ]
    }
   ],
   "source": [
    "print(A ^ B) # symmetric difference power"
   ]
  },
  {
   "cell_type": "code",
   "execution_count": 3,
   "id": "19c92139-1b7d-4744-99cd-e88479f331e0",
   "metadata": {},
   "outputs": [
    {
     "name": "stdout",
     "output_type": "stream",
     "text": [
      "{1: 'Python', 2: 'Class', 3: 'Weekday'}\n",
      "<class 'dict'>\n"
     ]
    }
   ],
   "source": [
    "#Dictionary\n",
    "my_dict = {1:\"Python\", 2:\"Class\", 3:\"Weekday\"}\n",
    "print(my_dict)\n",
    "print(type(my_dict))"
   ]
  },
  {
   "cell_type": "code",
   "execution_count": 4,
   "id": "0b38af59-c462-41ab-b018-80e1350d9f8e",
   "metadata": {},
   "outputs": [
    {
     "name": "stdout",
     "output_type": "stream",
     "text": [
      "{'pyt': 'python', 1: [3, 5, 8, 1]}\n"
     ]
    }
   ],
   "source": [
    "my_dict1 = {'pyt':'python',1:[3,5,8,1]}\n",
    "print(my_dict1)"
   ]
  },
  {
   "cell_type": "code",
   "execution_count": 5,
   "id": "532ab559-d845-4f32-a299-b2a3906d0203",
   "metadata": {},
   "outputs": [
    {
     "name": "stdout",
     "output_type": "stream",
     "text": [
      "{1: 'go', 2: 'for'}\n"
     ]
    }
   ],
   "source": [
    "my_dict2 = dict({1:\"go\", 2:\"for\"})\n",
    "print(my_dict2"
   ]
  },
  {
   "cell_type": "code",
   "execution_count": 7,
   "id": "639ab5e7-27ef-40b7-8461-f14fee7e815f",
   "metadata": {},
   "outputs": [
    {
     "name": "stdout",
     "output_type": "stream",
     "text": [
      "{1: 4, 2: 5}\n"
     ]
    }
   ],
   "source": [
    "my_dict3 = dict([(1, 4), (2, 5)])\n",
    "print(my_dict3)"
   ]
  },
  {
   "cell_type": "code",
   "execution_count": 9,
   "id": "718e87f4-06d2-4fbc-ba94-572068ab4705",
   "metadata": {},
   "outputs": [
    {
     "name": "stdout",
     "output_type": "stream",
     "text": [
      "{1: 'this', 2: 'is', 3: 'python', 4: 'class', 5: {'a': 'welcome', 'b': 'to'}}\n"
     ]
    }
   ],
   "source": [
    "my_dict4 = {1: \"this\", 2: \"is\", 3: \"python\", 4:\"class\", 5:{'a': \"welcome\", 'b': \"to\"}}\n",
    "print(my_dict4)"
   ]
  },
  {
   "cell_type": "code",
   "execution_count": null,
   "id": "3781b07a-8856-400b-bfc5-44ca064085fa",
   "metadata": {},
   "outputs": [],
   "source": []
  },
  {
   "cell_type": "code",
   "execution_count": 13,
   "id": "5653081f-d1f5-4074-b735-a9db2dd5c272",
   "metadata": {},
   "outputs": [
    {
     "name": "stdout",
     "output_type": "stream",
     "text": [
      "{1: 'Python', 2: 'Monday', 3: 'Weekday'}\n",
      "{1: 'this', 2: 'is', 3: 'python', 4: {'A': 'FITA', 'B': 'Academy'}, 5: {'a': 'welcome', 'b': 'to'}}\n",
      "{1: 'this', 2: 'is', 3: 'python', 4: {'A': 'FITA', 'B': 'Academy'}, 5: {'a': 'welcome', 'b': 'to'}, 6: 'Level 1'}\n"
     ]
    }
   ],
   "source": [
    "my_dict[2] = \"Monday\"\n",
    "print(my_dict)\n",
    "my_dict4[4] = {'A':\"FITA\", 'B': \"Academy\"}\n",
    "print(my_dict4)\n",
    "my_dict4[6] = \"Level 1\"\n",
    "print(my_dict4)"
   ]
  },
  {
   "cell_type": "code",
   "execution_count": 18,
   "id": "5d247551-a73c-49de-9218-731bc20fc6be",
   "metadata": {},
   "outputs": [
    {
     "name": "stdout",
     "output_type": "stream",
     "text": [
      "{'a': 'welcome', 'b': 'to'}\n",
      "python\n",
      "FITA\n"
     ]
    }
   ],
   "source": [
    "print(my_dict4[5])\n",
    "print(my_dict4.get(3))\n",
    "print(my_dict4[4]['A'])"
   ]
  },
  {
   "cell_type": "code",
   "execution_count": 21,
   "id": "86dfcb9d-d333-4487-8d0a-fa360aecd0b3",
   "metadata": {},
   "outputs": [
    {
     "name": "stdin",
     "output_type": "stream",
     "text": [
      "{} 4,6,3\n"
     ]
    },
    {
     "name": "stdout",
     "output_type": "stream",
     "text": [
      "4,6,3\n"
     ]
    }
   ],
   "source": [
    "my_dict5 = input(dict())\n",
    "print(my_dict5)"
   ]
  },
  {
   "cell_type": "code",
   "execution_count": 39,
   "id": "32dc944d-9ee1-4f35-b077-38d6bd5b48e4",
   "metadata": {},
   "outputs": [
    {
     "name": "stdout",
     "output_type": "stream",
     "text": [
      "{1: 'this', 3: 'python', 6: 'Level 1'}\n",
      "{1: 'this', 3: 'python', 6: 'Level 1'}\n"
     ]
    }
   ],
   "source": [
    "print(my_dict4)\n",
    "my_dict4.pop(5,'a')\n",
    "print(my_dict4)"
   ]
  },
  {
   "cell_type": "code",
   "execution_count": 40,
   "id": "e6789a78-a12e-4550-92aa-05f88a9e816e",
   "metadata": {},
   "outputs": [],
   "source": [
    "my_dict4 = {1: \"this\", 2: \"is\", 3: \"python\", 4:\"class\", 5:{'a': \"welcome\", 'b': \"to\"}}"
   ]
  },
  {
   "cell_type": "code",
   "execution_count": 42,
   "id": "cf9d3cf2-8285-4037-99e4-487e27e89500",
   "metadata": {},
   "outputs": [
    {
     "name": "stdout",
     "output_type": "stream",
     "text": [
      "{1: 'this', 2: 'is', 3: 'python', 4: 'class', 5: {'a': 'welcome'}}\n"
     ]
    }
   ],
   "source": [
    "del my_dict4[5]['b']\n",
    "print(my_dict4)"
   ]
  },
  {
   "cell_type": "code",
   "execution_count": 45,
   "id": "c0135a6f-5968-4713-b8f1-375eabf8d1ac",
   "metadata": {},
   "outputs": [
    {
     "name": "stdout",
     "output_type": "stream",
     "text": [
      "{1: 'this', 2: 'is', 3: 'python', 4: 'class', 5: {'a': 'welcome'}}\n"
     ]
    }
   ],
   "source": [
    "my_dict6 = my_dict3 | my_dict4\n",
    "print(my_dict6)\n"
   ]
  },
  {
   "cell_type": "markdown",
   "id": "97674303-7b54-423a-aa3a-8fbbfbb643ce",
   "metadata": {},
   "source": [
    "9 Nov 2022"
   ]
  },
  {
   "cell_type": "code",
   "execution_count": 3,
   "id": "4479958a-e189-4560-a9a8-51cb33b1ec13",
   "metadata": {},
   "outputs": [
    {
     "name": "stdout",
     "output_type": "stream",
     "text": [
      "False\n"
     ]
    }
   ],
   "source": [
    "a = []\n",
    "b = 5\n",
    "print(bool(a))"
   ]
  },
  {
   "cell_type": "code",
   "execution_count": 7,
   "id": "feb744bc-b7c1-4cd5-943a-244d1941e583",
   "metadata": {},
   "outputs": [
    {
     "name": "stdout",
     "output_type": "stream",
     "text": [
      "A is greater\n"
     ]
    }
   ],
   "source": [
    "a = 50\n",
    "b = 75\n",
    "if(a<b):\n",
    "    print(\"A is greater\")\n",
    "else:\n",
    "    print(\"B is greater\")"
   ]
  },
  {
   "cell_type": "code",
   "execution_count": 22,
   "id": "a56e14f9-cfff-4c37-b56b-b283d2aee292",
   "metadata": {},
   "outputs": [
    {
     "name": "stdout",
     "output_type": "stream",
     "text": [
      "x is smaller\n",
      "x is greater than 10\n"
     ]
    }
   ],
   "source": [
    "x = 19  #Nested if\n",
    "if(x == 19):\n",
    "    if(x > 15):\n",
    "        print(\"x is smaller\")\n",
    "    if(x > 15):\n",
    "        print(\"x is greater than 10\")\n",
    "    else:\n",
    "        print(x)"
   ]
  },
  {
   "cell_type": "code",
   "execution_count": 23,
   "id": "f2f366f5-5598-4d17-acbf-5e3611107dd4",
   "metadata": {},
   "outputs": [
    {
     "name": "stdout",
     "output_type": "stream",
     "text": [
      "this is else\n"
     ]
    }
   ],
   "source": [
    "y = 13 #if-else-if ladder\n",
    "if(y == 20):\n",
    "    print(\"y is 20\")\n",
    "elif(y == 15):\n",
    "    print(\"y is 15\")\n",
    "elif(y == 0):\n",
    "    print(\"y is 0\")\n",
    "else:\n",
    "    print(\"this is else\")"
   ]
  },
  {
   "cell_type": "code",
   "execution_count": 17,
   "id": "41f5e937-431e-409a-8f60-7e7bc2339a0d",
   "metadata": {},
   "outputs": [
    {
     "name": "stdout",
     "output_type": "stream",
     "text": [
      "y is not 0\n"
     ]
    }
   ],
   "source": [
    "print(y) if y < 10 else print(\"y is not 0\")"
   ]
  },
  {
   "cell_type": "code",
   "execution_count": 30,
   "id": "543b08d0-d06c-4cb9-8536-b0d8c0740686",
   "metadata": {},
   "outputs": [
    {
     "name": "stdout",
     "output_type": "stream",
     "text": [
      "False\n",
      "True\n",
      "True\n"
     ]
    }
   ],
   "source": [
    "#Chaining comparison operators\n",
    "a = 16\n",
    "print(1< a <15) #1<a and a<15\n",
    "print(a > 10 < a*5 < 120)#x>a and less than 16*5 and less than 125 \n",
    "print(a == 16 > 15)"
   ]
  },
  {
   "cell_type": "code",
   "execution_count": 32,
   "id": "5109dac9-30ae-45ad-bc17-36d0d954b826",
   "metadata": {},
   "outputs": [
    {
     "name": "stdout",
     "output_type": "stream",
     "text": [
      "fita\n",
      "academy\n",
      "python\n",
      "['fita', 'academy', 'python']\n"
     ]
    }
   ],
   "source": [
    "#For loop\n",
    "forlist = [\"fita\", \"academy\", \"python\"]\n",
    "for x in forlist:\n",
    "    print(x)\n",
    "print(forlist)"
   ]
  },
  {
   "cell_type": "code",
   "execution_count": 36,
   "id": "04a1d7bf-b5d4-43cf-883f-3b9b4339bfc4",
   "metadata": {},
   "outputs": [
    {
     "name": "stdout",
     "output_type": "stream",
     "text": [
      "t\n",
      "h\n",
      "i\n",
      "s\n",
      " \n",
      "i\n",
      "s\n",
      " \n",
      "p\n",
      "y\n",
      "t\n",
      "h\n",
      "o\n",
      "n\n",
      " \n",
      "c\n",
      "l\n",
      "a\n",
      "s\n",
      "s\n"
     ]
    }
   ],
   "source": [
    "s = \"this is python class\"\n",
    "for x in s:\n",
    "    print(x)"
   ]
  },
  {
   "cell_type": "code",
   "execution_count": 41,
   "id": "600be2d6-748e-4a1d-b557-d3cf378d6504",
   "metadata": {},
   "outputs": [
    {
     "name": "stdout",
     "output_type": "stream",
     "text": [
      "1\n",
      "4\n",
      "6\n",
      "2\n"
     ]
    }
   ],
   "source": [
    "a = [1,4,6,2]\n",
    "for x in a:\n",
    "    print(x)"
   ]
  },
  {
   "cell_type": "markdown",
   "id": "7e83de42-673b-4ced-b117-e63990ded998",
   "metadata": {},
   "source": [
    "10 Nov"
   ]
  },
  {
   "cell_type": "code",
   "execution_count": 2,
   "id": "687867ee-76ea-4d14-8fba-c21ef82937b0",
   "metadata": {},
   "outputs": [
    {
     "name": "stdout",
     "output_type": "stream",
     "text": [
      "1\n",
      "this is while\n",
      "2\n",
      "this is while\n",
      "3\n",
      "this is while\n",
      "4\n",
      "this is while\n",
      "5\n",
      "this is while\n"
     ]
    }
   ],
   "source": [
    "c = 0\n",
    "while(c<5):\n",
    "    c= c + 1\n",
    "    print(c)\n",
    "    print(\"this is while\")"
   ]
  },
  {
   "cell_type": "code",
   "execution_count": 3,
   "id": "3e8d13aa-fe5c-41ef-9784-8416b81ad80a",
   "metadata": {},
   "outputs": [
    {
     "name": "stdout",
     "output_type": "stream",
     "text": [
      "1\n",
      "2\n",
      "3\n",
      "4\n"
     ]
    }
   ],
   "source": [
    "a = [1,2,3,4]\n",
    "x = 0\n",
    "while x < len(a):\n",
    "    print(a[x])\n",
    "    x+=1"
   ]
  },
  {
   "cell_type": "code",
   "execution_count": 5,
   "id": "84d4dcaf-3abb-4f60-9b55-dff7a7b59132",
   "metadata": {},
   "outputs": [
    {
     "name": "stdout",
     "output_type": "stream",
     "text": [
      "current one F\n",
      "current one I\n",
      "current one T\n",
      "current one A\n",
      "current one  \n",
      "current one A\n",
      "current one C\n",
      "current one A\n"
     ]
    }
   ],
   "source": [
    "a = 0\n",
    "b = \"FITA ACADEMY\"\n",
    "while a < len(b):\n",
    "    if b[a] == 'D' or b[a] == 'Y':\n",
    "        a+=1\n",
    "        break\n",
    "    print('current one', b[a])\n",
    "    a+=1"
   ]
  },
  {
   "cell_type": "code",
   "execution_count": 9,
   "id": "92dc5b57-f975-49ec-a7f1-878c40a2aadb",
   "metadata": {},
   "outputs": [],
   "source": [
    "x = 4\n",
    "i = 'name'\n",
    "while x < len(i):\n",
    "    print(i[x])\n",
    "    pass"
   ]
  },
  {
   "cell_type": "code",
   "execution_count": 12,
   "id": "7b6b3213-727d-4af0-82d4-3b8556390ada",
   "metadata": {},
   "outputs": [
    {
     "name": "stdout",
     "output_type": "stream",
     "text": [
      "this is else\n"
     ]
    }
   ],
   "source": [
    "i = 5\n",
    "while i <5:\n",
    "    i+=1\n",
    "    print(i)\n",
    "else:\n",
    "    print(\"this is else\")"
   ]
  },
  {
   "cell_type": "code",
   "execution_count": 13,
   "id": "7cd0bd29-d1d8-4a1b-9445-cbd9b7668fa3",
   "metadata": {},
   "outputs": [
    {
     "name": "stdout",
     "output_type": "stream",
     "text": [
      "0 python\n",
      "1 java\n",
      "2 selenium\n"
     ]
    }
   ],
   "source": [
    "for a,b in enumerate([\"python\", \"java\", \"selenium\"]):\n",
    "    print(a,b)"
   ]
  },
  {
   "cell_type": "code",
   "execution_count": 16,
   "id": "2712ed39-c81c-4aad-8d07-292125634270",
   "metadata": {},
   "outputs": [
    {
     "name": "stdout",
     "output_type": "stream",
     "text": [
      "What is your guna? I am python.\n",
      "What is your kural? I am java.\n",
      "What is your Mani? I am RPA.\n"
     ]
    }
   ],
   "source": [
    "courses = ['python', 'java', 'RPA']\n",
    "students = ['guna', 'kural' ,'Mani']\n",
    "\n",
    "for courses, students in zip(courses, students):\n",
    "    print('What is your {1}? I am {0}.'.format(courses, students))"
   ]
  },
  {
   "cell_type": "code",
   "execution_count": 21,
   "id": "004b293e-6f48-4e04-9118-44d8ae8dbb18",
   "metadata": {},
   "outputs": [
    {
     "name": "stdout",
     "output_type": "stream",
     "text": [
      "1 2 2 4 6 7 9 10 7 9 10 2 1 6 4 2 [10, 9, 7, 6, 4, 2, 2, 1]\n"
     ]
    }
   ],
   "source": [
    "x = [2,4,6,1,2,10,9,7]\n",
    "for i in sorted(x):\n",
    "    print(i, end=' ')\n",
    "for i in reversed(x):\n",
    "    print(i, end = ' ')\n",
    "print(sorted(x, reverse=True))"
   ]
  },
  {
   "cell_type": "code",
   "execution_count": 33,
   "id": "66180ac8-edcb-435b-9a98-25979a9d788e",
   "metadata": {},
   "outputs": [
    {
     "name": "stdout",
     "output_type": "stream",
     "text": [
      "[1, 2, 3, 4, 5]\n"
     ]
    }
   ],
   "source": [
    "x = [1,2,3,4]\n",
    "for i in range(1):\n",
    "    x.append(5)\n",
    "print(x)"
   ]
  },
  {
   "cell_type": "code",
   "execution_count": null,
   "id": "9ebb564a-f281-4499-bc2b-b9c1cf594a79",
   "metadata": {},
   "outputs": [],
   "source": [
    "a = [1,2,3]\n",
    "n = 0\n",
    "for i in a:\n",
    "    if len(str(i)) < 2:\n",
    "        a.insert(i,n)\n",
    "print(a)"
   ]
  },
  {
   "cell_type": "markdown",
   "id": "7b2f5191-03ad-44fb-9684-5d0d3e7787f2",
   "metadata": {},
   "source": [
    "14 Nov"
   ]
  },
  {
   "cell_type": "code",
   "execution_count": 5,
   "id": "5de9461f-4536-4281-9976-72784fef5ddb",
   "metadata": {},
   "outputs": [
    {
     "name": "stdout",
     "output_type": "stream",
     "text": [
      "15\n"
     ]
    }
   ],
   "source": [
    "#Functions\n",
    "def add(n1, n2): #n1, n2 are parameters\n",
    "    n3 = n1+n2\n",
    "    return n3\n",
    "n1, n2 = 5, 10\n",
    "a = add(n1, n2)\n",
    "print(a)"
   ]
  },
  {
   "cell_type": "code",
   "execution_count": 6,
   "id": "52c390cf-dca6-4d90-88dd-1a8e73b47bca",
   "metadata": {},
   "outputs": [
    {
     "name": "stdout",
     "output_type": "stream",
     "text": [
      "odd\n"
     ]
    }
   ],
   "source": [
    "def Oddeven(x):\n",
    "    if(x%2==0):\n",
    "        print(\"even\")\n",
    "    else:\n",
    "        print(\"odd\")\n",
    "\n",
    "Oddeven(5) #arguments"
   ]
  },
  {
   "cell_type": "code",
   "execution_count": 7,
   "id": "c07f4c1a-74fe-4fc6-8fdb-8db766e72c7e",
   "metadata": {},
   "outputs": [
    {
     "name": "stdin",
     "output_type": "stream",
     "text": [
      "enter start 2\n",
      "enter end 16\n"
     ]
    },
    {
     "name": "stdout",
     "output_type": "stream",
     "text": [
      "2 4 6 8 10 12 14 16 "
     ]
    }
   ],
   "source": [
    "a = int(input(\"enter start\"))\n",
    "b = int(input(\"enter end\"))\n",
    "\n",
    "for n in range(a, b+1):\n",
    "    if n % 2 == 0:\n",
    "        print(n, end = \" \")"
   ]
  },
  {
   "cell_type": "code",
   "execution_count": 10,
   "id": "c00d7c99-fc95-4c67-bf55-eb7773f0b16e",
   "metadata": {},
   "outputs": [
    {
     "name": "stdout",
     "output_type": "stream",
     "text": [
      "4 6 8 10 12 14 "
     ]
    }
   ],
   "source": [
    "def Oddeven(a, b):\n",
    "    if a>b:\n",
    "        return\n",
    "    print(a, end=\" \")\n",
    "    return Oddeven(a+2,b)\n",
    "\n",
    "a=4; b=15\n",
    "Oddeven(a,b)"
   ]
  },
  {
   "cell_type": "code",
   "execution_count": 20,
   "id": "ae2699aa-1f2f-40de-9803-a4f65b5f64c0",
   "metadata": {},
   "outputs": [
    {
     "name": "stdout",
     "output_type": "stream",
     "text": [
      "10\n",
      "5\n",
      "asdf\n",
      "7\n",
      "python\n",
      "5\n",
      "json\n",
      "100\n"
     ]
    }
   ],
   "source": [
    "def din(x, y = 5):  #default argument\n",
    "    print(x)\n",
    "    print(y)\n",
    "\n",
    "din(10)\n",
    "din(\"asdf\",7)\n",
    "din(x = \"python\")\n",
    "din(y=100, x=\"json\") "
   ]
  },
  {
   "cell_type": "code",
   "execution_count": 28,
   "id": "23a45478-1a89-424b-946b-f48ca9ea218c",
   "metadata": {},
   "outputs": [
    {
     "name": "stdout",
     "output_type": "stream",
     "text": [
      "4\n",
      "2\n",
      "1\n",
      "4\n",
      "2\n",
      "1\n"
     ]
    }
   ],
   "source": [
    "def tna(): #generators\n",
    "    yield 4\n",
    "    yield 2\n",
    "    yield 1\n",
    "for a in tna():\n",
    "    print(a)\n",
    "x = tna()\n",
    "print(next(x))\n",
    "print(next(x))\n",
    "print(next(x))"
   ]
  },
  {
   "cell_type": "code",
   "execution_count": 29,
   "id": "9e9af122-efbe-4015-bef9-164a9bed813d",
   "metadata": {},
   "outputs": [
    {
     "name": "stdout",
     "output_type": "stream",
     "text": [
      "16\n",
      "8\n"
     ]
    }
   ],
   "source": [
    "#lambda\n",
    "def squ(x):\n",
    "    return x*x\n",
    "\n",
    "lambda_squ = lambda n: n * 2\n",
    "\n",
    "print(squ(4))\n",
    "\n",
    "print(lambda_squ(4))"
   ]
  }
 ],
 "metadata": {
  "kernelspec": {
   "display_name": "Python 3 (ipykernel)",
   "language": "python",
   "name": "python3"
  },
  "language_info": {
   "codemirror_mode": {
    "name": "ipython",
    "version": 3
   },
   "file_extension": ".py",
   "mimetype": "text/x-python",
   "name": "python",
   "nbconvert_exporter": "python",
   "pygments_lexer": "ipython3",
   "version": "3.9.7"
  },
  "toc-showmarkdowntxt": true
 },
 "nbformat": 4,
 "nbformat_minor": 5
}
