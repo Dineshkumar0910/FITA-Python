{
 "cells": [
  {
   "cell_type": "code",
   "execution_count": 1,
   "id": "7310fc00-c3e4-4b6a-be1f-3da8de5fe968",
   "metadata": {},
   "outputs": [
    {
     "name": "stdout",
     "output_type": "stream",
     "text": [
      "Python class\n",
      "Student is Bharath\n"
     ]
    }
   ],
   "source": [
    "#Strings\n",
    "string1 = \"Python class\"\n",
    "string2 = \"Student is Bharath\"\n",
    "print(string1)\n",
    "print(string2)"
   ]
  },
  {
   "cell_type": "code",
   "execution_count": 3,
   "id": "9d271e71-a4b4-4c11-9668-00bef90a007a",
   "metadata": {},
   "outputs": [
    {
     "name": "stdout",
     "output_type": "stream",
     "text": [
      "h\n",
      "r\n"
     ]
    }
   ],
   "source": [
    "print(string1[3]) #Accessing the strings using index\n",
    "print(string2[-4])"
   ]
  },
  {
   "cell_type": "code",
   "execution_count": 4,
   "id": "560b7410-158e-4e03-83e9-80462fd51fa1",
   "metadata": {},
   "outputs": [
    {
     "name": "stdout",
     "output_type": "stream",
     "text": [
      "ssalc nohtyP\n"
     ]
    }
   ],
   "source": [
    "print(string1[::-1]) #reversing using index"
   ]
  },
  {
   "cell_type": "code",
   "execution_count": 7,
   "id": "a10e684e-adf5-4f52-8456-bebe8abf3920",
   "metadata": {},
   "outputs": [
    {
     "name": "stdout",
     "output_type": "stream",
     "text": [
      "ython c\n",
      "hon cla\n"
     ]
    }
   ],
   "source": [
    "#slicing\n",
    "print(string1[1:8])\n",
    "print(string1[3:-2])"
   ]
  },
  {
   "cell_type": "code",
   "execution_count": 16,
   "id": "7df3f4db-7381-4de9-a259-8ba68c149afa",
   "metadata": {},
   "outputs": [
    {
     "name": "stdout",
     "output_type": "stream",
     "text": [
      "<class 'int'>\n",
      "<class 'str'>\n",
      "python class at weekends\n",
      "python class at weekends\n",
      " atweekends\n"
     ]
    }
   ],
   "source": [
    "#Update and Delete\n",
    "a = 53\n",
    "print(type(a))\n",
    "name = \"bharath\"\n",
    "print(type(name))\n",
    "print(string1)\n",
    "string1 = \"python class at weekends\"\n",
    "print(string1)\n",
    "string3 = string1[12:15] + string1[16:]\n",
    "print(string3)\n",
    "del string3"
   ]
  },
  {
   "cell_type": "code",
   "execution_count": 18,
   "id": "510bb6d3-cb59-4235-8d42-c0323350803e",
   "metadata": {},
   "outputs": [
    {
     "name": "stdout",
     "output_type": "stream",
     "text": [
      "\n",
      " This is String class\t python class at weekends\n"
     ]
    }
   ],
   "source": [
    "print(\"\\n This is String class\" \"\\t\", string1 )"
   ]
  },
  {
   "cell_type": "code",
   "execution_count": 22,
   "id": "b2e5c7e9-6517-49cf-acef-fb8c36dbc33e",
   "metadata": {},
   "outputs": [
    {
     "name": "stdout",
     "output_type": "stream",
     "text": [
      "class python saturday\n"
     ]
    }
   ],
   "source": [
    "string4 = \"{1} {0} {2}\".format('python','class','saturday')\n",
    "print(string4)"
   ]
  },
  {
   "cell_type": "code",
   "execution_count": 32,
   "id": "a216ba00-40c0-4827-9e10-9e6790e47d65",
   "metadata": {},
   "outputs": [
    {
     "name": "stdout",
     "output_type": "stream",
     "text": [
      "PYTHON CLASS AT WEEKENDS\n",
      "False\n"
     ]
    }
   ],
   "source": [
    "print(string1.upper())\n",
    "print(string1.isspace())"
   ]
  },
  {
   "cell_type": "code",
   "execution_count": 44,
   "id": "66f3cbe5-3c41-4c89-b96f-2c4adcb98ce6",
   "metadata": {},
   "outputs": [
    {
     "name": "stdout",
     "output_type": "stream",
     "text": [
      "2\n",
      "4\n"
     ]
    }
   ],
   "source": [
    "str5 = \"class\"\n",
    "print(str5.find(\"a\", 0, 10))\n",
    "print(str5.rfind(\"s\", 0, 10))"
   ]
  },
  {
   "cell_type": "code",
   "execution_count": 51,
   "id": "097d08be-1fbf-4fea-8990-74b897937664",
   "metadata": {},
   "outputs": [
    {
     "name": "stdout",
     "output_type": "stream",
     "text": [
      "24\n",
      "1\n",
      "python class at weekends\n"
     ]
    }
   ],
   "source": [
    "print(len(string1))\n",
    "print(string1.count(\"class\",0 ,25))"
   ]
  },
  {
   "cell_type": "code",
   "execution_count": 52,
   "id": "c45a615b-7101-4d44-8634-0016754376ab",
   "metadata": {},
   "outputs": [
    {
     "name": "stdout",
     "output_type": "stream",
     "text": [
      "python class at weekends\n"
     ]
    }
   ],
   "source": [
    "print(string1.ljust(20,\"-\"))"
   ]
  },
  {
   "cell_type": "code",
   "execution_count": 53,
   "id": "e239ab1c-856d-4bae-a21a-e44a8e614f28",
   "metadata": {},
   "outputs": [
    {
     "name": "stdout",
     "output_type": "stream",
     "text": [
      "p**y**t**h**o**n** **c**l**a**s**s** **a**t** **w**e**e**k**e**n**d**s\n"
     ]
    }
   ],
   "source": [
    "str6 = \"**\"\n",
    "print(str6.join(string1))"
   ]
  },
  {
   "cell_type": "code",
   "execution_count": 58,
   "id": "8242f58a-e11c-4cb0-9c6e-635f657c1662",
   "metadata": {},
   "outputs": [
    {
     "name": "stdout",
     "output_type": "stream",
     "text": [
      "Python class\n",
      "***Python class\n",
      " \n"
     ]
    }
   ],
   "source": [
    "str7 = \"***Python class***\"\n",
    "print(str7.strip('*'))\n",
    "print(str7.rstrip('*'))"
   ]
  },
  {
   "cell_type": "code",
   "execution_count": 61,
   "id": "763a02a8-f973-47dd-95e9-f12ea9229c25",
   "metadata": {},
   "outputs": [
    {
     "name": "stdout",
     "output_type": "stream",
     "text": [
      " \n"
     ]
    }
   ],
   "source": [
    "print(min(str7))"
   ]
  },
  {
   "cell_type": "code",
   "execution_count": 62,
   "id": "230a287b-f5f7-424a-b065-072df84c6907",
   "metadata": {},
   "outputs": [
    {
     "name": "stdout",
     "output_type": "stream",
     "text": [
      "anagram\n"
     ]
    }
   ],
   "source": [
    "def fun(s1,s2):\n",
    "    if(sorted(s1)==sorted(s2)):\n",
    "        print(\"anagram\")\n",
    "    else:\n",
    "        print(\"it is not anagramm\")\n",
    "\n",
    "s1 = \"tab\"\n",
    "s2 = \"bat\"\n",
    "fun(s1,s2)"
   ]
  },
  {
   "cell_type": "code",
   "execution_count": 5,
   "id": "07c29d2d-ac99-4cb3-bc00-8acb61ed852d",
   "metadata": {},
   "outputs": [
    {
     "name": "stdout",
     "output_type": "stream",
     "text": [
      "[1, 4, 6, 8, 0]\n",
      "<class 'list'>\n",
      "<class 'list'>\n"
     ]
    }
   ],
   "source": [
    "#list\n",
    "mylist1 = [1,4,6,8,0] #creating the list\n",
    "mylist2 = [] #empty list\n",
    "print(mylist1) #printing the list\n",
    "print(type(mylist1)) #finding the datatype\n",
    "print(type(mylist2))"
   ]
  },
  {
   "cell_type": "code",
   "execution_count": 8,
   "id": "7adf7f23-ba1e-48cc-82fc-1c692a09d006",
   "metadata": {},
   "outputs": [
    {
     "name": "stdout",
     "output_type": "stream",
     "text": [
      "[4, 12.5, 'python']\n"
     ]
    }
   ],
   "source": [
    "mylist2 = [4,12.5,\"python\"]\n",
    "print(mylist2)"
   ]
  },
  {
   "cell_type": "code",
   "execution_count": 10,
   "id": "eff7a638-2efc-40d3-8638-bc0973328f36",
   "metadata": {},
   "outputs": [
    {
     "name": "stdout",
     "output_type": "stream",
     "text": [
      "[3, 5, ['java', 'python'], 10, 4.5, 10]\n"
     ]
    }
   ],
   "source": [
    "mylist3 = [3,5,[\"java\",\"python\"],10,4.5,10] #Nested list\n",
    "print(mylist3)"
   ]
  },
  {
   "cell_type": "code",
   "execution_count": 13,
   "id": "80983e9a-100b-4bdf-afda-dd894fbc68ce",
   "metadata": {},
   "outputs": [
    {
     "name": "stdout",
     "output_type": "stream",
     "text": [
      "8\n",
      "python\n",
      "['java', 'python']\n",
      "0\n",
      "12.5\n",
      "10\n",
      "python\n"
     ]
    }
   ],
   "source": [
    "#Accessing the list elements\n",
    "print(mylist1[3])\n",
    "print(mylist2[2])\n",
    "print(mylist3[2])\n",
    "#negative indexing\n",
    "print(mylist1[-1])\n",
    "print(mylist2[-2])\n",
    "print(mylist3[-3])\n",
    "#nested list access\n",
    "print(mylist3[2][1])"
   ]
  },
  {
   "cell_type": "code",
   "execution_count": 15,
   "id": "3e9770a4-ef74-4515-ae34-3c684f27b585",
   "metadata": {},
   "outputs": [
    {
     "name": "stdout",
     "output_type": "stream",
     "text": [
      "[['gopi', 'vinoth'], [3, 7], ['chennai', 'kochin']]\n",
      "['chennai', 'kochin']\n",
      "vinoth\n"
     ]
    }
   ],
   "source": [
    "mylist4 = [[\"gopi\",\"vinoth\"],[3,7],[\"chennai\",\"kochin\"]] #multidimensional list\n",
    "print(mylist4)\n",
    "print(mylist4[2])\n",
    "print(mylist4[0][1])"
   ]
  },
  {
   "cell_type": "code",
   "execution_count": 17,
   "id": "60408c0f-3785-43d5-9cff-485359f7a58c",
   "metadata": {},
   "outputs": [
    {
     "name": "stdin",
     "output_type": "stream",
     "text": [
      "Enter the data:  python, java\n"
     ]
    },
    {
     "name": "stdout",
     "output_type": "stream",
     "text": [
      "['python,', 'java']\n",
      "<class 'list'>\n"
     ]
    }
   ],
   "source": [
    "mylist5 = input(\"Enter the data: \")\n",
    "conli = mylist5.split()\n",
    "print(conli)\n",
    "print(type(conli))"
   ]
  },
  {
   "cell_type": "code",
   "execution_count": 18,
   "id": "df9db677-65d9-4dea-9b61-46b553de9e76",
   "metadata": {},
   "outputs": [
    {
     "name": "stdout",
     "output_type": "stream",
     "text": [
      "5\n",
      "3\n",
      "6\n",
      "3\n"
     ]
    }
   ],
   "source": [
    "print(len(mylist1))\n",
    "print(len(mylist2))\n",
    "print(len(mylist3))\n",
    "print(len(mylist4))"
   ]
  },
  {
   "cell_type": "code",
   "execution_count": 19,
   "id": "876abfa6-4cac-4022-badc-6447d40783ec",
   "metadata": {},
   "outputs": [
    {
     "name": "stdout",
     "output_type": "stream",
     "text": [
      "[1, 4, 6, 8, 0, 50]\n",
      "[4, 12.5, 'python', 9.5]\n",
      "[3, 5, ['java', 'python'], 10, 4.5, 10, 'sunday class']\n",
      "[['gopi', 'vinoth'], [3, 7], ['chennai', 'kochin'], 34]\n"
     ]
    }
   ],
   "source": [
    "mylist1.append(50)\n",
    "mylist2.append(9.5)\n",
    "mylist3.append(\"sunday class\")\n",
    "mylist4.append(34)\n",
    "print(mylist1)\n",
    "print(mylist2)\n",
    "print(mylist3)\n",
    "print(mylist4)"
   ]
  },
  {
   "cell_type": "code",
   "execution_count": 20,
   "id": "4c597a10-f3f3-46da-811b-3c5811a9ee19",
   "metadata": {},
   "outputs": [
    {
     "name": "stdout",
     "output_type": "stream",
     "text": [
      "[1, 4, 6, 8, 25, 0, 50]\n"
     ]
    }
   ],
   "source": [
    "mylist1.insert(4,25)\n",
    "print(mylist1)"
   ]
  },
  {
   "cell_type": "code",
   "execution_count": 21,
   "id": "a9afb1e0-79ab-43f2-b73b-dca3bb206416",
   "metadata": {},
   "outputs": [
    {
     "name": "stdout",
     "output_type": "stream",
     "text": [
      "[1, 4, 6, 8, 25, 0, 50, 'weekend', '10AM', 2]\n"
     ]
    }
   ],
   "source": [
    "mylist1.extend([\"weekend\",\"10AM\",2])\n",
    "print(mylist1)"
   ]
  },
  {
   "cell_type": "code",
   "execution_count": 24,
   "id": "89b086ba-befb-4635-adf9-1db7f456aa4e",
   "metadata": {},
   "outputs": [
    {
     "name": "stdout",
     "output_type": "stream",
     "text": [
      "[2, '10AM', 'weekend', 50, 0, 25, 8, 6, 4, 1]\n"
     ]
    }
   ],
   "source": [
    "mylist5 = mylist1\n",
    "mylist5.reverse()\n",
    "print(mylist5)"
   ]
  },
  {
   "cell_type": "code",
   "execution_count": 29,
   "id": "df216a9d-2d99-47fc-9035-b8bf263b7ab6",
   "metadata": {},
   "outputs": [
    {
     "name": "stdout",
     "output_type": "stream",
     "text": [
      "[2, 'weekend', 50, 25, 8, 6, 4, 1]\n"
     ]
    }
   ],
   "source": [
    "mylist1.remove(0)\n",
    "print(mylist1)"
   ]
  },
  {
   "cell_type": "code",
   "execution_count": 30,
   "id": "9aad5d0a-f7a8-4a91-bc50-b0897a478123",
   "metadata": {},
   "outputs": [
    {
     "name": "stdout",
     "output_type": "stream",
     "text": [
      "[2, 'weekend', 50, 25, 8, 6, 4]\n"
     ]
    }
   ],
   "source": [
    "mylist1.pop()\n",
    "print(mylist1)"
   ]
  },
  {
   "cell_type": "code",
   "execution_count": 42,
   "id": "2619551d-a318-4cef-87d8-395c2eb8bc53",
   "metadata": {},
   "outputs": [
    {
     "name": "stdout",
     "output_type": "stream",
     "text": [
      "['weekend', 50, 25, 8, 6, 4]\n",
      "[2]\n",
      "[8, 6, 4]\n",
      "['weekend', 50, 25]\n",
      "[25, 8]\n"
     ]
    }
   ],
   "source": [
    "#slicing\n",
    "print(mylist1[1:])\n",
    "print(mylist1[:1])\n",
    "print(mylist1[-3:])\n",
    "print(mylist1[1:4])\n",
    "print(mylist1[3:-2])"
   ]
  },
  {
   "cell_type": "code",
   "execution_count": 45,
   "id": "419ebdd7-7c13-4df8-92e8-5a18c7c5e364",
   "metadata": {},
   "outputs": [
    {
     "name": "stdout",
     "output_type": "stream",
     "text": [
      "[2, 'weekend', 50, 25, 8, 6, 4, 4, 12.5, 'python', 9.5, 4, 12.5, 'python', 9.5, 2, 'weekend', 50, 25, 8, 6, 4, 4, 12.5, 'python', 9.5, 4, 12.5, 'python', 9.5, 4, 12.5, 'python', 9.5]\n",
      "[2, 'weekend', 50, 25, 8, 6, 4, 4, 12.5, 'python', 9.5, 4, 12.5, 'python', 9.5, 2, 'weekend', 50, 25, 8, 6, 4, 4, 12.5, 'python', 9.5, 4, 12.5, 'python', 9.5, 4, 12.5, 'python', 9.5, 2, 'weekend', 50, 25, 8, 6, 4, 4, 12.5, 'python', 9.5, 4, 12.5, 'python', 9.5, 2, 'weekend', 50, 25, 8, 6, 4, 4, 12.5, 'python', 9.5, 4, 12.5, 'python', 9.5, 4, 12.5, 'python', 9.5]\n"
     ]
    }
   ],
   "source": [
    "mylist1 = mylist1 + mylist2\n",
    "print(mylist1)\n",
    "mylist1 = mylist1 *2\n",
    "print(mylist1)"
   ]
  },
  {
   "cell_type": "code",
   "execution_count": 48,
   "id": "340ec77b-a792-4005-bfd5-a90e3c172935",
   "metadata": {},
   "outputs": [
    {
     "name": "stdout",
     "output_type": "stream",
     "text": [
      "True\n",
      "False\n"
     ]
    }
   ],
   "source": [
    "print(\"python\" in mylist1)\n",
    "print(\"java\" in mylist1)"
   ]
  },
  {
   "cell_type": "code",
   "execution_count": 52,
   "id": "509b7d42-f6b5-43ff-b5f6-0daa4b0aba06",
   "metadata": {},
   "outputs": [
    {
     "ename": "NameError",
     "evalue": "name 'mylist1' is not defined",
     "output_type": "error",
     "traceback": [
      "\u001b[1;31m---------------------------------------------------------------------------\u001b[0m",
      "\u001b[1;31mNameError\u001b[0m                                 Traceback (most recent call last)",
      "\u001b[1;32m~\\AppData\\Local\\Temp\\ipykernel_2236\\1402478994.py\u001b[0m in \u001b[0;36m<module>\u001b[1;34m\u001b[0m\n\u001b[1;32m----> 1\u001b[1;33m \u001b[0mmylist1\u001b[0m\u001b[1;33m.\u001b[0m\u001b[0mclear\u001b[0m\u001b[1;33m(\u001b[0m\u001b[1;33m)\u001b[0m\u001b[1;33m\u001b[0m\u001b[1;33m\u001b[0m\u001b[0m\n\u001b[0m\u001b[0;32m      2\u001b[0m \u001b[0mprint\u001b[0m\u001b[1;33m(\u001b[0m\u001b[0mmylist1\u001b[0m\u001b[1;33m)\u001b[0m\u001b[1;33m\u001b[0m\u001b[1;33m\u001b[0m\u001b[0m\n\u001b[0;32m      3\u001b[0m \u001b[1;32mdel\u001b[0m \u001b[0mmylist1\u001b[0m\u001b[1;33m\u001b[0m\u001b[1;33m\u001b[0m\u001b[0m\n\u001b[0;32m      4\u001b[0m \u001b[0mprint\u001b[0m\u001b[1;33m(\u001b[0m\u001b[0mmylist1\u001b[0m\u001b[1;33m)\u001b[0m\u001b[1;33m\u001b[0m\u001b[1;33m\u001b[0m\u001b[0m\n",
      "\u001b[1;31mNameError\u001b[0m: name 'mylist1' is not defined"
     ]
    }
   ],
   "source": [
    "mylist1.clear()\n",
    "print(mylist1)\n",
    "del mylist1\n",
    "print(mylist1)"
   ]
  }
 ],
 "metadata": {
  "kernelspec": {
   "display_name": "Python 3 (ipykernel)",
   "language": "python",
   "name": "python3"
  },
  "language_info": {
   "codemirror_mode": {
    "name": "ipython",
    "version": 3
   },
   "file_extension": ".py",
   "mimetype": "text/x-python",
   "name": "python",
   "nbconvert_exporter": "python",
   "pygments_lexer": "ipython3",
   "version": "3.9.13"
  }
 },
 "nbformat": 4,
 "nbformat_minor": 5
}
