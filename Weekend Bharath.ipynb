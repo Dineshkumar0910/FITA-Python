{
 "cells": [
  {
   "cell_type": "code",
   "execution_count": 1,
   "id": "7310fc00-c3e4-4b6a-be1f-3da8de5fe968",
   "metadata": {},
   "outputs": [
    {
     "name": "stdout",
     "output_type": "stream",
     "text": [
      "Python class\n",
      "Student is Bharath\n"
     ]
    }
   ],
   "source": [
    "#Strings\n",
    "string1 = \"Python class\"\n",
    "string2 = \"Student is Bharath\"\n",
    "print(string1)\n",
    "print(string2)"
   ]
  },
  {
   "cell_type": "code",
   "execution_count": 3,
   "id": "9d271e71-a4b4-4c11-9668-00bef90a007a",
   "metadata": {},
   "outputs": [
    {
     "name": "stdout",
     "output_type": "stream",
     "text": [
      "h\n",
      "r\n"
     ]
    }
   ],
   "source": [
    "print(string1[3]) #Accessing the strings using index\n",
    "print(string2[-4])"
   ]
  },
  {
   "cell_type": "code",
   "execution_count": 4,
   "id": "560b7410-158e-4e03-83e9-80462fd51fa1",
   "metadata": {},
   "outputs": [
    {
     "name": "stdout",
     "output_type": "stream",
     "text": [
      "ssalc nohtyP\n"
     ]
    }
   ],
   "source": [
    "print(string1[::-1]) #reversing using index"
   ]
  },
  {
   "cell_type": "code",
   "execution_count": 7,
   "id": "a10e684e-adf5-4f52-8456-bebe8abf3920",
   "metadata": {},
   "outputs": [
    {
     "name": "stdout",
     "output_type": "stream",
     "text": [
      "ython c\n",
      "hon cla\n"
     ]
    }
   ],
   "source": [
    "#slicing\n",
    "print(string1[1:8])\n",
    "print(string1[3:-2])"
   ]
  },
  {
   "cell_type": "code",
   "execution_count": 16,
   "id": "7df3f4db-7381-4de9-a259-8ba68c149afa",
   "metadata": {},
   "outputs": [
    {
     "name": "stdout",
     "output_type": "stream",
     "text": [
      "<class 'int'>\n",
      "<class 'str'>\n",
      "python class at weekends\n",
      "python class at weekends\n",
      " atweekends\n"
     ]
    }
   ],
   "source": [
    "#Update and Delete\n",
    "a = 53\n",
    "print(type(a))\n",
    "name = \"bharath\"\n",
    "print(type(name))\n",
    "print(string1)\n",
    "string1 = \"python class at weekends\"\n",
    "print(string1)\n",
    "string3 = string1[12:15] + string1[16:]\n",
    "print(string3)\n",
    "del string3"
   ]
  },
  {
   "cell_type": "code",
   "execution_count": 18,
   "id": "510bb6d3-cb59-4235-8d42-c0323350803e",
   "metadata": {},
   "outputs": [
    {
     "name": "stdout",
     "output_type": "stream",
     "text": [
      "\n",
      " This is String class\t python class at weekends\n"
     ]
    }
   ],
   "source": [
    "print(\"\\n This is String class\" \"\\t\", string1 )"
   ]
  },
  {
   "cell_type": "code",
   "execution_count": 22,
   "id": "b2e5c7e9-6517-49cf-acef-fb8c36dbc33e",
   "metadata": {},
   "outputs": [
    {
     "name": "stdout",
     "output_type": "stream",
     "text": [
      "class python saturday\n"
     ]
    }
   ],
   "source": [
    "string4 = \"{1} {0} {2}\".format('python','class','saturday')\n",
    "print(string4)"
   ]
  },
  {
   "cell_type": "code",
   "execution_count": 32,
   "id": "a216ba00-40c0-4827-9e10-9e6790e47d65",
   "metadata": {},
   "outputs": [
    {
     "name": "stdout",
     "output_type": "stream",
     "text": [
      "PYTHON CLASS AT WEEKENDS\n",
      "False\n"
     ]
    }
   ],
   "source": [
    "print(string1.upper())\n",
    "print(string1.isspace())"
   ]
  },
  {
   "cell_type": "code",
   "execution_count": 44,
   "id": "66f3cbe5-3c41-4c89-b96f-2c4adcb98ce6",
   "metadata": {},
   "outputs": [
    {
     "name": "stdout",
     "output_type": "stream",
     "text": [
      "2\n",
      "4\n"
     ]
    }
   ],
   "source": [
    "str5 = \"class\"\n",
    "print(str5.find(\"a\", 0, 10))\n",
    "print(str5.rfind(\"s\", 0, 10))"
   ]
  },
  {
   "cell_type": "code",
   "execution_count": 51,
   "id": "097d08be-1fbf-4fea-8990-74b897937664",
   "metadata": {},
   "outputs": [
    {
     "name": "stdout",
     "output_type": "stream",
     "text": [
      "24\n",
      "1\n",
      "python class at weekends\n"
     ]
    }
   ],
   "source": [
    "print(len(string1))\n",
    "print(string1.count(\"class\",0 ,25))"
   ]
  },
  {
   "cell_type": "code",
   "execution_count": 52,
   "id": "c45a615b-7101-4d44-8634-0016754376ab",
   "metadata": {},
   "outputs": [
    {
     "name": "stdout",
     "output_type": "stream",
     "text": [
      "python class at weekends\n"
     ]
    }
   ],
   "source": [
    "print(string1.ljust(20,\"-\"))"
   ]
  },
  {
   "cell_type": "code",
   "execution_count": 53,
   "id": "e239ab1c-856d-4bae-a21a-e44a8e614f28",
   "metadata": {},
   "outputs": [
    {
     "name": "stdout",
     "output_type": "stream",
     "text": [
      "p**y**t**h**o**n** **c**l**a**s**s** **a**t** **w**e**e**k**e**n**d**s\n"
     ]
    }
   ],
   "source": [
    "str6 = \"**\"\n",
    "print(str6.join(string1))"
   ]
  },
  {
   "cell_type": "code",
   "execution_count": 58,
   "id": "8242f58a-e11c-4cb0-9c6e-635f657c1662",
   "metadata": {},
   "outputs": [
    {
     "name": "stdout",
     "output_type": "stream",
     "text": [
      "Python class\n",
      "***Python class\n",
      " \n"
     ]
    }
   ],
   "source": [
    "str7 = \"***Python class***\"\n",
    "print(str7.strip('*'))\n",
    "print(str7.rstrip('*'))"
   ]
  },
  {
   "cell_type": "code",
   "execution_count": 61,
   "id": "763a02a8-f973-47dd-95e9-f12ea9229c25",
   "metadata": {},
   "outputs": [
    {
     "name": "stdout",
     "output_type": "stream",
     "text": [
      " \n"
     ]
    }
   ],
   "source": [
    "print(min(str7))"
   ]
  },
  {
   "cell_type": "code",
   "execution_count": 62,
   "id": "230a287b-f5f7-424a-b065-072df84c6907",
   "metadata": {},
   "outputs": [
    {
     "name": "stdout",
     "output_type": "stream",
     "text": [
      "anagram\n"
     ]
    }
   ],
   "source": [
    "def fun(s1,s2):\n",
    "    if(sorted(s1)==sorted(s2)):\n",
    "        print(\"anagram\")\n",
    "    else:\n",
    "        print(\"it is not anagramm\")\n",
    "\n",
    "s1 = \"tab\"\n",
    "s2 = \"bat\"\n",
    "fun(s1,s2)"
   ]
  }
 ],
 "metadata": {
  "kernelspec": {
   "display_name": "Python 3 (ipykernel)",
   "language": "python",
   "name": "python3"
  },
  "language_info": {
   "codemirror_mode": {
    "name": "ipython",
    "version": 3
   },
   "file_extension": ".py",
   "mimetype": "text/x-python",
   "name": "python",
   "nbconvert_exporter": "python",
   "pygments_lexer": "ipython3",
   "version": "3.9.13"
  }
 },
 "nbformat": 4,
 "nbformat_minor": 5
}
