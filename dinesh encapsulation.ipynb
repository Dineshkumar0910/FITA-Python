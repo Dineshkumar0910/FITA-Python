{
 "cells": [
  {
   "cell_type": "code",
   "execution_count": 2,
   "id": "c1d3c292-ef03-4b9b-ac7c-62906af16022",
   "metadata": {},
   "outputs": [
    {
     "name": "stdout",
     "output_type": "stream",
     "text": [
      "Name: Dinesh Salary: 87000\n",
      "Working in Microsoft\n"
     ]
    }
   ],
   "source": [
    "#Encapsulation\n",
    "class emp:\n",
    "    def __init__(self, name, salary, pro):\n",
    "        self.name = name\n",
    "        self.salary = salary\n",
    "        self.pro = pro\n",
    "    def fun(self):\n",
    "        print(\"Name:\", self.name,\"Salary:\",self.salary)\n",
    "    def proj(self):\n",
    "        print(\"Working in\", self.pro)\n",
    "\n",
    "em = emp(\"Dinesh\",87000,\"Microsoft\")\n",
    "em.fun()\n",
    "em.proj()"
   ]
  },
  {
   "cell_type": "code",
   "execution_count": 8,
   "id": "172178eb-7247-4eea-95c6-5f335fbf0b59",
   "metadata": {},
   "outputs": [
    {
     "name": "stdout",
     "output_type": "stream",
     "text": [
      "55000\n",
      "Lokesh\n"
     ]
    }
   ],
   "source": [
    "#access modifiers- private, public, protected\n",
    "class Employee: #private\n",
    "    def __init__(self,name,salary):\n",
    "        self.name = name\n",
    "        self.__salary = salary #private menmber\n",
    "        print(salary)\n",
    "\n",
    "em = Employee(\"Lokesh\", 55000)\n",
    "print(em.name)\n",
    "#print(\"salary\", em.__salary)"
   ]
  },
  {
   "cell_type": "code",
   "execution_count": 11,
   "id": "ab295861-ec1b-4b66-ab0b-4c88d6cb2e20",
   "metadata": {},
   "outputs": [
    {
     "name": "stdout",
     "output_type": "stream",
     "text": [
      "Emp name: Fahad\n",
      "Working in: Microsoft\n",
      "Project is: Microsoft\n"
     ]
    }
   ],
   "source": [
    "class Comp:\n",
    "    def __init__(self):\n",
    "        self.pro = \"Microsoft\"\n",
    "class Employee(Comp):\n",
    "    def __init__(self,name):\n",
    "        self.name = name\n",
    "        Comp.__init__(self)\n",
    "    def fun(self):\n",
    "        print(\"Emp name:\",self.name)\n",
    "        print(\"Working in:\", self.pro)\n",
    "\n",
    "e = Employee(\"Fahad\")\n",
    "e.fun()\n",
    "print(\"Project is:\", e.pro)"
   ]
  },
  {
   "cell_type": "code",
   "execution_count": null,
   "id": "dcb2813f-6d4f-4b02-9e13-a2beda475f6d",
   "metadata": {},
   "outputs": [],
   "source": []
  }
 ],
 "metadata": {
  "kernelspec": {
   "display_name": "Python 3 (ipykernel)",
   "language": "python",
   "name": "python3"
  },
  "language_info": {
   "codemirror_mode": {
    "name": "ipython",
    "version": 3
   },
   "file_extension": ".py",
   "mimetype": "text/x-python",
   "name": "python",
   "nbconvert_exporter": "python",
   "pygments_lexer": "ipython3",
   "version": "3.9.7"
  }
 },
 "nbformat": 4,
 "nbformat_minor": 5
}
